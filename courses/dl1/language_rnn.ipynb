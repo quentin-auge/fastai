{
 "cells": [
  {
   "cell_type": "code",
   "execution_count": 1,
   "metadata": {},
   "outputs": [],
   "source": [
    "%matplotlib inline\n",
    "%reload_ext autoreload\n",
    "%autoreload 2"
   ]
  },
  {
   "cell_type": "code",
   "execution_count": 2,
   "metadata": {},
   "outputs": [],
   "source": [
    "import itertools"
   ]
  },
  {
   "cell_type": "code",
   "execution_count": 3,
   "metadata": {},
   "outputs": [],
   "source": [
    "import numpy as np"
   ]
  },
  {
   "cell_type": "code",
   "execution_count": 4,
   "metadata": {},
   "outputs": [],
   "source": [
    "from sklearn.model_selection import train_test_split\n",
    "from sklearn.metrics import confusion_matrix"
   ]
  },
  {
   "cell_type": "code",
   "execution_count": 5,
   "metadata": {},
   "outputs": [],
   "source": [
    "from matplotlib import pyplot as plt"
   ]
  },
  {
   "cell_type": "code",
   "execution_count": 6,
   "metadata": {},
   "outputs": [],
   "source": [
    "import torch\n",
    "from torch import nn\n",
    "from torch.nn import functional as F\n",
    "from torch.autograd import Variable\n",
    "from torch.nn.utils.rnn import pack_padded_sequence, pad_packed_sequence"
   ]
  },
  {
   "cell_type": "code",
   "execution_count": 7,
   "metadata": {},
   "outputs": [],
   "source": [
    "from words import *"
   ]
  },
  {
   "cell_type": "code",
   "execution_count": null,
   "metadata": {},
   "outputs": [],
   "source": []
  },
  {
   "cell_type": "code",
   "execution_count": null,
   "metadata": {},
   "outputs": [],
   "source": []
  },
  {
   "cell_type": "markdown",
   "metadata": {},
   "source": [
    "# Get data"
   ]
  },
  {
   "cell_type": "code",
   "execution_count": 8,
   "metadata": {},
   "outputs": [],
   "source": [
    "MAX_LEN = 15"
   ]
  },
  {
   "cell_type": "code",
   "execution_count": 9,
   "metadata": {},
   "outputs": [
    {
     "data": {
      "text/plain": [
       "['de', 'en', 'fr', 'it', 'sp']"
      ]
     },
     "execution_count": 9,
     "metadata": {},
     "output_type": "execute_result"
    }
   ],
   "source": [
    "langs = sorted(['en', 'de', 'fr', 'it', 'sp'])\n",
    "langs"
   ]
  },
  {
   "cell_type": "code",
   "execution_count": 10,
   "metadata": {},
   "outputs": [],
   "source": [
    "idx_to_lang = dict(enumerate(langs))\n",
    "lang_to_idx = {lang: idx for idx, lang in idx_to_lang.items()}"
   ]
  },
  {
   "cell_type": "code",
   "execution_count": 11,
   "metadata": {},
   "outputs": [
    {
     "name": "stdout",
     "output_type": "stream",
     "text": [
      "{0: 'de', 1: 'en', 2: 'fr', 3: 'it', 4: 'sp'}\n",
      "{'de': 0, 'en': 1, 'fr': 2, 'it': 3, 'sp': 4}\n"
     ]
    }
   ],
   "source": [
    "print(idx_to_lang)\n",
    "print(lang_to_idx)"
   ]
  },
  {
   "cell_type": "code",
   "execution_count": 12,
   "metadata": {},
   "outputs": [],
   "source": [
    "filepaths = get_filepaths(*langs)\n",
    "df = read_data(filepaths)\n",
    "df = filter_data(df, min_len=4, max_len=MAX_LEN, min_freq=5)\n",
    "df.language = df.language.str.slice(0, 2)"
   ]
  },
  {
   "cell_type": "code",
   "execution_count": 13,
   "metadata": {},
   "outputs": [
    {
     "data": {
      "text/html": [
       "<div>\n",
       "<style scoped>\n",
       "    .dataframe tbody tr th:only-of-type {\n",
       "        vertical-align: middle;\n",
       "    }\n",
       "\n",
       "    .dataframe tbody tr th {\n",
       "        vertical-align: top;\n",
       "    }\n",
       "\n",
       "    .dataframe thead th {\n",
       "        text-align: right;\n",
       "    }\n",
       "</style>\n",
       "<table border=\"1\" class=\"dataframe\">\n",
       "  <thead>\n",
       "    <tr style=\"text-align: right;\">\n",
       "      <th></th>\n",
       "      <th>word</th>\n",
       "      <th>freq</th>\n",
       "      <th>language</th>\n",
       "    </tr>\n",
       "  </thead>\n",
       "  <tbody>\n",
       "    <tr>\n",
       "      <th>37</th>\n",
       "      <td>wurde</td>\n",
       "      <td>1463</td>\n",
       "      <td>de</td>\n",
       "    </tr>\n",
       "    <tr>\n",
       "      <th>46</th>\n",
       "      <td>sich</td>\n",
       "      <td>1066</td>\n",
       "      <td>de</td>\n",
       "    </tr>\n",
       "    <tr>\n",
       "      <th>47</th>\n",
       "      <td>eine</td>\n",
       "      <td>1049</td>\n",
       "      <td>de</td>\n",
       "    </tr>\n",
       "    <tr>\n",
       "      <th>53</th>\n",
       "      <td>auch</td>\n",
       "      <td>662</td>\n",
       "      <td>de</td>\n",
       "    </tr>\n",
       "    <tr>\n",
       "      <th>55</th>\n",
       "      <td>nach</td>\n",
       "      <td>653</td>\n",
       "      <td>de</td>\n",
       "    </tr>\n",
       "  </tbody>\n",
       "</table>\n",
       "</div>"
      ],
      "text/plain": [
       "     word  freq language\n",
       "37  wurde  1463       de\n",
       "46   sich  1066       de\n",
       "47   eine  1049       de\n",
       "53   auch   662       de\n",
       "55   nach   653       de"
      ]
     },
     "execution_count": 13,
     "metadata": {},
     "output_type": "execute_result"
    }
   ],
   "source": [
    "df.head()"
   ]
  },
  {
   "cell_type": "code",
   "execution_count": 14,
   "metadata": {},
   "outputs": [
    {
     "data": {
      "text/plain": [
       "language\n",
       "de    3104\n",
       "en    4613\n",
       "fr    4079\n",
       "it    4480\n",
       "sp    4312\n",
       "dtype: int64"
      ]
     },
     "execution_count": 14,
     "metadata": {},
     "output_type": "execute_result"
    }
   ],
   "source": [
    "df.groupby('language').size()"
   ]
  },
  {
   "cell_type": "code",
   "execution_count": null,
   "metadata": {},
   "outputs": [],
   "source": []
  },
  {
   "cell_type": "code",
   "execution_count": null,
   "metadata": {},
   "outputs": [],
   "source": []
  },
  {
   "cell_type": "markdown",
   "metadata": {},
   "source": [
    "### Remove duplicate words across languages"
   ]
  },
  {
   "cell_type": "code",
   "execution_count": 15,
   "metadata": {},
   "outputs": [
    {
     "name": "stdout",
     "output_type": "stream",
     "text": [
      "['principalmente', 'numero', 'windows', 'universitario', 'jersey', 'reduction', 'produce', 'copies', 'orden', 'director', 'marzo', 'instruments', 'expression', 'homer', 'marie', 'rock', 'europea', 'lire', 'grace', 'libro', 'station', 'biografia', 'vive', 'chicago', 'forces', 'forme', 'application', 'execution', 'romano', 'actions', 'factor', 'metal', 'cargo', 'categoria', 'violence', 'individuo', 'grosse', 'social', 'poste', 'role', 'army', 'walter', 'firmo', 'stuttgart', 'formato', 'formula', 'superior', 'guerre', 'flotte', 'santa', 'forte', 'civile', 'album', 'convento', 'simbolo', 'street', 'hugo', 'strict', 'modo', 'extreme', 'gigante', 'durante', 'hospital', 'pure', 'federale', 'motor', 'familiar', 'trouble', 'expedition', 'brain', 'north', 'masse', 'jordan', 'table', 'palais', 'fall', 'mayor', 'basa', 'analyse', 'economia', 'film', 'place', 'louis', 'direction', 'visible', 'alta', 'centrale', 'documents', 'poco', 'representations', 'capitan', 'seconde', 'mario', 'schema', 'poesia', 'present', 'impact', 'cellule', 'elena', 'tropical', 'sede', 'best', 'natural', 'proposito', 'lord', 'server', 'attend', 'expansion', 'dentro', 'conference', 'register', 'regina', 'roma', 'conserva', 'salvo', 'generalmente', 'tests', 'tanto', 'presents', 'fondo', 'foto', 'classe', 'assistant', 'institutions', 'mark', 'massive', 'dimensions', 'control', 'importante', 'giro', 'champions', 'equivalent', 'joseph', 'index', 'relativamente', 'servir', 'critica', 'points', 'plane', 'real', 'tecnologia', 'original', 'brian', 'serve', 'christ', 'audience', 'autonomia', 'vino', 'locales', 'accidents', 'reunion', 'serie', 'pacifico', 'relations', 'ideal', 'famoso', 'compose', 'color', 'corto', 'attraction', 'economica', 'resta', 'cercano', 'final', 'local', 'permanent', 'proteger', 'office', 'ventre', 'school', 'document', 'jury', 'party', 'virginia', 'china', 'propose', 'proteine', 'precisamente', 'popular', 'crea', 'complete', 'incidente', 'successive', 'cultural', 'villa', 'terre', 'avion', 'emerge', 'alfred', 'reactions', 'league', 'architecture', 'observer', 'fase', 'city', 'administration', 'basse', 'visibles', 'face', 'actual', 'jose', 'reste', 'client', 'area', 'cantante', 'parte', 'data', 'text', 'division', 'interprete', 'efforts', 'sang', 'block', 'meeting', 'genre', 'xvii', 'conclude', 'camp', 'organisations', 'information', 'decision', 'capitale', 'mondiale', 'capable', 'attention', 'direct', 'monumento', 'cane', 'partir', 'constante', 'genes', 'navy', 'conto', 'indica', 'bible', 'collection', 'variantes', 'molecule', 'village', 'awards', 'versions', 'london', 'similar', 'cable', 'applications', 'pero', 'senat', 'existe', 'religiosa', 'habitat', 'hotel', 'visita', 'mention', 'love', 'auge', 'arts', 'tipo', 'club', 'poca', 'elizabeth', 'impossible', 'option', 'portugal', 'park', 'materia', 'personal', 'prepare', 'marcus', 'conditions', 'moderne', 'test', 'federico', 'museo', 'themes', 'facilmente', 'energia', 'tournee', 'metodo', 'circuit', 'missions', 'black', 'rang', 'elemento', 'polonia', 'fama', 'stephen', 'stelle', 'dies', 'tony', 'monte', 'cast', 'natale', 'medico', 'traits', 'basis', 'apertura', 'circulation', 'arrive', 'history', 'england', 'solution', 'suit', 'categories', 'nuclear', 'absence', 'clinica', 'issue', 'napoleon', 'sexual', 'pista', 'maximum', 'haut', 'aller', 'metres', 'favor', 'persona', 'episodio', 'continente', 'suicide', 'jeff', 'region', 'pesca', 'sculpture', 'incluso', 'matt', 'coin', 'jesus', 'contrario', 'firma', 'responsables', 'importantes', 'david', 'blues', 'presentes', 'elements', 'unico', 'adam', 'sino', 'totalmente', 'tribunal', 'pena', 'active', 'avance', 'manager', 'theme', 'rural', 'bien', 'technique', 'minute', 'guerra', 'sector', 'simple', 'albert', 'presente', 'source', 'code', 'conception', 'resistance', 'cover', 'albums', 'fisica', 'bombe', 'alex', 'centre', 'september', 'fort', 'name', 'soldat', 'laura', 'morfologia', 'cultura', 'scale', 'utile', 'copia', 'adoption', 'yards', 'comite', 'breve', 'france', 'minor', 'paris', 'consequences', 'colonne', 'island', 'opposition', 'victoria', 'commission', 'support', 'africa', 'ohio', 'tension', 'prove', 'cafe', 'condition', 'termina', 'show', 'benjamin', 'gente', 'music', 'donald', 'cinema', 'responsable', 'regime', 'confusion', 'male', 'carter', 'long', 'publication', 'totale', 'programme', 'disco', 'reserve', 'canon', 'manuel', 'tour', 'charges', 'clubs', 'paul', 'matrimonio', 'form', 'miles', 'important', 'pierre', 'comic', 'manga', 'carl', 'parti', 'prince', 'franz', 'image', 'recente', 'format', 'stockholm', 'nations', 'action', 'xviii', 'alla', 'torneo', 'deriva', 'linea', 'estate', 'previsto', 'karl', 'scenario', 'debut', 'digital', 'interne', 'camera', 'muro', 'pace', 'open', 'nick', 'romans', 'grande', 'these', 'also', 'america', 'figura', 'roger', 'pone', 'classes', 'wilhelm', 'minutes', 'distance', 'completa', 'peter', 'israel', 'madrid', 'routes', 'normalmente', 'causo', 'mise', 'mountain', 'vote', 'with', 'management', 'engage', 'stress', 'animal', 'geografica', 'reduce', 'dura', 'friedrich', 'distinction', 'visto', 'finale', 'rival', 'front', 'washington', 'precise', 'india', 'respect', 'tradition', 'liga', 'sonora', 'offensive', 'cinematografica', 'double', 'termino', 'christian', 'debate', 'global', 'constitution', 'tale', 'daniel', 'signature', 'stable', 'centro', 'doctrine', 'arme', 'forma', 'solutions', 'robert', 'probleme', 'pronto', 'line', 'enorme', 'gran', 'aereo', 'superficie', 'variante', 'gold', 'imperial', 'indien', 'alexander', 'roles', 'completamente', 'culture', 'police', 'communications', 'campo', 'protection', 'libres', 'futuro', 'costo', 'decreto', 'label', 'districts', 'super', 'existence', 'corte', 'pieces', 'arabes', 'periodico', 'municipal', 'harry', 'temple', 'match', 'element', 'aumenta', 'acceder', 'presentation', 'position', 'stadium', 'online', 'tube', 'professor', 'europeo', 'madre', 'transmission', 'considerable', 'angeles', 'large', 'statue', 'mano', 'positions', 'tunnel', 'royal', 'gestion', 'emission', 'saison', 'absolute', 'rose', 'concert', 'chance', 'football', 'judicial', 'grand', 'philadelphia', 'integration', 'opinion', 'ella', 'west', 'compatible', 'teatro', 'afghanistan', 'diverse', 'mike', 'compagnie', 'campagne', 'types', 'organisation', 'sole', 'hollywood', 'graves', 'ambito', 'august', 'kind', 'turismo', 'accident', 'torre', 'sections', 'president', 'references', 'contact', 'cielo', 'premio', 'scene', 'total', 'signal', 'limites', 'james', 'orientation', 'sites', 'academy', 'personnel', 'vivo', 'night', 'henry', 'carlos', 'presidente', 'origine', 'trono', 'fallen', 'genres', 'medical', 'sources', 'mary', 'zero', 'discussion', 'pagina', 'cree', 'trio', 'vital', 'regiment', 'california', 'nave', 'disponibles', 'terminal', 'chose', 'secret', 'tales', 'separation', 'bond', 'commercial', 'vision', 'principe', 'felix', 'difference', 'voto', 'sank', 'mandato', 'songs', 'bruno', 'continent', 'famosa', 'future', 'pages', 'base', 'temporal', 'volume', 'fusion', 'prison', 'court', 'guide', 'sociale', 'actor', 'justice', 'japon', 'press', 'talent', 'staff', 'once', 'locale', 'describe', 'correspond', 'marina', 'lista', 'platino', 'philosophie', 'george', 'lage', 'lago', 'stations', 'mines', 'prima', 'canal', 'sein', 'dimension', 'geographie', 'sebastian', 'festival', 'termine', 'cancer', 'steve', 'industrie', 'populations', 'creation', 'regionales', 'civil', 'change', 'territorio', 'austin', 'morte', 'smith', 'case', 'italia', 'artistica', 'fonte', 'operation', 'onda', 'consumo', 'john', 'periodo', 'demografia', 'message', 'experimental', 'continua', 'casi', 'johnson', 'avere', 'tecnica', 'concerts', 'road', 'award', 'differences', 'television', 'teams', 'formation', 'nota', 'quelle', 'construction', 'desert', 'peso', 'tres', 'torno', 'completo', 'importance', 'zona', 'scenes', 'anime', 'college', 'define', 'russia', 'technologies', 'gris', 'parlamento', 'evento', 'efficace', 'parallel', 'possible', 'institut', 'lieutenant', 'nazi', 'colonia', 'clima', 'miami', 'scott', 'marine', 'formal', 'ambiente', 'musical', 'couple', 'francia', 'mente', 'preparation', 'point', 'description', 'hand', 'patrick', 'definitivamente', 'dire', 'articles', 'elite', 'idea', 'principal', 'questions', 'records', 'rotation', 'type', 'permanente', 'definitiva', 'attitude', 'temperatures', 'capital', 'population', 'taylor', 'musicale', 'angel', 'demonstration', 'memoria', 'mille', 'motivo', 'systeme', 'prime', 'principale', 'alfredo', 'time', 'danza', 'grado', 'costa', 'millions', 'principales', 'siege', 'canada', 'lake', 'mobile', 'bibliografia', 'artificial', 'moderno', 'extension', 'disponible', 'latin', 'thomas', 'federal', 'interesse', 'cycle', 'county', 'observe', 'passes', 'decide', 'education', 'piano', 'originale', 'metropolitana', 'conversation', 'avenue', 'parties', 'private', 'sacerdote', 'situation', 'lies', 'section', 'clients', 'roman', 'distribution', 'causa', 'dato', 'boys', 'bruce', 'corporation', 'clan', 'facto', 'contemporanea', 'londres', 'will', 'precedente', 'british', 'phrase', 'divide', 'transaction', 'piece', 'principio', 'links', 'limite', 'profit', 'madonna', 'recupero', 'politico', 'certain', 'villages', 'virus', 'hitler', 'declare', 'talento', 'rest', 'organo', 'winter', 'charles', 'teoria', 'edward', 'arte', 'colonial', 'part', 'magico', 'brown', 'equation', 'influence', 'young', 'train', 'campus', 'mental', 'candidato', 'duro', 'minimum', 'participa', 'auto', 'dick', 'medicina', 'arco', 'facile', 'religion', 'record', 'dando', 'colonel', 'honor', 'rare', 'continuo', 'conquista', 'morale', 'santo', 'team', 'usual', 'united', 'special', 'missiles', 'americano', 'museum', 'columbia', 'dedico', 'frase', 'times', 'reserves', 'sciences', 'danger', 'poeta', 'fisico', 'episode', 'sport', 'individual', 'verde', 'zelanda', 'leader', 'alliance', 'comandante', 'surface', 'methode', 'hockey', 'jackson', 'grave', 'numeros', 'power', 'start', 'usando', 'naval', 'cultures', 'normal', 'kong', 'convention', 'accede', 'subi', 'vite', 'ultimo', 'coste', 'europa', 'impression', 'padre', 'portrait', 'resto', 'jimmy', 'universal', 'sociales', 'punta', 'nucleo', 'representation', 'instrument', 'passage', 'bord', 'viene', 'entra', 'integral', 'institute', 'doctor', 'torture', 'inspiration', 'imperiale', 'probable', 'compare', 'zone', 'medio', 'course', 'solista', 'moderna', 'error', 'satellite', 'deja', 'australia', 'banda', 'florida', 'amsterdam', 'colonie', 'concept', 'machines', 'generations', 'unique', 'river', 'industrial', 'interview', 'salon', 'hans', 'valle', 'musicales', 'donne', 'combat', 'note', 'observation', 'maestro', 'normale', 'males', 'evidence', 'poesie', 'arabe', 'trama', 'dirige', 'center', 'industries', 'experience', 'performances', 'series', 'courses', 'national', 'sorpresa', 'filme', 'plans', 'quinta', 'presence', 'distances', 'europe', 'italien', 'stand', 'election', 'colonies', 'post', 'legislation', 'life', 'associations', 'provinces', 'international', 'coro', 'systems', 'carte', 'coach', 'carta', 'computer', 'porte', 'isbn', 'nature', 'categorie', 'grandes', 'second', 'king', 'charts', 'zones', 'incendio', 'angle', 'creo', 'descriptions', 'variable', 'possession', 'trait', 'componente', 'hill', 'corea', 'theorie', 'american', 'images', 'mantiene', 'symbol', 'traditions', 'main', 'matthew', 'star', 'techniques', 'emissions', 'ritmo', 'patron', 'francis', 'vide', 'status', 'australian', 'studio', 'mode', 'punto', 'game', 'geografia', 'destino', 'films', 'bande', 'hall', 'extra', 'transport', 'dark', 'bases', 'mediante', 'piste', 'edificio', 'tema', 'cifra', 'video', 'parole', 'ministro', 'standard', 'single', 'saint', 'site', 'moment', 'dominant', 'figure', 'idee', 'material', 'papa', 'death', 'east', 'experiences', 'evolution', 'terreno', 'intento', 'quasi', 'union', 'liste', 'agente', 'tipico', 'relation', 'citation', 'generale', 'dispone', 'tolerance', 'assistance', 'suicidio', 'desire', 'version', 'fans', 'catalogo', 'interno', 'ford', 'introduce', 'musica', 'bill', 'provoca', 'logo', 'legal', 'mission', 'franco', 'japan', 'quinto', 'style', 'participation', 'episodes', 'richard', 'difficile', 'golden', 'temperatura', 'inversion', 'usage', 'alle', 'william', 'consequence', 'liberal', 'volante', 'definir', 'defense', 'offre', 'include', 'entre', 'religions', 'ferrari', 'tabelle', 'agriculture', 'disney', 'selection', 'regionale', 'unica', 'notes', 'interpretation', 'services', 'former', 'cristo', 'song', 'patrimonio', 'jane', 'module', 'communication', 'race', 'alte', 'differente', 'examen', 'artistico', 'volumes', 'relief', 'extinction', 'media', 'force', 'patients', 'editions', 'novembre', 'culto', 'destruction', 'consiste', 'ball', 'euro', 'recent', 'lion', 'aspects', 'design', 'luna', 'solamente', 'decisions', 'interna', 'partner', 'mostro', 'plante', 'port', 'particular', 'ideas', 'maria', 'divise', 'question', 'mito', 'otto', 'succession', 'ultime', 'file', 'reich', 'sale', 'agosto', 'invasion', 'indice', 'fotografia', 'varie', 'adams', 'frank', 'head', 'bomba', 'association', 'bowl', 'software', 'radio', 'largo', 'opera', 'general', 'entro', 'commerciale', 'crisis', 'passa', 'contribution', 'effort', 'victor', 'marco', 'fortuna', 'intense', 'production', 'generation', 'fell', 'capita', 'generales', 'argentina', 'reference', 'multiples', 'manual', 'programmes', 'jack', 'economico', 'operations', 'italiano', 'relative', 'intervention', 'politica', 'camps', 'occidentale', 'performance', 'journal', 'allen', 'interior', 'sola', 'anderson', 'cosa', 'contiene', 'vice', 'empire', 'donna', 'presento', 'participants', 'williams', 'areas', 'valley', 'lady', 'solo', 'brand', 'howard', 'legale', 'billy', 'ultima', 'diego', 'tecnico', 'regions', 'temperature', 'revela', 'publications', 'carne', 'sydney', 'libre', 'montagne', 'euros', 'elenco', 'diametro', 'giovanni', 'procedures', 'capture', 'continue', 'world', 'university', 'dominio', 'concentration', 'automatica', 'realmente', 'drama', 'gouverneur', 'epoca', 'altitude', 'jones', 'franchise', 'york', 'autor', 'nation', 'biblioteca', 'article', 'science', 'internet', 'courts', 'cambio', 'significa', 'public', 'minima', 'central', 'peru', 'land', 'xiii', 'sorte', 'sort', 'seine', 'samuel', 'machine', 'theatre', 'house', 'medieval', 'saints', 'november', 'girls', 'plus', 'supera', 'structure', 'coalition', 'warner', 'alto', 'apollo', 'dice', 'edition', 'francisco', 'editor', 'davis', 'notable', 'minister', 'charge', 'antonio', 'finalmente', 'wilson', 'cristiana', 'dominante', 'guardia', 'michael', 'dedica', 'luis', 'magazine', 'plan', 'little', 'sera', 'service', 'variations', 'miller', 'armee', 'company', 'aerea', 'dose', 'elections', 'resolution', 'revolution', 'superman', 'sports', 'arthur', 'fast', 'berlin', 'problema', 'cause', 'circuits', 'date', 'fiction', 'nord', 'anna', 'casa', 'oliver', 'sala', 'creando', 'agent', 'circuito', 'round', 'depend', 'person', 'fine', 'page', 'prototipo', 'manner', 'johnny', 'mexico', 'jean', 'productions', 'band', 'presenta', 'district', 'quel', 'celebre', 'protagonista', 'composition', 'route', 'roberto', 'rapidamente', 'places', 'theories', 'kurt', 'primavera', 'sentir', 'april', 'artista', 'provincia', 'sistema', 'competition', 'missile', 'momento', 'jardin', 'nicolas', 'definition', 'rome', 'state', 'cerca', 'apple', 'laboratorio', 'reputation', 'martin', 'fini', 'high', 'caso', 'tiene', 'phase', 'taiwan', 'cooper', 'parents', 'norme', 'system', 'gare', 'vista', 'orange', 'jazz', 'canto', 'lucas', 'structures', 'regular', 'relativa', 'different', 'intelligence', 'exception', 'ciclo', 'lyon', 'viii', 'aspect', 'regional', 'nombre', 'juan', 'come', 'clark', 'romana', 'explosion', 'cambia']\n"
     ]
    }
   ],
   "source": [
    "joined = df.merge(df, on=['word'])\n",
    "joined = joined[joined.language_x != joined.language_y]\n",
    "duplicate_words = list(set(joined.word))\n",
    "print(duplicate_words)"
   ]
  },
  {
   "cell_type": "code",
   "execution_count": 16,
   "metadata": {},
   "outputs": [],
   "source": [
    "df = df[~df.word.isin(duplicate_words)]"
   ]
  },
  {
   "cell_type": "code",
   "execution_count": 17,
   "metadata": {},
   "outputs": [
    {
     "data": {
      "text/plain": [
       "language\n",
       "de    2795\n",
       "en    3606\n",
       "fr    3159\n",
       "it    3694\n",
       "sp    3482\n",
       "dtype: int64"
      ]
     },
     "execution_count": 17,
     "metadata": {},
     "output_type": "execute_result"
    }
   ],
   "source": [
    "df.groupby('language').size()"
   ]
  },
  {
   "cell_type": "code",
   "execution_count": null,
   "metadata": {},
   "outputs": [],
   "source": []
  },
  {
   "cell_type": "markdown",
   "metadata": {},
   "source": [
    "### Remove duplicate words within languages"
   ]
  },
  {
   "cell_type": "code",
   "execution_count": 18,
   "metadata": {},
   "outputs": [],
   "source": [
    "df = df.drop_duplicates('word')"
   ]
  },
  {
   "cell_type": "code",
   "execution_count": 19,
   "metadata": {},
   "outputs": [],
   "source": [
    "assert len(df.word) == len(set(df.word))"
   ]
  },
  {
   "cell_type": "code",
   "execution_count": 20,
   "metadata": {},
   "outputs": [
    {
     "data": {
      "text/plain": [
       "language\n",
       "de    2623\n",
       "en    3387\n",
       "fr    2922\n",
       "it    3483\n",
       "sp    3199\n",
       "dtype: int64"
      ]
     },
     "execution_count": 20,
     "metadata": {},
     "output_type": "execute_result"
    }
   ],
   "source": [
    "df.groupby('language').size()"
   ]
  },
  {
   "cell_type": "code",
   "execution_count": null,
   "metadata": {},
   "outputs": [],
   "source": []
  },
  {
   "cell_type": "code",
   "execution_count": null,
   "metadata": {},
   "outputs": [],
   "source": []
  },
  {
   "cell_type": "markdown",
   "metadata": {},
   "source": [
    "### Get train and validation indices"
   ]
  },
  {
   "cell_type": "code",
   "execution_count": 21,
   "metadata": {},
   "outputs": [],
   "source": [
    "df = df.reset_index(drop=True)"
   ]
  },
  {
   "cell_type": "code",
   "execution_count": 22,
   "metadata": {},
   "outputs": [
    {
     "name": "stderr",
     "output_type": "stream",
     "text": [
      "/home/quentin/anaconda3/envs/rnn/lib/python3.6/site-packages/sklearn/model_selection/_split.py:2179: FutureWarning: From version 0.21, test_size will always complement train_size unless both are specified.\n",
      "  FutureWarning)\n"
     ]
    }
   ],
   "source": [
    "train_idxs, val_idxs = train_test_split(df.index.tolist(), train_size=0.5, random_state=1)"
   ]
  },
  {
   "cell_type": "code",
   "execution_count": 23,
   "metadata": {},
   "outputs": [],
   "source": [
    "by_word_length = lambda i: len(df.iloc[i].word)\n",
    "train_idxs = sorted(train_idxs, key=by_word_length, reverse=True)\n",
    "val_idxs = sorted(val_idxs, key=by_word_length, reverse=True)"
   ]
  },
  {
   "cell_type": "code",
   "execution_count": null,
   "metadata": {},
   "outputs": [],
   "source": []
  },
  {
   "cell_type": "markdown",
   "metadata": {},
   "source": [
    "### Get vocabulary"
   ]
  },
  {
   "cell_type": "code",
   "execution_count": 24,
   "metadata": {},
   "outputs": [],
   "source": [
    "words = df.word.tolist()"
   ]
  },
  {
   "cell_type": "code",
   "execution_count": 25,
   "metadata": {},
   "outputs": [
    {
     "data": {
      "text/plain": [
       "'\\x00abcdefghijklmnopqrstuvwxyz'"
      ]
     },
     "execution_count": 25,
     "metadata": {},
     "output_type": "execute_result"
    }
   ],
   "source": [
    "vocab = ['\\0'] + sorted(list(set(''.join(words))))\n",
    "n_vocab = len(vocab)\n",
    "''.join(vocab)"
   ]
  },
  {
   "cell_type": "code",
   "execution_count": 26,
   "metadata": {},
   "outputs": [],
   "source": [
    "idx_to_char = dict(enumerate(vocab))\n",
    "char_to_idx = {char: idx for idx, char in idx_to_char.items()}"
   ]
  },
  {
   "cell_type": "code",
   "execution_count": null,
   "metadata": {},
   "outputs": [],
   "source": []
  },
  {
   "cell_type": "markdown",
   "metadata": {},
   "source": [
    "### Shape padded data"
   ]
  },
  {
   "cell_type": "code",
   "execution_count": 27,
   "metadata": {},
   "outputs": [],
   "source": [
    "words_idxs = [[char_to_idx[char] for char in word] for word in words]\n",
    "#words_idxs = sorted(words_idxs, key=len, reverse=True)"
   ]
  },
  {
   "cell_type": "code",
   "execution_count": 28,
   "metadata": {},
   "outputs": [],
   "source": [
    "words_len = list(map(len, words_idxs))"
   ]
  },
  {
   "cell_type": "code",
   "execution_count": 29,
   "metadata": {},
   "outputs": [
    {
     "name": "stdout",
     "output_type": "stream",
     "text": [
      "[[23, 21, 18, 4, 5], [19, 9, 3, 8]] [[22, 15, 12, 15, 14, 20, 1, 18, 9], [25, 1, 18, 4]]\n",
      "[5, 4] [9, 4]\n"
     ]
    }
   ],
   "source": [
    "print(words_idxs[:2], words_idxs[-2:])\n",
    "print(words_len[:2], words_len[-2:])"
   ]
  },
  {
   "cell_type": "code",
   "execution_count": 30,
   "metadata": {},
   "outputs": [
    {
     "data": {
      "text/plain": [
       "tensor([[23, 19,  5,  ..., 22, 22, 25],\n",
       "        [21,  9,  9,  ..., 15, 15,  1],\n",
       "        [18,  3, 14,  ..., 12, 12, 18],\n",
       "        ...,\n",
       "        [ 0,  0,  0,  ...,  0,  0,  0],\n",
       "        [ 0,  0,  0,  ...,  0,  0,  0],\n",
       "        [ 0,  0,  0,  ...,  0,  0,  0]])"
      ]
     },
     "execution_count": 30,
     "metadata": {},
     "output_type": "execute_result"
    }
   ],
   "source": [
    "data = torch.zeros((max(words_len), len(words_len))).long()\n",
    "for i, word_idxs in enumerate(words_idxs):\n",
    "    data[:len(word_idxs), i] = torch.Tensor(word_idxs)\n",
    "data"
   ]
  },
  {
   "cell_type": "code",
   "execution_count": 31,
   "metadata": {},
   "outputs": [
    {
     "data": {
      "text/plain": [
       "(torch.Size([15, 7807]), torch.Size([15, 7807]))"
      ]
     },
     "execution_count": 31,
     "metadata": {},
     "output_type": "execute_result"
    }
   ],
   "source": [
    "train_data, val_data = data[:, train_idxs], data[:, val_idxs]\n",
    "train_data.size(), val_data.size()"
   ]
  },
  {
   "cell_type": "code",
   "execution_count": 32,
   "metadata": {},
   "outputs": [],
   "source": [
    "lens = torch.Tensor(words_len).long()"
   ]
  },
  {
   "cell_type": "code",
   "execution_count": 33,
   "metadata": {},
   "outputs": [
    {
     "data": {
      "text/plain": [
       "(torch.Size([7807]), torch.Size([7807]))"
      ]
     },
     "execution_count": 33,
     "metadata": {},
     "output_type": "execute_result"
    }
   ],
   "source": [
    "train_lens, val_lens = lens[train_idxs], lens[val_idxs]\n",
    "train_lens.size(), val_lens.size()"
   ]
  },
  {
   "cell_type": "code",
   "execution_count": null,
   "metadata": {},
   "outputs": [],
   "source": []
  },
  {
   "cell_type": "markdown",
   "metadata": {},
   "source": [
    "### Shape labels"
   ]
  },
  {
   "cell_type": "code",
   "execution_count": 34,
   "metadata": {},
   "outputs": [],
   "source": [
    "languages = df.language.tolist()"
   ]
  },
  {
   "cell_type": "code",
   "execution_count": 35,
   "metadata": {},
   "outputs": [],
   "source": [
    "languages_idxs = [lang_to_idx[language] for language in languages]"
   ]
  },
  {
   "cell_type": "code",
   "execution_count": 36,
   "metadata": {
    "scrolled": false
   },
   "outputs": [],
   "source": [
    "labels = torch.Tensor(languages_idxs).long()"
   ]
  },
  {
   "cell_type": "code",
   "execution_count": 37,
   "metadata": {},
   "outputs": [
    {
     "data": {
      "text/plain": [
       "(torch.Size([7807]), torch.Size([7807]))"
      ]
     },
     "execution_count": 37,
     "metadata": {},
     "output_type": "execute_result"
    }
   ],
   "source": [
    "train_labels, val_labels = labels[train_idxs], labels[val_idxs]\n",
    "train_labels.size(), val_labels.size()"
   ]
  },
  {
   "cell_type": "code",
   "execution_count": null,
   "metadata": {},
   "outputs": [],
   "source": []
  },
  {
   "cell_type": "code",
   "execution_count": null,
   "metadata": {},
   "outputs": [],
   "source": []
  },
  {
   "cell_type": "markdown",
   "metadata": {},
   "source": [
    "### Create batches of (data, lens, labels)"
   ]
  },
  {
   "cell_type": "code",
   "execution_count": 38,
   "metadata": {},
   "outputs": [],
   "source": [
    "def get_batches(data, lens, labels, bs):\n",
    "    batch_size = bs\n",
    "    for i in range(0, data.shape[1], bs):\n",
    "        data_batch = data[:, i:i + bs]\n",
    "        lens_batch = lens[i:i + bs]\n",
    "        labels_batch = labels[i:i + bs]\n",
    "        yield data_batch, lens_batch, labels_batch"
   ]
  },
  {
   "cell_type": "code",
   "execution_count": 39,
   "metadata": {},
   "outputs": [
    {
     "name": "stdout",
     "output_type": "stream",
     "text": [
      "data:\n",
      "tensor([[23, 19,  5],\n",
      "        [21,  9,  9],\n",
      "        [18,  3, 14],\n",
      "        [ 4,  8,  5],\n",
      "        [ 5,  0,  0],\n",
      "        [ 0,  0,  0],\n",
      "        [ 0,  0,  0],\n",
      "        [ 0,  0,  0],\n",
      "        [ 0,  0,  0],\n",
      "        [ 0,  0,  0],\n",
      "        [ 0,  0,  0],\n",
      "        [ 0,  0,  0],\n",
      "        [ 0,  0,  0],\n",
      "        [ 0,  0,  0],\n",
      "        [ 0,  0,  0]])\n",
      "lens:\n",
      "tensor([5, 4, 4])\n",
      "labels:\n",
      "tensor([0, 0, 0])\n",
      "\n"
     ]
    }
   ],
   "source": [
    "# Start of dataset, longest words\n",
    "\n",
    "batches = get_batches(data, lens, labels, bs=3)\n",
    "\n",
    "data_batch, lens_batch, labels_batch = next(batches)\n",
    "print(f'data:\\n{data_batch}')\n",
    "print(f'lens:\\n{lens_batch}')\n",
    "print(f'labels:\\n{labels_batch}')\n",
    "print()"
   ]
  },
  {
   "cell_type": "code",
   "execution_count": 40,
   "metadata": {},
   "outputs": [
    {
     "name": "stdout",
     "output_type": "stream",
     "text": [
      "data:\n",
      "tensor([[22, 25],\n",
      "        [15,  1],\n",
      "        [12, 18],\n",
      "        [15,  4],\n",
      "        [14,  0],\n",
      "        [20,  0],\n",
      "        [ 1,  0],\n",
      "        [18,  0],\n",
      "        [ 9,  0],\n",
      "        [ 0,  0],\n",
      "        [ 0,  0],\n",
      "        [ 0,  0],\n",
      "        [ 0,  0],\n",
      "        [ 0,  0],\n",
      "        [ 0,  0]])\n",
      "lens:\n",
      "tensor([9, 4])\n",
      "labels:\n",
      "tensor([3, 3])\n",
      "\n"
     ]
    }
   ],
   "source": [
    "# End of dataset, shortest words\n",
    "\n",
    "for data_batch, lens_batch, labels_batch in get_batches(data, lens, labels, bs=3):\n",
    "    pass\n",
    "\n",
    "print(f'data:\\n{data_batch}')\n",
    "print(f'lens:\\n{lens_batch}')\n",
    "print(f'labels:\\n{labels_batch}')\n",
    "print()"
   ]
  },
  {
   "cell_type": "code",
   "execution_count": null,
   "metadata": {},
   "outputs": [],
   "source": []
  },
  {
   "cell_type": "markdown",
   "metadata": {},
   "source": [
    "# Model"
   ]
  },
  {
   "cell_type": "code",
   "execution_count": 41,
   "metadata": {},
   "outputs": [],
   "source": [
    "class LSTM(nn.Module):\n",
    "    def __init__(self, bs, n_vocab, n_fac, n_hidden, n_layers, dropout=0):\n",
    "\n",
    "        super().__init__()\n",
    "\n",
    "        self.bs = bs\n",
    "        self.n_layers = n_layers\n",
    "        self.n_hidden = n_hidden\n",
    "\n",
    "        self.lstm = nn.LSTM(n_fac, n_hidden, n_layers, dropout=dropout)\n",
    "        self.e = nn.Embedding(n_vocab, n_fac)\n",
    "        self.output_weights = nn.Linear(n_hidden, 5)\n",
    "\n",
    "        self.init_hidden(bs)\n",
    "\n",
    "    def forward(self, data, lens):\n",
    "        \n",
    "        if data.shape[1] != self.bs:\n",
    "            self.init_hidden(data.shape[1])\n",
    "        \n",
    "        input = self.e(data)\n",
    "\n",
    "        hidden_state = self.hidden_state\n",
    "        cell_state = self.cell_state\n",
    "\n",
    "        packed_input = pack_padded_sequence(input, lens)\n",
    "        packed_output, (hidden_state, cell_state) = self.lstm(packed_input, (hidden_state, cell_state))\n",
    "        output = pad_packed_sequence(packed_output)[0]\n",
    "        output = torch.stack([output[lens[i] - 1, i] for i in range(output.shape[1])])\n",
    "\n",
    "        # Throw away state histories\n",
    "        self.hidden_state = Variable(hidden_state)\n",
    "        self.cell_state = Variable(cell_state)\n",
    "        \n",
    "        # Get output\n",
    "        output = self.output_weights(output)\n",
    "        output = F.log_softmax(output, dim=-1)\n",
    "\n",
    "        return output\n",
    "\n",
    "    def init_hidden(self, bs):\n",
    "        self.hidden_state = torch.zeros([self.n_layers, bs, self.n_hidden])\n",
    "        self.cell_state = torch.zeros([self.n_layers, bs, self.n_hidden])"
   ]
  },
  {
   "cell_type": "code",
   "execution_count": 42,
   "metadata": {},
   "outputs": [],
   "source": [
    "bs = 128\n",
    "n_fac = 13\n",
    "n_hidden = 30\n",
    "n_layers = 1\n",
    "dropout = 0"
   ]
  },
  {
   "cell_type": "code",
   "execution_count": 43,
   "metadata": {},
   "outputs": [],
   "source": [
    "lstm = LSTM(bs, n_vocab, n_fac, n_hidden, n_layers, dropout)"
   ]
  },
  {
   "cell_type": "code",
   "execution_count": 44,
   "metadata": {},
   "outputs": [],
   "source": [
    "epochs = 10\n",
    "criterion = nn.NLLLoss()\n",
    "optimizer = torch.optim.Adam(lstm.parameters(), 1e-2)"
   ]
  },
  {
   "cell_type": "code",
   "execution_count": 45,
   "metadata": {},
   "outputs": [
    {
     "name": "stdout",
     "output_type": "stream",
     "text": [
      "epoch:   1   train_loss: 1.21   val_loss: 0.99   accuracy: 0.55\n",
      "epoch:   2   train_loss: 0.89   val_loss: 0.86   accuracy: 0.64\n",
      "epoch:   3   train_loss: 0.79   val_loss: 0.79   accuracy: 0.68\n",
      "epoch:   4   train_loss: 0.72   val_loss: 0.75   accuracy: 0.70\n",
      "epoch:   5   train_loss: 0.67   val_loss: 0.74   accuracy: 0.70\n",
      "epoch:   6   train_loss: 0.63   val_loss: 0.74   accuracy: 0.70\n",
      "epoch:   7   train_loss: 0.60   val_loss: 0.74   accuracy: 0.70\n",
      "epoch:   8   train_loss: 0.57   val_loss: 0.74   accuracy: 0.71\n",
      "epoch:   9   train_loss: 0.55   val_loss: 0.74   accuracy: 0.71\n",
      "epoch:  10   train_loss: 0.52   val_loss: 0.74   accuracy: 0.72\n"
     ]
    }
   ],
   "source": [
    "for epoch in range(1, epochs + 1):\n",
    "\n",
    "    lstm.init_hidden(bs)\n",
    "\n",
    "    train_loss_sum, train_batches_nb = 0, 0\n",
    "    train_batches = get_batches(train_data, train_lens, train_labels, bs)\n",
    "    for i, (data_batch, lens_batch, labels_batch) in enumerate(train_batches, 1):\n",
    "        preds_batch = lstm(data_batch, lens_batch)\n",
    "        optimizer.zero_grad()\n",
    "        loss = criterion(preds_batch, labels_batch)\n",
    "        train_loss_sum, train_batches_nb = train_loss_sum + loss.item(), train_batches_nb + 1\n",
    "        loss.backward()\n",
    "        optimizer.step()\n",
    "    train_loss = train_loss_sum / train_batches_nb\n",
    "\n",
    "    lstm.init_hidden(bs)\n",
    "\n",
    "    val_preds = lstm(val_data, val_lens)\n",
    "    val_loss = criterion(val_preds, val_labels)\n",
    "    val_accuracy = (val_preds.argmax(dim=1) == val_labels).float().mean().item()\n",
    "\n",
    "    print(f'epoch: {epoch:3d}   train_loss: {train_loss:.2f}   val_loss: {val_loss:.2f}'\n",
    "          f'   accuracy: {val_accuracy:.2f}')"
   ]
  },
  {
   "cell_type": "code",
   "execution_count": null,
   "metadata": {},
   "outputs": [],
   "source": []
  },
  {
   "cell_type": "code",
   "execution_count": null,
   "metadata": {},
   "outputs": [],
   "source": []
  },
  {
   "cell_type": "code",
   "execution_count": null,
   "metadata": {},
   "outputs": [],
   "source": []
  },
  {
   "cell_type": "code",
   "execution_count": null,
   "metadata": {},
   "outputs": [],
   "source": []
  },
  {
   "cell_type": "markdown",
   "metadata": {},
   "source": [
    "### Predict and enrich validation dataset for analysis"
   ]
  },
  {
   "cell_type": "code",
   "execution_count": 46,
   "metadata": {},
   "outputs": [],
   "source": [
    "df_val = df.iloc[val_idxs].reset_index(drop=True)"
   ]
  },
  {
   "cell_type": "code",
   "execution_count": 47,
   "metadata": {
    "scrolled": true
   },
   "outputs": [],
   "source": [
    "df_val['language_id'] = val_labels.numpy()"
   ]
  },
  {
   "cell_type": "code",
   "execution_count": 48,
   "metadata": {},
   "outputs": [],
   "source": [
    "preds_dummy = lstm(val_data, val_lens).exp().detach().numpy()\n",
    "preds = np.argmax(preds_dummy, axis=1)\n",
    "probas = np.max(preds_dummy, axis=1)\n",
    "df_val['pred_id'] = preds\n",
    "df_val['probas'] = probas"
   ]
  },
  {
   "cell_type": "code",
   "execution_count": 49,
   "metadata": {},
   "outputs": [],
   "source": [
    "df_val['pred'] = df_val['pred_id'].map(dict(enumerate(langs)))"
   ]
  },
  {
   "cell_type": "code",
   "execution_count": null,
   "metadata": {},
   "outputs": [],
   "source": []
  },
  {
   "cell_type": "markdown",
   "metadata": {},
   "source": [
    "### Results analysis"
   ]
  },
  {
   "cell_type": "code",
   "execution_count": 50,
   "metadata": {},
   "outputs": [
    {
     "data": {
      "text/html": [
       "<div>\n",
       "<style scoped>\n",
       "    .dataframe tbody tr th:only-of-type {\n",
       "        vertical-align: middle;\n",
       "    }\n",
       "\n",
       "    .dataframe tbody tr th {\n",
       "        vertical-align: top;\n",
       "    }\n",
       "\n",
       "    .dataframe thead th {\n",
       "        text-align: right;\n",
       "    }\n",
       "</style>\n",
       "<table border=\"1\" class=\"dataframe\">\n",
       "  <thead>\n",
       "    <tr style=\"text-align: right;\">\n",
       "      <th></th>\n",
       "      <th>word</th>\n",
       "      <th>freq</th>\n",
       "      <th>language</th>\n",
       "      <th>language_id</th>\n",
       "      <th>pred_id</th>\n",
       "      <th>probas</th>\n",
       "      <th>pred</th>\n",
       "    </tr>\n",
       "  </thead>\n",
       "  <tbody>\n",
       "    <tr>\n",
       "      <th>6668</th>\n",
       "      <td>asked</td>\n",
       "      <td>20</td>\n",
       "      <td>en</td>\n",
       "      <td>1</td>\n",
       "      <td>1</td>\n",
       "      <td>0.999880</td>\n",
       "      <td>en</td>\n",
       "    </tr>\n",
       "    <tr>\n",
       "      <th>2076</th>\n",
       "      <td>initiated</td>\n",
       "      <td>5</td>\n",
       "      <td>en</td>\n",
       "      <td>1</td>\n",
       "      <td>1</td>\n",
       "      <td>0.999763</td>\n",
       "      <td>en</td>\n",
       "    </tr>\n",
       "    <tr>\n",
       "      <th>4010</th>\n",
       "      <td>settled</td>\n",
       "      <td>14</td>\n",
       "      <td>en</td>\n",
       "      <td>1</td>\n",
       "      <td>1</td>\n",
       "      <td>0.999668</td>\n",
       "      <td>en</td>\n",
       "    </tr>\n",
       "    <tr>\n",
       "      <th>1913</th>\n",
       "      <td>discussed</td>\n",
       "      <td>6</td>\n",
       "      <td>en</td>\n",
       "      <td>1</td>\n",
       "      <td>1</td>\n",
       "      <td>0.999663</td>\n",
       "      <td>en</td>\n",
       "    </tr>\n",
       "    <tr>\n",
       "      <th>5775</th>\n",
       "      <td>showed</td>\n",
       "      <td>19</td>\n",
       "      <td>en</td>\n",
       "      <td>1</td>\n",
       "      <td>1</td>\n",
       "      <td>0.999628</td>\n",
       "      <td>en</td>\n",
       "    </tr>\n",
       "    <tr>\n",
       "      <th>6780</th>\n",
       "      <td>hired</td>\n",
       "      <td>14</td>\n",
       "      <td>en</td>\n",
       "      <td>1</td>\n",
       "      <td>1</td>\n",
       "      <td>0.999628</td>\n",
       "      <td>en</td>\n",
       "    </tr>\n",
       "    <tr>\n",
       "      <th>1675</th>\n",
       "      <td>advocated</td>\n",
       "      <td>6</td>\n",
       "      <td>en</td>\n",
       "      <td>1</td>\n",
       "      <td>1</td>\n",
       "      <td>0.999598</td>\n",
       "      <td>en</td>\n",
       "    </tr>\n",
       "    <tr>\n",
       "      <th>5382</th>\n",
       "      <td>cooked</td>\n",
       "      <td>9</td>\n",
       "      <td>en</td>\n",
       "      <td>1</td>\n",
       "      <td>1</td>\n",
       "      <td>0.999565</td>\n",
       "      <td>en</td>\n",
       "    </tr>\n",
       "    <tr>\n",
       "      <th>339</th>\n",
       "      <td>incorporated</td>\n",
       "      <td>6</td>\n",
       "      <td>en</td>\n",
       "      <td>1</td>\n",
       "      <td>1</td>\n",
       "      <td>0.999481</td>\n",
       "      <td>en</td>\n",
       "    </tr>\n",
       "    <tr>\n",
       "      <th>1078</th>\n",
       "      <td>translated</td>\n",
       "      <td>10</td>\n",
       "      <td>en</td>\n",
       "      <td>1</td>\n",
       "      <td>1</td>\n",
       "      <td>0.999468</td>\n",
       "      <td>en</td>\n",
       "    </tr>\n",
       "  </tbody>\n",
       "</table>\n",
       "</div>"
      ],
      "text/plain": [
       "              word  freq language  language_id  pred_id    probas pred\n",
       "6668         asked    20       en            1        1  0.999880   en\n",
       "2076     initiated     5       en            1        1  0.999763   en\n",
       "4010       settled    14       en            1        1  0.999668   en\n",
       "1913     discussed     6       en            1        1  0.999663   en\n",
       "5775        showed    19       en            1        1  0.999628   en\n",
       "6780         hired    14       en            1        1  0.999628   en\n",
       "1675     advocated     6       en            1        1  0.999598   en\n",
       "5382        cooked     9       en            1        1  0.999565   en\n",
       "339   incorporated     6       en            1        1  0.999481   en\n",
       "1078    translated    10       en            1        1  0.999468   en"
      ]
     },
     "execution_count": 50,
     "metadata": {},
     "output_type": "execute_result"
    }
   ],
   "source": [
    "# Most confident predictions\n",
    "df_val.sort_values('probas', ascending=False).head(10)"
   ]
  },
  {
   "cell_type": "code",
   "execution_count": 51,
   "metadata": {
    "scrolled": true
   },
   "outputs": [
    {
     "data": {
      "text/html": [
       "<div>\n",
       "<style scoped>\n",
       "    .dataframe tbody tr th:only-of-type {\n",
       "        vertical-align: middle;\n",
       "    }\n",
       "\n",
       "    .dataframe tbody tr th {\n",
       "        vertical-align: top;\n",
       "    }\n",
       "\n",
       "    .dataframe thead th {\n",
       "        text-align: right;\n",
       "    }\n",
       "</style>\n",
       "<table border=\"1\" class=\"dataframe\">\n",
       "  <thead>\n",
       "    <tr style=\"text-align: right;\">\n",
       "      <th></th>\n",
       "      <th>word</th>\n",
       "      <th>freq</th>\n",
       "      <th>language</th>\n",
       "      <th>language_id</th>\n",
       "      <th>pred_id</th>\n",
       "      <th>probas</th>\n",
       "      <th>pred</th>\n",
       "    </tr>\n",
       "  </thead>\n",
       "  <tbody>\n",
       "    <tr>\n",
       "      <th>5286</th>\n",
       "      <td>sortir</td>\n",
       "      <td>15</td>\n",
       "      <td>fr</td>\n",
       "      <td>2</td>\n",
       "      <td>1</td>\n",
       "      <td>0.255531</td>\n",
       "      <td>en</td>\n",
       "    </tr>\n",
       "    <tr>\n",
       "      <th>937</th>\n",
       "      <td>respingere</td>\n",
       "      <td>5</td>\n",
       "      <td>it</td>\n",
       "      <td>3</td>\n",
       "      <td>3</td>\n",
       "      <td>0.263520</td>\n",
       "      <td>it</td>\n",
       "    </tr>\n",
       "    <tr>\n",
       "      <th>5709</th>\n",
       "      <td>svolse</td>\n",
       "      <td>5</td>\n",
       "      <td>it</td>\n",
       "      <td>3</td>\n",
       "      <td>1</td>\n",
       "      <td>0.277349</td>\n",
       "      <td>en</td>\n",
       "    </tr>\n",
       "    <tr>\n",
       "      <th>4235</th>\n",
       "      <td>impulse</td>\n",
       "      <td>5</td>\n",
       "      <td>en</td>\n",
       "      <td>1</td>\n",
       "      <td>4</td>\n",
       "      <td>0.279007</td>\n",
       "      <td>sp</td>\n",
       "    </tr>\n",
       "    <tr>\n",
       "      <th>4308</th>\n",
       "      <td>inverse</td>\n",
       "      <td>16</td>\n",
       "      <td>fr</td>\n",
       "      <td>2</td>\n",
       "      <td>4</td>\n",
       "      <td>0.280574</td>\n",
       "      <td>sp</td>\n",
       "    </tr>\n",
       "    <tr>\n",
       "      <th>4096</th>\n",
       "      <td>signale</td>\n",
       "      <td>6</td>\n",
       "      <td>de</td>\n",
       "      <td>0</td>\n",
       "      <td>1</td>\n",
       "      <td>0.285774</td>\n",
       "      <td>en</td>\n",
       "    </tr>\n",
       "    <tr>\n",
       "      <th>4571</th>\n",
       "      <td>concern</td>\n",
       "      <td>11</td>\n",
       "      <td>en</td>\n",
       "      <td>1</td>\n",
       "      <td>4</td>\n",
       "      <td>0.288776</td>\n",
       "      <td>sp</td>\n",
       "    </tr>\n",
       "    <tr>\n",
       "      <th>7259</th>\n",
       "      <td>axis</td>\n",
       "      <td>9</td>\n",
       "      <td>en</td>\n",
       "      <td>1</td>\n",
       "      <td>0</td>\n",
       "      <td>0.290499</td>\n",
       "      <td>de</td>\n",
       "    </tr>\n",
       "    <tr>\n",
       "      <th>2963</th>\n",
       "      <td>operator</td>\n",
       "      <td>5</td>\n",
       "      <td>en</td>\n",
       "      <td>1</td>\n",
       "      <td>1</td>\n",
       "      <td>0.290795</td>\n",
       "      <td>en</td>\n",
       "    </tr>\n",
       "    <tr>\n",
       "      <th>7651</th>\n",
       "      <td>doce</td>\n",
       "      <td>13</td>\n",
       "      <td>sp</td>\n",
       "      <td>4</td>\n",
       "      <td>4</td>\n",
       "      <td>0.291871</td>\n",
       "      <td>sp</td>\n",
       "    </tr>\n",
       "  </tbody>\n",
       "</table>\n",
       "</div>"
      ],
      "text/plain": [
       "            word  freq language  language_id  pred_id    probas pred\n",
       "5286      sortir    15       fr            2        1  0.255531   en\n",
       "937   respingere     5       it            3        3  0.263520   it\n",
       "5709      svolse     5       it            3        1  0.277349   en\n",
       "4235     impulse     5       en            1        4  0.279007   sp\n",
       "4308     inverse    16       fr            2        4  0.280574   sp\n",
       "4096     signale     6       de            0        1  0.285774   en\n",
       "4571     concern    11       en            1        4  0.288776   sp\n",
       "7259        axis     9       en            1        0  0.290499   de\n",
       "2963    operator     5       en            1        1  0.290795   en\n",
       "7651        doce    13       sp            4        4  0.291871   sp"
      ]
     },
     "execution_count": 51,
     "metadata": {},
     "output_type": "execute_result"
    }
   ],
   "source": [
    "# Least confident predictions\n",
    "df_val.sort_values('probas').head(10)"
   ]
  },
  {
   "cell_type": "code",
   "execution_count": null,
   "metadata": {},
   "outputs": [],
   "source": []
  },
  {
   "cell_type": "code",
   "execution_count": null,
   "metadata": {},
   "outputs": [],
   "source": []
  },
  {
   "cell_type": "code",
   "execution_count": null,
   "metadata": {},
   "outputs": [],
   "source": []
  },
  {
   "cell_type": "code",
   "execution_count": 52,
   "metadata": {},
   "outputs": [],
   "source": [
    "def plot_confusion_matrix(cm, classes,\n",
    "                          normalize=False,\n",
    "                          title='Confusion matrix',\n",
    "                          cmap=plt.cm.Blues):\n",
    "    \"\"\"\n",
    "    This function prints and plots the confusion matrix.\n",
    "    Normalization can be applied by setting `normalize=True`.\n",
    "    \"\"\"\n",
    "    if normalize:\n",
    "        cm = cm.astype('float') / cm.sum(axis=1)[:, np.newaxis]\n",
    "        print(\"Normalized confusion matrix\")\n",
    "    else:\n",
    "        print('Confusion matrix, without normalization')\n",
    "\n",
    "    print(cm)\n",
    "\n",
    "    plt.imshow(cm, interpolation='nearest', cmap=cmap)\n",
    "    plt.title(title)\n",
    "    plt.colorbar()\n",
    "    tick_marks = np.arange(len(classes))\n",
    "    plt.xticks(tick_marks, classes, rotation=45)\n",
    "    plt.yticks(tick_marks, classes)\n",
    "\n",
    "    fmt = '.2f' if normalize else 'd'\n",
    "    thresh = cm.max() / 2.\n",
    "    for i, j in itertools.product(range(cm.shape[0]), range(cm.shape[1])):\n",
    "        plt.text(j, i, format(cm[i, j], fmt),\n",
    "                 horizontalalignment=\"center\",\n",
    "                 color=\"white\" if cm[i, j] > thresh else \"black\")\n",
    "\n",
    "    plt.ylabel('True label')\n",
    "    plt.xlabel('Predicted label')\n",
    "    plt.tight_layout()"
   ]
  },
  {
   "cell_type": "code",
   "execution_count": 53,
   "metadata": {},
   "outputs": [],
   "source": [
    "cm = confusion_matrix(df_val['language'], df_val['pred'])"
   ]
  },
  {
   "cell_type": "code",
   "execution_count": 54,
   "metadata": {},
   "outputs": [
    {
     "name": "stdout",
     "output_type": "stream",
     "text": [
      "Confusion matrix, without normalization\n",
      "[[ 935  243   98   24   37]\n",
      " [  77 1339  215   34   57]\n",
      " [  48  367  933   55   65]\n",
      " [  17   38  126 1293  253]\n",
      " [  16  127   81  212 1117]]\n"
     ]
    },
    {
     "data": {
      "image/png": "[encoded data removed]",
      "text/plain": [
       "<Figure size 432x288 with 2 Axes>"
      ]
     },
     "metadata": {
      "needs_background": "light"
     },
     "output_type": "display_data"
    }
   ],
   "source": [
    "plot_confusion_matrix(cm, langs)"
   ]
  },
  {
   "cell_type": "code",
   "execution_count": 55,
   "metadata": {},
   "outputs": [
    {
     "name": "stdout",
     "output_type": "stream",
     "text": [
      "Normalized confusion matrix\n",
      "[[0.69932685 0.18175019 0.07329843 0.01795064 0.0276739 ]\n",
      " [0.04471545 0.7775842  0.12485482 0.01974448 0.03310105]\n",
      " [0.03269755 0.25       0.63555858 0.03746594 0.04427793]\n",
      " [0.00984366 0.02200347 0.07295889 0.74869716 0.14649682]\n",
      " [0.01030264 0.08177721 0.05215712 0.13650998 0.71925306]]\n"
     ]
    },
    {
     "data": {
      "image/png": "[encoded data removed]",
      "text/plain": [
       "<Figure size 432x288 with 2 Axes>"
      ]
     },
     "metadata": {
      "needs_background": "light"
     },
     "output_type": "display_data"
    }
   ],
   "source": [
    "plot_confusion_matrix(cm, langs, normalize=True)"
   ]
  },
  {
   "cell_type": "code",
   "execution_count": null,
   "metadata": {},
   "outputs": [],
   "source": []
  },
  {
   "cell_type": "code",
   "execution_count": null,
   "metadata": {},
   "outputs": [],
   "source": []
  },
  {
   "cell_type": "code",
   "execution_count": null,
   "metadata": {},
   "outputs": [],
   "source": []
  }
 ],
 "metadata": {
  "kernelspec": {
   "display_name": "rnn",
   "language": "python",
   "name": "rnn"
  },
  "language_info": {
   "codemirror_mode": {
    "name": "ipython",
    "version": 3
   },
   "file_extension": ".py",
   "mimetype": "text/x-python",
   "name": "python",
   "nbconvert_exporter": "python",
   "pygments_lexer": "ipython3",
   "version": "3.6.8"
  }
 },
 "nbformat": 4,
 "nbformat_minor": 2
}
