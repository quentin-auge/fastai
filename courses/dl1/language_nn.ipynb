{
 "cells": [
  {
   "cell_type": "code",
   "execution_count": 1,
   "metadata": {},
   "outputs": [],
   "source": [
    "%matplotlib inline\n",
    "%reload_ext autoreload\n",
    "%autoreload 2"
   ]
  },
  {
   "cell_type": "code",
   "execution_count": 2,
   "metadata": {},
   "outputs": [],
   "source": [
    "from sklearn.model_selection import train_test_split\n",
    "from sklearn.metrics import confusion_matrix"
   ]
  },
  {
   "cell_type": "code",
   "execution_count": 3,
   "metadata": {},
   "outputs": [],
   "source": [
    "from words import *"
   ]
  },
  {
   "cell_type": "code",
   "execution_count": null,
   "metadata": {},
   "outputs": [],
   "source": []
  },
  {
   "cell_type": "code",
   "execution_count": null,
   "metadata": {},
   "outputs": [],
   "source": []
  },
  {
   "cell_type": "markdown",
   "metadata": {},
   "source": [
    "# Get data"
   ]
  },
  {
   "cell_type": "code",
   "execution_count": 4,
   "metadata": {},
   "outputs": [],
   "source": [
    "MAX_LEN = 15"
   ]
  },
  {
   "cell_type": "code",
   "execution_count": 5,
   "metadata": {},
   "outputs": [
    {
     "data": {
      "text/plain": [
       "['de', 'en', 'fr', 'it', 'sp']"
      ]
     },
     "execution_count": 5,
     "metadata": {},
     "output_type": "execute_result"
    }
   ],
   "source": [
    "languages = sorted(['en', 'de', 'fr', 'it', 'sp'])\n",
    "languages"
   ]
  },
  {
   "cell_type": "code",
   "execution_count": 6,
   "metadata": {},
   "outputs": [],
   "source": [
    "filepaths = get_filepaths(*languages)\n",
    "df = read_data(filepaths)\n",
    "df = filter_data(df, min_len=4, max_len=MAX_LEN, min_freq=5)\n",
    "df.language = df.language.str.slice(0, 2)"
   ]
  },
  {
   "cell_type": "code",
   "execution_count": 7,
   "metadata": {},
   "outputs": [
    {
     "data": {
      "text/html": [
       "<div>\n",
       "<style scoped>\n",
       "    .dataframe tbody tr th:only-of-type {\n",
       "        vertical-align: middle;\n",
       "    }\n",
       "\n",
       "    .dataframe tbody tr th {\n",
       "        vertical-align: top;\n",
       "    }\n",
       "\n",
       "    .dataframe thead th {\n",
       "        text-align: right;\n",
       "    }\n",
       "</style>\n",
       "<table border=\"1\" class=\"dataframe\">\n",
       "  <thead>\n",
       "    <tr style=\"text-align: right;\">\n",
       "      <th></th>\n",
       "      <th>word</th>\n",
       "      <th>freq</th>\n",
       "      <th>language</th>\n",
       "    </tr>\n",
       "  </thead>\n",
       "  <tbody>\n",
       "    <tr>\n",
       "      <th>37</th>\n",
       "      <td>wurde</td>\n",
       "      <td>1463</td>\n",
       "      <td>de</td>\n",
       "    </tr>\n",
       "    <tr>\n",
       "      <th>46</th>\n",
       "      <td>sich</td>\n",
       "      <td>1066</td>\n",
       "      <td>de</td>\n",
       "    </tr>\n",
       "    <tr>\n",
       "      <th>47</th>\n",
       "      <td>eine</td>\n",
       "      <td>1049</td>\n",
       "      <td>de</td>\n",
       "    </tr>\n",
       "    <tr>\n",
       "      <th>53</th>\n",
       "      <td>auch</td>\n",
       "      <td>662</td>\n",
       "      <td>de</td>\n",
       "    </tr>\n",
       "    <tr>\n",
       "      <th>55</th>\n",
       "      <td>nach</td>\n",
       "      <td>653</td>\n",
       "      <td>de</td>\n",
       "    </tr>\n",
       "  </tbody>\n",
       "</table>\n",
       "</div>"
      ],
      "text/plain": [
       "     word  freq language\n",
       "37  wurde  1463       de\n",
       "46   sich  1066       de\n",
       "47   eine  1049       de\n",
       "53   auch   662       de\n",
       "55   nach   653       de"
      ]
     },
     "execution_count": 7,
     "metadata": {},
     "output_type": "execute_result"
    }
   ],
   "source": [
    "df.head()"
   ]
  },
  {
   "cell_type": "code",
   "execution_count": 8,
   "metadata": {},
   "outputs": [
    {
     "data": {
      "text/plain": [
       "language\n",
       "de    3104\n",
       "en    4613\n",
       "fr    4079\n",
       "it    4480\n",
       "sp    4312\n",
       "dtype: int64"
      ]
     },
     "execution_count": 8,
     "metadata": {},
     "output_type": "execute_result"
    }
   ],
   "source": [
    "df.groupby('language').size()"
   ]
  },
  {
   "cell_type": "code",
   "execution_count": null,
   "metadata": {},
   "outputs": [],
   "source": []
  },
  {
   "cell_type": "code",
   "execution_count": null,
   "metadata": {},
   "outputs": [],
   "source": []
  },
  {
   "cell_type": "markdown",
   "metadata": {},
   "source": [
    "### Remove duplicate words across languages"
   ]
  },
  {
   "cell_type": "code",
   "execution_count": 9,
   "metadata": {},
   "outputs": [
    {
     "name": "stdout",
     "output_type": "stream",
     "text": [
      "['variable', 'server', 'observe', 'philosophie', 'cast', 'gold', 'magico', 'missions', 'colonies', 'test', 'allen', 'forma', 'campo', 'capitan', 'analyse', 'population', 'piste', 'navy', 'marzo', 'realmente', 'viii', 'entre', 'persona', 'teatro', 'communication', 'carte', 'arts', 'marcus', 'conference', 'francia', 'inspiration', 'dedico', 'jose', 'virginia', 'bruno', 'millions', 'incendio', 'complete', 'viene', 'apple', 'error', 'franchise', 'region', 'tiene', 'corporation', 'data', 'cooper', 'sector', 'albert', 'portrait', 'warner', 'camp', 'diverse', 'richard', 'avance', 'match', 'madre', 'destino', 'compagnie', 'precisamente', 'college', 'norme', 'finale', 'present', 'donald', 'with', 'parties', 'mobile', 'xiii', 'suicide', 'decide', 'francisco', 'fallen', 'genre', 'clients', 'prison', 'copia', 'software', 'federal', 'commercial', 'diametro', 'name', 'arco', 'instrument', 'nick', 'public', 'hall', 'artistica', 'superficie', 'jazz', 'continua', 'italien', 'natural', 'descriptions', 'arrive', 'napoleon', 'reputation', 'certain', 'alexander', 'candidato', 'similar', 'trama', 'parallel', 'video', 'defense', 'rival', 'definir', 'supera', 'occidentale', 'rare', 'documents', 'terre', 'primavera', 'nave', 'medico', 'ideas', 'sort', 'origine', 'cielo', 'autonomia', 'block', 'version', 'selection', 'online', 'signature', 'euros', 'boys', 'sentir', 'types', 'ferrari', 'impression', 'correspond', 'aspect', 'operation', 'possession', 'villa', 'libro', 'george', 'sculpture', 'formato', 'cristiana', 'tecnico', 'declare', 'aumenta', 'verde', 'homer', 'life', 'satellite', 'reserves', 'variante', 'premio', 'crea', 'resta', 'polonia', 'tube', 'cable', 'integration', 'contrario', 'base', 'alle', 'real', 'traditions', 'extension', 'jury', 'ventre', 'numeros', 'multiples', 'industrial', 'circuit', 'torno', 'saint', 'exception', 'color', 'disco', 'luis', 'quasi', 'team', 'actual', 'marine', 'pista', 'bases', 'charges', 'define', 'relations', 'rang', 'dies', 'park', 'argentina', 'rock', 'vision', 'reserve', 'theme', 'recent', 'interne', 'separation', 'comite', 'categories', 'medieval', 'tournee', 'computer', 'girls', 'parents', 'stockholm', 'marina', 'contact', 'sites', 'routes', 'mode', 'jimmy', 'breve', 'episodio', 'elections', 'structure', 'popular', 'disney', 'president', 'china', 'concept', 'creando', 'temporal', 'smith', 'prepare', 'crisis', 'hans', 'presentation', 'methode', 'definitiva', 'interno', 'road', 'federico', 'stress', 'lista', 'sonora', 'nicolas', 'index', 'servir', 'terminal', 'nombre', 'arabe', 'tension', 'cambia', 'once', 'systems', 'seconde', 'question', 'sciences', 'torre', 'dominio', 'train', 'agente', 'original', 'christian', 'total', 'santa', 'morte', 'europeo', 'musica', 'communications', 'louis', 'capita', 'metodo', 'confusion', 'depend', 'euro', 'rural', 'protection', 'extinction', 'america', 'sede', 'acceder', 'liga', 'canada', 'difficile', 'saints', 'italiano', 'aerea', 'giro', 'dose', 'attitude', 'desert', 'ella', 'wilson', 'expression', 'dire', 'arabes', 'doctor', 'bombe', 'clubs', 'principale', 'gran', 'pierre', 'mike', 'recente', 'henry', 'expedition', 'associations', 'form', 'role', 'distance', 'culto', 'guardia', 'elite', 'continent', 'clinica', 'east', 'morfologia', 'royal', 'definition', 'pages', 'taylor', 'walter', 'parole', 'nota', 'prince', 'jersey', 'lage', 'dimensions', 'suit', 'technologies', 'rest', 'open', 'super', 'dominante', 'source', 'schema', 'finalmente', 'theatre', 'editor', 'scene', 'auge', 'bowl', 'cargo', 'accidents', 'forte', 'danger', 'profit', 'studio', 'mille', 'coin', 'avenue', 'bien', 'paris', 'albums', 'armee', 'banda', 'bible', 'fini', 'sebastian', 'judicial', 'show', 'senat', 'paul', 'londres', 'normalmente', 'roles', 'arthur', 'liste', 'alta', 'court', 'indien', 'style', 'serve', 'couple', 'lies', 'afghanistan', 'file', 'stelle', 'normale', 'performances', 'local', 'patrimonio', 'limite', 'poesia', 'publications', 'position', 'matrimonio', 'protagonista', 'formula', 'regina', 'mary', 'alfred', 'tour', 'education', 'miller', 'films', 'demografia', 'artista', 'distinction', 'massive', 'locales', 'management', 'israel', 'politica', 'nazi', 'entra', 'sole', 'mito', 'luna', 'passa', 'mines', 'giovanni', 'idea', 'capture', 'billy', 'superman', 'individuo', 'interna', 'novembre', 'coste', 'will', 'differente', 'social', 'quinta', 'fonte', 'standard', 'creo', 'direct', 'union', 'special', 'structures', 'action', 'edificio', 'apollo', 'unique', 'fusion', 'frank', 'problema', 'code', 'japan', 'nuclear', 'masse', 'artificial', 'start', 'dominant', 'torneo', 'william', 'charts', 'natale', 'resistance', 'leader', 'questions', 'interprete', 'representation', 'martin', 'sera', 'punta', 'virus', 'cercano', 'carne', 'active', 'corto', 'importance', 'taiwan', 'celebre', 'opinion', 'avion', 'large', 'preparation', 'format', 'alto', 'libres', 'dando', 'angeles', 'industrie', 'classes', 'factor', 'passage', 'manner', 'state', 'competition', 'interview', 'generations', 'revela', 'canto', 'metres', 'british', 'formal', 'divide', 'ritmo', 'reste', 'produce', 'design', 'existe', 'personnel', 'west', 'totale', 'office', 'editions', 'convention', 'relativa', 'francis', 'motor', 'meeting', 'provinces', 'ciclo', 'pace', 'tema', 'romans', 'quelle', 'talent', 'economica', 'main', 'orange', 'cellule', 'courses', 'institute', 'presento', 'themes', 'marie', 'corte', 'blues', 'moment', 'culture', 'tests', 'propose', 'course', 'courts', 'line', 'relief', 'pena', 'probable', 'grande', 'jesus', 'plus', 'register', 'males', 'totalmente', 'vista', 'alfredo', 'missile', 'santo', 'gouverneur', 'tunnel', 'mediante', 'casa', 'surface', 'concerts', 'april', 'signal', 'person', 'doctrine', 'module', 'angle', 'partir', 'information', 'station', 'effort', 'poca', 'date', 'simple', 'cristo', 'commission', 'nations', 'causo', 'sang', 'sociales', 'voto', 'agriculture', 'fall', 'post', 'miles', 'cerca', 'incluso', 'pronto', 'volumes', 'drama', 'categorie', 'importante', 'decision', 'idee', 'fase', 'distances', 'turismo', 'legal', 'genes', 'little', 'reduce', 'transaction', 'principe', 'gare', 'interior', 'solamente', 'mise', 'transport', 'vital', 'vote', 'articles', 'jean', 'tipo', 'diego', 'staff', 'police', 'simbolo', 'monumento', 'brain', 'kurt', 'cambio', 'presence', 'pero', 'area', 'actor', 'colonia', 'kong', 'formation', 'museo', 'lucas', 'camps', 'important', 'trono', 'completo', 'note', 'economia', 'epoca', 'programme', 'consiste', 'entro', 'sections', 'antonio', 'usando', 'golden', 'performance', 'compose', 'temperature', 'generale', 'execution', 'concert', 'traits', 'regionale', 'international', 'empire', 'links', 'individual', 'consequences', 'maria', 'phrase', 'variations', 'volume', 'legislation', 'table', 'support', 'materia', 'attend', 'cover', 'fast', 'hugo', 'alla', 'american', 'visible', 'constante', 'final', 'magazine', 'hill', 'statue', 'sports', 'dentro', 'elemento', 'cree', 'civil', 'costa', 'australian', 'instruments', 'continue', 'jardin', 'film', 'universitario', 'jackson', 'presente', 'precedente', 'county', 'fort', 'evento', 'porte', 'presidente', 'ultima', 'michael', 'head', 'applications', 'decisions', 'palais', 'morale', 'conquista', 'operations', 'dedica', 'parti', 'figura', 'generation', 'stand', 'zelanda', 'mayor', 'condition', 'dice', 'actions', 'consumo', 'desire', 'berlin', 'combat', 'valle', 'americano', 'fondo', 'hotel', 'company', 'creation', 'provincia', 'principalmente', 'cultural', 'saison', 'concentration', 'basa', 'mexico', 'bande', 'section', 'molecule', 'favor', 'tecnologia', 'agent', 'charles', 'issue', 'expansion', 'varie', 'observer', 'manager', 'night', 'animal', 'services', 'ultime', 'steve', 'sydney', 'disponibles', 'grace', 'anderson', 'land', 'imperial', 'minutes', 'love', 'participation', 'lord', 'message', 'metal', 'service', 'explosion', 'river', 'proteger', 'ohio', 'force', 'conserva', 'foto', 'tribunal', 'elizabeth', 'geografica', 'usage', 'different', 'gigante', 'bruce', 'donna', 'artistico', 'regionales', 'moderna', 'hockey', 'tres', 'completamente', 'capable', 'opposition', 'previsto', 'time', 'trio', 'case', 'mission', 'status', 'global', 'manuel', 'presenta', 'include', 'future', 'victoria', 'xviii', 'anna', 'originale', 'interpretation', 'liberal', 'locale', 'revolution', 'route', 'possible', 'friedrich', 'plan', 'africa', 'alte', 'divise', 'pieces', 'danza', 'honor', 'race', 'publication', 'best', 'amsterdam', 'village', 'variantes', 'secret', 'robert', 'christ', 'organisation', 'cifra', 'also', 'musical', 'trouble', 'alex', 'zero', 'avere', 'sociale', 'minor', 'experience', 'alliance', 'kind', 'pacifico', 'citation', 'windows', 'portugal', 'punto', 'respect', 'emissions', 'differences', 'williams', 'parlamento', 'philadelphia', 'james', 'gestion', 'federale', 'contiene', 'theories', 'zona', 'europea', 'suicidio', 'california', 'carta', 'ideal', 'patrick', 'copies', 'deja', 'technique', 'history', 'corea', 'opera', 'introduce', 'august', 'convento', 'change', 'fell', 'duro', 'comandante', 'production', 'otto', 'disponible', 'montagne', 'stadium', 'futuro', 'brown', 'pagina', 'yards', 'patients', 'linea', 'comic', 'quel', 'reference', 'australia', 'distribution', 'termina', 'scenes', 'jordan', 'agosto', 'casi', 'invasion', 'young', 'imperiale', 'maestro', 'mantiene', 'equivalent', 'continente', 'compare', 'temperatura', 'north', 'elena', 'positions', 'equation', 'circuito', 'civile', 'altitude', 'resolution', 'samuel', 'proteine', 'superior', 'estate', 'association', 'adams', 'religion', 'politico', 'mandato', 'romana', 'david', 'laura', 'league', 'municipal', 'stations', 'energia', 'assistance', 'recupero', 'torture', 'bond', 'application', 'latin', 'national', 'flotte', 'commerciale', 'situation', 'cultures', 'efficace', 'unica', 'franco', 'matt', 'former', 'importantes', 'piano', 'firma', 'evolution', 'termine', 'part', 'causa', 'port', 'zone', 'maximum', 'gente', 'tradition', 'come', 'record', 'naval', 'musicales', 'tabelle', 'cane', 'medio', 'award', 'violence', 'influence', 'place', 'filme', 'canal', 'episode', 'justice', 'sala', 'fisico', 'completa', 'numero', 'plans', 'durante', 'element', 'ministro', 'television', 'colonel', 'volante', 'tecnica', 'zones', 'florida', 'brand', 'successive', 'journal', 'theorie', 'normal', 'siege', 'japon', 'control', 'legale', 'austin', 'campagne', 'accident', 'pesca', 'sources', 'front', 'machines', 'places', 'machine', 'chance', 'circulation', 'tony', 'grosse', 'resto', 'scott', 'poesie', 'intervention', 'permanente', 'catalogo', 'constitution', 'chose', 'haut', 'tipico', 'prove', 'prima', 'campus', 'sein', 'poeta', 'conditions', 'fiction', 'geographie', 'bill', 'apertura', 'describe', 'death', 'center', 'male', 'lyon', 'libre', 'cantante', 'centre', 'awards', 'districts', 'option', 'sola', 'adoption', 'teoria', 'radio', 'critica', 'medical', 'grado', 'piece', 'benjamin', 'world', 'principio', 'contemporanea', 'coach', 'famosa', 'versions', 'hand', 'division', 'categoria', 'aller', 'face', 'observation', 'reunion', 'extreme', 'direction', 'game', 'johnson', 'colonie', 'roman', 'personal', 'metropolitana', 'description', 'sacerdote', 'roberto', 'graves', 'momento', 'patron', 'principal', 'cultura', 'areas', 'daniel', 'tanto', 'subi', 'famoso', 'incidente', 'solution', 'emission', 'these', 'army', 'clark', 'peter', 'roger', 'offensive', 'song', 'medicina', 'largo', 'architecture', 'relativamente', 'aereo', 'ford', 'tropical', 'joseph', 'familiar', 'chicago', 'solutions', 'periodo', 'limites', 'institut', 'juan', 'mostro', 'attention', 'november', 'sport', 'debut', 'facto', 'generales', 'compatible', 'platino', 'edward', 'reduction', 'sank', 'press', 'guerre', 'destruction', 'probleme', 'house', 'geografia', 'system', 'moderne', 'coalition', 'clan', 'lieutenant', 'miami', 'peru', 'grand', 'proposito', 'debate', 'lago', 'generalmente', 'dura', 'regiment', 'circuits', 'client', 'songs', 'terreno', 'intense', 'minima', 'cancer', 'symbol', 'xvii', 'systeme', 'karl', 'teams', 'angel', 'facilmente', 'vice', 'tales', 'utile', 'grave', 'district', 'parte', 'album', 'serie', 'black', 'regular', 'costo', 'economico', 'impact', 'onda', 'aspects', 'plane', 'transmission', 'notes', 'jeff', 'city', 'villages', 'clima', 'sorpresa', 'scale', 'forme', 'canon', 'rome', 'enorme', 'site', 'construction', 'genres', 'integral', 'general', 'motivo', 'london', 'strict', 'columbia', 'trait', 'mario', 'vino', 'sorte', 'attraction', 'musicale', 'modo', 'engage', 'difference', 'notable', 'capital', 'rapidamente', 'visita', 'seine', 'lion', 'talento', 'capitale', 'relation', 'automatica', 'vive', 'regions', 'private', 'scenario', 'laboratorio', 'stable', 'mental', 'extra', 'star', 'regime', 'howard', 'missiles', 'conversation', 'monte', 'thomas', 'cinema', 'matthew', 'componente', 'mondiale', 'bibliografia', 'cinematografica', 'club', 'champions', 'double', 'absence', 'passes', 'johnny', 'hitler', 'donne', 'habitat', 'reich', 'anime', 'techniques', 'pone', 'auto', 'impossible', 'isbn', 'jones', 'nord', 'lady', 'permanent', 'music', 'dispone', 'museum', 'power', 'visibles', 'label', 'lire', 'john', 'indice', 'winter', 'minister', 'fotografia', 'programmes', 'solo', 'science', 'ball', 'soldat', 'conception', 'productions', 'reactions', 'sino', 'biblioteca', 'second', 'vite', 'facile', 'election', 'lake', 'jane', 'logo', 'carl', 'mountain', 'stuttgart', 'considerable', 'carlos', 'valley', 'assistant', 'united', 'dato', 'unico', 'moderno', 'series', 'institutions', 'nature', 'figure', 'europe', 'episodes', 'madrid', 'romano', 'elements', 'universal', 'cafe', 'absolute', 'vivo', 'discussion', 'religiosa', 'academy', 'england', 'king', 'davis', 'presents', 'ambito', 'relative', 'autor', 'type', 'oliver', 'bomba', 'references', 'europa', 'victor', 'existence', 'dimension', 'poco', 'temperatures', 'manual', 'long', 'conclude', 'conto', 'colonial', 'arme', 'dark', 'media', 'guide', 'inversion', 'minimum', 'composition', 'arte', 'rose', 'tale', 'peso', 'usual', 'intelligence', 'manga', 'participa', 'regional', 'prime', 'university', 'memoria', 'interesse', 'times', 'ambiente', 'sale', 'points', 'september', 'emerge', 'plante', 'hollywood', 'italia', 'experimental', 'pure', 'franz', 'territorio', 'visto', 'director', 'nation', 'procedures', 'salvo', 'band', 'basis', 'brian', 'york', 'salon', 'images', 'quinto', 'organo', 'precise', 'periodico', 'stephen', 'fans', 'papa', 'sistema', 'solista', 'consequence', 'succession', 'decreto', 'cause', 'washington', 'jack', 'colonne', 'fama', 'image', 'professor', 'populations', 'definitivamente', 'football', 'page', 'mention', 'centro', 'elenco', 'intento', 'audience', 'orientation', 'rotation', 'efforts', 'organisations', 'cycle', 'records', 'point', 'felix', 'partner', 'temple', 'sexual', 'examen', 'high', 'demonstration', 'material', 'representations', 'religions', 'wilhelm', 'festival', 'responsable', 'continuo', 'mano', 'madonna', 'internet', 'collection', 'marco', 'offre', 'firmo', 'provoca', 'round', 'central', 'mente', 'presentes', 'party', 'caso', 'frase', 'single', 'cosa', 'phase', 'charge', 'grandes', 'nucleo', 'basse', 'fortuna', 'vide', 'termino', 'document', 'bord', 'school', 'fisica', 'padre', 'contribution', 'ultimo', 'biografia', 'forces', 'dirige', 'centrale', 'russia', 'particular', 'digital', 'text', 'prototipo', 'roma', 'coro', 'deriva', 'industries', 'accede', 'dick', 'poste', 'administration', 'india', 'significa', 'guerra', 'tolerance', 'participants', 'gris', 'harry', 'article', 'carter', 'camera', 'muro', 'street', 'france', 'principales', 'hospital', 'adam', 'orden', 'indica', 'fine', 'mark', 'edition', 'evidence', 'responsables', 'minute', 'classe', 'island', 'experiences']\n"
     ]
    }
   ],
   "source": [
    "joined = df.merge(df, on=['word'])\n",
    "joined = joined[joined.language_x != joined.language_y]\n",
    "duplicate_words = list(set(joined.word))\n",
    "print(duplicate_words)"
   ]
  },
  {
   "cell_type": "code",
   "execution_count": 10,
   "metadata": {},
   "outputs": [],
   "source": [
    "df = df[~df.word.isin(duplicate_words)]"
   ]
  },
  {
   "cell_type": "code",
   "execution_count": 11,
   "metadata": {},
   "outputs": [
    {
     "data": {
      "text/plain": [
       "language\n",
       "de    2795\n",
       "en    3606\n",
       "fr    3159\n",
       "it    3694\n",
       "sp    3482\n",
       "dtype: int64"
      ]
     },
     "execution_count": 11,
     "metadata": {},
     "output_type": "execute_result"
    }
   ],
   "source": [
    "df.groupby('language').size()"
   ]
  },
  {
   "cell_type": "code",
   "execution_count": null,
   "metadata": {},
   "outputs": [],
   "source": []
  },
  {
   "cell_type": "markdown",
   "metadata": {},
   "source": [
    "### Remove duplicate words within languages"
   ]
  },
  {
   "cell_type": "code",
   "execution_count": 12,
   "metadata": {},
   "outputs": [],
   "source": [
    "df = df.drop_duplicates('word')"
   ]
  },
  {
   "cell_type": "code",
   "execution_count": 13,
   "metadata": {},
   "outputs": [],
   "source": [
    "assert len(df.word) == len(set(df.word))"
   ]
  },
  {
   "cell_type": "code",
   "execution_count": 14,
   "metadata": {},
   "outputs": [
    {
     "data": {
      "text/plain": [
       "language\n",
       "de    2623\n",
       "en    3387\n",
       "fr    2922\n",
       "it    3483\n",
       "sp    3199\n",
       "dtype: int64"
      ]
     },
     "execution_count": 14,
     "metadata": {},
     "output_type": "execute_result"
    }
   ],
   "source": [
    "df.groupby('language').size()"
   ]
  },
  {
   "cell_type": "code",
   "execution_count": null,
   "metadata": {},
   "outputs": [],
   "source": []
  },
  {
   "cell_type": "code",
   "execution_count": null,
   "metadata": {},
   "outputs": [],
   "source": []
  },
  {
   "cell_type": "markdown",
   "metadata": {},
   "source": [
    "### Get validation indices"
   ]
  },
  {
   "cell_type": "code",
   "execution_count": 15,
   "metadata": {},
   "outputs": [],
   "source": [
    "df = df.reset_index(drop=True)"
   ]
  },
  {
   "cell_type": "code",
   "execution_count": 16,
   "metadata": {},
   "outputs": [
    {
     "name": "stderr",
     "output_type": "stream",
     "text": [
      "/home/quentin/anaconda3/envs/fastai-cpu/lib/python3.6/site-packages/sklearn/model_selection/_split.py:2179: FutureWarning: From version 0.21, test_size will always complement train_size unless both are specified.\n",
      "  FutureWarning)\n"
     ]
    }
   ],
   "source": [
    "train_idxs, val_idxs = train_test_split(df.index.tolist(), train_size=0.5, random_state=1)"
   ]
  },
  {
   "cell_type": "code",
   "execution_count": null,
   "metadata": {},
   "outputs": [],
   "source": []
  },
  {
   "cell_type": "code",
   "execution_count": null,
   "metadata": {},
   "outputs": [],
   "source": []
  },
  {
   "cell_type": "markdown",
   "metadata": {},
   "source": [
    "### Get letters as features"
   ]
  },
  {
   "cell_type": "code",
   "execution_count": 17,
   "metadata": {},
   "outputs": [],
   "source": [
    "feats = extract_features(df)"
   ]
  },
  {
   "cell_type": "code",
   "execution_count": 18,
   "metadata": {},
   "outputs": [
    {
     "data": {
      "text/html": [
       "<div>\n",
       "<style scoped>\n",
       "    .dataframe tbody tr th:only-of-type {\n",
       "        vertical-align: middle;\n",
       "    }\n",
       "\n",
       "    .dataframe tbody tr th {\n",
       "        vertical-align: top;\n",
       "    }\n",
       "\n",
       "    .dataframe thead th {\n",
       "        text-align: right;\n",
       "    }\n",
       "</style>\n",
       "<table border=\"1\" class=\"dataframe\">\n",
       "  <thead>\n",
       "    <tr style=\"text-align: right;\">\n",
       "      <th></th>\n",
       "      <th>0</th>\n",
       "      <th>1</th>\n",
       "      <th>2</th>\n",
       "      <th>3</th>\n",
       "      <th>4</th>\n",
       "      <th>5</th>\n",
       "      <th>6</th>\n",
       "      <th>7</th>\n",
       "      <th>8</th>\n",
       "      <th>9</th>\n",
       "      <th>10</th>\n",
       "      <th>11</th>\n",
       "      <th>12</th>\n",
       "      <th>13</th>\n",
       "      <th>14</th>\n",
       "      <th>language</th>\n",
       "    </tr>\n",
       "  </thead>\n",
       "  <tbody>\n",
       "    <tr>\n",
       "      <th>0</th>\n",
       "      <td>w</td>\n",
       "      <td>u</td>\n",
       "      <td>r</td>\n",
       "      <td>d</td>\n",
       "      <td>e</td>\n",
       "      <td>NaN</td>\n",
       "      <td>NaN</td>\n",
       "      <td>NaN</td>\n",
       "      <td>NaN</td>\n",
       "      <td>NaN</td>\n",
       "      <td>NaN</td>\n",
       "      <td>NaN</td>\n",
       "      <td>NaN</td>\n",
       "      <td>NaN</td>\n",
       "      <td>NaN</td>\n",
       "      <td>de</td>\n",
       "    </tr>\n",
       "    <tr>\n",
       "      <th>1</th>\n",
       "      <td>s</td>\n",
       "      <td>i</td>\n",
       "      <td>c</td>\n",
       "      <td>h</td>\n",
       "      <td>NaN</td>\n",
       "      <td>NaN</td>\n",
       "      <td>NaN</td>\n",
       "      <td>NaN</td>\n",
       "      <td>NaN</td>\n",
       "      <td>NaN</td>\n",
       "      <td>NaN</td>\n",
       "      <td>NaN</td>\n",
       "      <td>NaN</td>\n",
       "      <td>NaN</td>\n",
       "      <td>NaN</td>\n",
       "      <td>de</td>\n",
       "    </tr>\n",
       "    <tr>\n",
       "      <th>2</th>\n",
       "      <td>e</td>\n",
       "      <td>i</td>\n",
       "      <td>n</td>\n",
       "      <td>e</td>\n",
       "      <td>NaN</td>\n",
       "      <td>NaN</td>\n",
       "      <td>NaN</td>\n",
       "      <td>NaN</td>\n",
       "      <td>NaN</td>\n",
       "      <td>NaN</td>\n",
       "      <td>NaN</td>\n",
       "      <td>NaN</td>\n",
       "      <td>NaN</td>\n",
       "      <td>NaN</td>\n",
       "      <td>NaN</td>\n",
       "      <td>de</td>\n",
       "    </tr>\n",
       "    <tr>\n",
       "      <th>3</th>\n",
       "      <td>a</td>\n",
       "      <td>u</td>\n",
       "      <td>c</td>\n",
       "      <td>h</td>\n",
       "      <td>NaN</td>\n",
       "      <td>NaN</td>\n",
       "      <td>NaN</td>\n",
       "      <td>NaN</td>\n",
       "      <td>NaN</td>\n",
       "      <td>NaN</td>\n",
       "      <td>NaN</td>\n",
       "      <td>NaN</td>\n",
       "      <td>NaN</td>\n",
       "      <td>NaN</td>\n",
       "      <td>NaN</td>\n",
       "      <td>de</td>\n",
       "    </tr>\n",
       "    <tr>\n",
       "      <th>4</th>\n",
       "      <td>n</td>\n",
       "      <td>a</td>\n",
       "      <td>c</td>\n",
       "      <td>h</td>\n",
       "      <td>NaN</td>\n",
       "      <td>NaN</td>\n",
       "      <td>NaN</td>\n",
       "      <td>NaN</td>\n",
       "      <td>NaN</td>\n",
       "      <td>NaN</td>\n",
       "      <td>NaN</td>\n",
       "      <td>NaN</td>\n",
       "      <td>NaN</td>\n",
       "      <td>NaN</td>\n",
       "      <td>NaN</td>\n",
       "      <td>de</td>\n",
       "    </tr>\n",
       "  </tbody>\n",
       "</table>\n",
       "</div>"
      ],
      "text/plain": [
       "   0  1  2  3    4    5    6    7    8    9   10   11   12   13   14 language\n",
       "0  w  u  r  d    e  NaN  NaN  NaN  NaN  NaN  NaN  NaN  NaN  NaN  NaN       de\n",
       "1  s  i  c  h  NaN  NaN  NaN  NaN  NaN  NaN  NaN  NaN  NaN  NaN  NaN       de\n",
       "2  e  i  n  e  NaN  NaN  NaN  NaN  NaN  NaN  NaN  NaN  NaN  NaN  NaN       de\n",
       "3  a  u  c  h  NaN  NaN  NaN  NaN  NaN  NaN  NaN  NaN  NaN  NaN  NaN       de\n",
       "4  n  a  c  h  NaN  NaN  NaN  NaN  NaN  NaN  NaN  NaN  NaN  NaN  NaN       de"
      ]
     },
     "execution_count": 18,
     "metadata": {},
     "output_type": "execute_result"
    }
   ],
   "source": [
    "feats.head()"
   ]
  },
  {
   "cell_type": "code",
   "execution_count": null,
   "metadata": {},
   "outputs": [],
   "source": []
  },
  {
   "cell_type": "code",
   "execution_count": null,
   "metadata": {},
   "outputs": [],
   "source": []
  },
  {
   "cell_type": "code",
   "execution_count": null,
   "metadata": {},
   "outputs": [],
   "source": []
  },
  {
   "cell_type": "code",
   "execution_count": null,
   "metadata": {},
   "outputs": [],
   "source": []
  },
  {
   "cell_type": "markdown",
   "metadata": {},
   "source": [
    "# One-encoded features model"
   ]
  },
  {
   "cell_type": "code",
   "execution_count": 19,
   "metadata": {},
   "outputs": [],
   "source": [
    "from fastai.structured import *\n",
    "from fastai.column_data import *"
   ]
  },
  {
   "cell_type": "code",
   "execution_count": null,
   "metadata": {},
   "outputs": [],
   "source": []
  },
  {
   "cell_type": "code",
   "execution_count": null,
   "metadata": {},
   "outputs": [],
   "source": []
  },
  {
   "cell_type": "markdown",
   "metadata": {},
   "source": [
    "### Dumify variables"
   ]
  },
  {
   "cell_type": "code",
   "execution_count": 20,
   "metadata": {},
   "outputs": [],
   "source": [
    "def gen_dummy_cols():\n",
    "    for i in range(MAX_LEN):\n",
    "        for c_i in range(ord('a'), ord('z') + 1):\n",
    "            c = chr(c_i)\n",
    "            yield f'{i}_{c}'\n",
    "        yield f'{i}_nan'\n",
    "\n",
    "dummy_cols = list(gen_dummy_cols())"
   ]
  },
  {
   "cell_type": "code",
   "execution_count": 21,
   "metadata": {},
   "outputs": [
    {
     "name": "stdout",
     "output_type": "stream",
     "text": [
      "['0_a', '0_b', '0_c', '0_d', '0_e', '0_f', '0_g', '0_h', '0_i', '0_j', '0_k', '0_l', '0_m', '0_n', '0_o', '0_p', '0_q', '0_r', '0_s', '0_t', '0_u', '0_v', '0_w', '0_x', '0_y', '0_z', '0_nan', '1_a', '1_b', '1_c']\n",
      "['13_y', '13_z', '13_nan', '14_a', '14_b', '14_c', '14_d', '14_e', '14_f', '14_g', '14_h', '14_i', '14_j', '14_k', '14_l', '14_m', '14_n', '14_o', '14_p', '14_q', '14_r', '14_s', '14_t', '14_u', '14_v', '14_w', '14_x', '14_y', '14_z', '14_nan']\n"
     ]
    }
   ],
   "source": [
    "print(dummy_cols[:30])\n",
    "print(dummy_cols[-30:])"
   ]
  },
  {
   "cell_type": "code",
   "execution_count": 22,
   "metadata": {},
   "outputs": [],
   "source": [
    "y = feats['language']\n",
    "y_dummy = pd.get_dummies(y)\n",
    "y_dummy = y_dummy.astype(np.float32).reset_index(drop=True)"
   ]
  },
  {
   "cell_type": "code",
   "execution_count": 23,
   "metadata": {},
   "outputs": [],
   "source": [
    "feats_no_label = feats.drop('language', axis=1)"
   ]
  },
  {
   "cell_type": "code",
   "execution_count": 24,
   "metadata": {},
   "outputs": [],
   "source": [
    "feats_dummy = pd.get_dummies(feats, dummy_na=True)\n",
    "feats_dummy = feats_dummy.T.reindex(dummy_cols).T.fillna(0)\n",
    "feats_dummy = feats_dummy.astype(np.float32).reset_index(drop=True)"
   ]
  },
  {
   "cell_type": "code",
   "execution_count": 25,
   "metadata": {},
   "outputs": [
    {
     "data": {
      "text/html": [
       "<div>\n",
       "<style scoped>\n",
       "    .dataframe tbody tr th:only-of-type {\n",
       "        vertical-align: middle;\n",
       "    }\n",
       "\n",
       "    .dataframe tbody tr th {\n",
       "        vertical-align: top;\n",
       "    }\n",
       "\n",
       "    .dataframe thead th {\n",
       "        text-align: right;\n",
       "    }\n",
       "</style>\n",
       "<table border=\"1\" class=\"dataframe\">\n",
       "  <thead>\n",
       "    <tr style=\"text-align: right;\">\n",
       "      <th></th>\n",
       "      <th>0_a</th>\n",
       "      <th>0_b</th>\n",
       "      <th>0_c</th>\n",
       "      <th>0_d</th>\n",
       "      <th>0_e</th>\n",
       "      <th>0_f</th>\n",
       "      <th>0_g</th>\n",
       "      <th>0_h</th>\n",
       "      <th>0_i</th>\n",
       "      <th>0_j</th>\n",
       "      <th>...</th>\n",
       "      <th>14_r</th>\n",
       "      <th>14_s</th>\n",
       "      <th>14_t</th>\n",
       "      <th>14_u</th>\n",
       "      <th>14_v</th>\n",
       "      <th>14_w</th>\n",
       "      <th>14_x</th>\n",
       "      <th>14_y</th>\n",
       "      <th>14_z</th>\n",
       "      <th>14_nan</th>\n",
       "    </tr>\n",
       "  </thead>\n",
       "  <tbody>\n",
       "    <tr>\n",
       "      <th>0</th>\n",
       "      <td>0.0</td>\n",
       "      <td>0.0</td>\n",
       "      <td>0.0</td>\n",
       "      <td>0.0</td>\n",
       "      <td>0.0</td>\n",
       "      <td>0.0</td>\n",
       "      <td>0.0</td>\n",
       "      <td>0.0</td>\n",
       "      <td>0.0</td>\n",
       "      <td>0.0</td>\n",
       "      <td>...</td>\n",
       "      <td>0.0</td>\n",
       "      <td>0.0</td>\n",
       "      <td>0.0</td>\n",
       "      <td>0.0</td>\n",
       "      <td>0.0</td>\n",
       "      <td>0.0</td>\n",
       "      <td>0.0</td>\n",
       "      <td>0.0</td>\n",
       "      <td>0.0</td>\n",
       "      <td>1.0</td>\n",
       "    </tr>\n",
       "    <tr>\n",
       "      <th>1</th>\n",
       "      <td>0.0</td>\n",
       "      <td>0.0</td>\n",
       "      <td>0.0</td>\n",
       "      <td>0.0</td>\n",
       "      <td>0.0</td>\n",
       "      <td>0.0</td>\n",
       "      <td>0.0</td>\n",
       "      <td>0.0</td>\n",
       "      <td>0.0</td>\n",
       "      <td>0.0</td>\n",
       "      <td>...</td>\n",
       "      <td>0.0</td>\n",
       "      <td>0.0</td>\n",
       "      <td>0.0</td>\n",
       "      <td>0.0</td>\n",
       "      <td>0.0</td>\n",
       "      <td>0.0</td>\n",
       "      <td>0.0</td>\n",
       "      <td>0.0</td>\n",
       "      <td>0.0</td>\n",
       "      <td>1.0</td>\n",
       "    </tr>\n",
       "    <tr>\n",
       "      <th>2</th>\n",
       "      <td>0.0</td>\n",
       "      <td>0.0</td>\n",
       "      <td>0.0</td>\n",
       "      <td>0.0</td>\n",
       "      <td>1.0</td>\n",
       "      <td>0.0</td>\n",
       "      <td>0.0</td>\n",
       "      <td>0.0</td>\n",
       "      <td>0.0</td>\n",
       "      <td>0.0</td>\n",
       "      <td>...</td>\n",
       "      <td>0.0</td>\n",
       "      <td>0.0</td>\n",
       "      <td>0.0</td>\n",
       "      <td>0.0</td>\n",
       "      <td>0.0</td>\n",
       "      <td>0.0</td>\n",
       "      <td>0.0</td>\n",
       "      <td>0.0</td>\n",
       "      <td>0.0</td>\n",
       "      <td>1.0</td>\n",
       "    </tr>\n",
       "    <tr>\n",
       "      <th>3</th>\n",
       "      <td>1.0</td>\n",
       "      <td>0.0</td>\n",
       "      <td>0.0</td>\n",
       "      <td>0.0</td>\n",
       "      <td>0.0</td>\n",
       "      <td>0.0</td>\n",
       "      <td>0.0</td>\n",
       "      <td>0.0</td>\n",
       "      <td>0.0</td>\n",
       "      <td>0.0</td>\n",
       "      <td>...</td>\n",
       "      <td>0.0</td>\n",
       "      <td>0.0</td>\n",
       "      <td>0.0</td>\n",
       "      <td>0.0</td>\n",
       "      <td>0.0</td>\n",
       "      <td>0.0</td>\n",
       "      <td>0.0</td>\n",
       "      <td>0.0</td>\n",
       "      <td>0.0</td>\n",
       "      <td>1.0</td>\n",
       "    </tr>\n",
       "    <tr>\n",
       "      <th>4</th>\n",
       "      <td>0.0</td>\n",
       "      <td>0.0</td>\n",
       "      <td>0.0</td>\n",
       "      <td>0.0</td>\n",
       "      <td>0.0</td>\n",
       "      <td>0.0</td>\n",
       "      <td>0.0</td>\n",
       "      <td>0.0</td>\n",
       "      <td>0.0</td>\n",
       "      <td>0.0</td>\n",
       "      <td>...</td>\n",
       "      <td>0.0</td>\n",
       "      <td>0.0</td>\n",
       "      <td>0.0</td>\n",
       "      <td>0.0</td>\n",
       "      <td>0.0</td>\n",
       "      <td>0.0</td>\n",
       "      <td>0.0</td>\n",
       "      <td>0.0</td>\n",
       "      <td>0.0</td>\n",
       "      <td>1.0</td>\n",
       "    </tr>\n",
       "  </tbody>\n",
       "</table>\n",
       "<p>5 rows × 405 columns</p>\n",
       "</div>"
      ],
      "text/plain": [
       "   0_a  0_b  0_c  0_d  0_e  0_f  0_g  0_h  0_i  0_j   ...    14_r  14_s  14_t  \\\n",
       "0  0.0  0.0  0.0  0.0  0.0  0.0  0.0  0.0  0.0  0.0   ...     0.0   0.0   0.0   \n",
       "1  0.0  0.0  0.0  0.0  0.0  0.0  0.0  0.0  0.0  0.0   ...     0.0   0.0   0.0   \n",
       "2  0.0  0.0  0.0  0.0  1.0  0.0  0.0  0.0  0.0  0.0   ...     0.0   0.0   0.0   \n",
       "3  1.0  0.0  0.0  0.0  0.0  0.0  0.0  0.0  0.0  0.0   ...     0.0   0.0   0.0   \n",
       "4  0.0  0.0  0.0  0.0  0.0  0.0  0.0  0.0  0.0  0.0   ...     0.0   0.0   0.0   \n",
       "\n",
       "   14_u  14_v  14_w  14_x  14_y  14_z  14_nan  \n",
       "0   0.0   0.0   0.0   0.0   0.0   0.0     1.0  \n",
       "1   0.0   0.0   0.0   0.0   0.0   0.0     1.0  \n",
       "2   0.0   0.0   0.0   0.0   0.0   0.0     1.0  \n",
       "3   0.0   0.0   0.0   0.0   0.0   0.0     1.0  \n",
       "4   0.0   0.0   0.0   0.0   0.0   0.0     1.0  \n",
       "\n",
       "[5 rows x 405 columns]"
      ]
     },
     "execution_count": 25,
     "metadata": {},
     "output_type": "execute_result"
    }
   ],
   "source": [
    "feats_dummy.head()"
   ]
  },
  {
   "cell_type": "code",
   "execution_count": 26,
   "metadata": {},
   "outputs": [
    {
     "data": {
      "text/html": [
       "<div>\n",
       "<style scoped>\n",
       "    .dataframe tbody tr th:only-of-type {\n",
       "        vertical-align: middle;\n",
       "    }\n",
       "\n",
       "    .dataframe tbody tr th {\n",
       "        vertical-align: top;\n",
       "    }\n",
       "\n",
       "    .dataframe thead th {\n",
       "        text-align: right;\n",
       "    }\n",
       "</style>\n",
       "<table border=\"1\" class=\"dataframe\">\n",
       "  <thead>\n",
       "    <tr style=\"text-align: right;\">\n",
       "      <th></th>\n",
       "      <th>de</th>\n",
       "      <th>en</th>\n",
       "      <th>fr</th>\n",
       "      <th>it</th>\n",
       "      <th>sp</th>\n",
       "    </tr>\n",
       "  </thead>\n",
       "  <tbody>\n",
       "    <tr>\n",
       "      <th>0</th>\n",
       "      <td>1.0</td>\n",
       "      <td>0.0</td>\n",
       "      <td>0.0</td>\n",
       "      <td>0.0</td>\n",
       "      <td>0.0</td>\n",
       "    </tr>\n",
       "    <tr>\n",
       "      <th>1</th>\n",
       "      <td>1.0</td>\n",
       "      <td>0.0</td>\n",
       "      <td>0.0</td>\n",
       "      <td>0.0</td>\n",
       "      <td>0.0</td>\n",
       "    </tr>\n",
       "    <tr>\n",
       "      <th>2</th>\n",
       "      <td>1.0</td>\n",
       "      <td>0.0</td>\n",
       "      <td>0.0</td>\n",
       "      <td>0.0</td>\n",
       "      <td>0.0</td>\n",
       "    </tr>\n",
       "    <tr>\n",
       "      <th>3</th>\n",
       "      <td>1.0</td>\n",
       "      <td>0.0</td>\n",
       "      <td>0.0</td>\n",
       "      <td>0.0</td>\n",
       "      <td>0.0</td>\n",
       "    </tr>\n",
       "    <tr>\n",
       "      <th>4</th>\n",
       "      <td>1.0</td>\n",
       "      <td>0.0</td>\n",
       "      <td>0.0</td>\n",
       "      <td>0.0</td>\n",
       "      <td>0.0</td>\n",
       "    </tr>\n",
       "  </tbody>\n",
       "</table>\n",
       "</div>"
      ],
      "text/plain": [
       "    de   en   fr   it   sp\n",
       "0  1.0  0.0  0.0  0.0  0.0\n",
       "1  1.0  0.0  0.0  0.0  0.0\n",
       "2  1.0  0.0  0.0  0.0  0.0\n",
       "3  1.0  0.0  0.0  0.0  0.0\n",
       "4  1.0  0.0  0.0  0.0  0.0"
      ]
     },
     "execution_count": 26,
     "metadata": {},
     "output_type": "execute_result"
    }
   ],
   "source": [
    "y_dummy.head()"
   ]
  },
  {
   "cell_type": "code",
   "execution_count": null,
   "metadata": {},
   "outputs": [],
   "source": []
  },
  {
   "cell_type": "code",
   "execution_count": null,
   "metadata": {},
   "outputs": [],
   "source": []
  },
  {
   "cell_type": "markdown",
   "metadata": {},
   "source": [
    "### Model"
   ]
  },
  {
   "cell_type": "code",
   "execution_count": 27,
   "metadata": {},
   "outputs": [],
   "source": [
    "PATH = 'data/words/'\n",
    "md = ColumnarModelData.from_data_frame(PATH, val_idxs, df=feats_dummy, y=y_dummy.values, cat_flds=[], bs=128,\n",
    "                                       is_reg=False, is_multi=True)"
   ]
  },
  {
   "cell_type": "code",
   "execution_count": 28,
   "metadata": {},
   "outputs": [],
   "source": [
    "learn = md.get_learner(emb_szs=[], n_cont=feats_dummy.shape[1], emb_drop=0, out_sz=len(languages),\n",
    "                       szs=[500], drops=[0.3])"
   ]
  },
  {
   "cell_type": "code",
   "execution_count": 29,
   "metadata": {},
   "outputs": [
    {
     "data": {
      "application/vnd.jupyter.widget-view+json": {
       "model_id": "dc697cef91e94d3da4333ba7bef1d905",
       "version_major": 2,
       "version_minor": 0
      },
      "text/plain": [
       "HBox(children=(IntProgress(value=0, description='Epoch', max=1, style=ProgressStyle(description_width='initial…"
      ]
     },
     "metadata": {},
     "output_type": "display_data"
    },
    {
     "name": "stdout",
     "output_type": "stream",
     "text": [
      "epoch      trn_loss   val_loss                             \n",
      "    0      0.772547   2.92324   \n",
      "\n"
     ]
    }
   ],
   "source": [
    "learn.lr_find()"
   ]
  },
  {
   "cell_type": "code",
   "execution_count": 30,
   "metadata": {},
   "outputs": [
    {
     "data": {
      "image/png": "[encoded data removed]",
      "text/plain": [
       "<Figure size 432x288 with 1 Axes>"
      ]
     },
     "metadata": {
      "needs_background": "light"
     },
     "output_type": "display_data"
    }
   ],
   "source": [
    "learn.sched.plot()"
   ]
  },
  {
   "cell_type": "code",
   "execution_count": 31,
   "metadata": {},
   "outputs": [],
   "source": [
    "def accuracy(preds, targs):\n",
    "    _, preds = torch.max(preds, dim=1)\n",
    "    _, targs = torch.max(targs, dim=1)\n",
    "    return (preds==targs).float().mean()"
   ]
  },
  {
   "cell_type": "code",
   "execution_count": 32,
   "metadata": {
    "scrolled": false
   },
   "outputs": [
    {
     "data": {
      "application/vnd.jupyter.widget-view+json": {
       "model_id": "ff1e1d7ce14f4f699229cc1cd2ba46bc",
       "version_major": 2,
       "version_minor": 0
      },
      "text/plain": [
       "HBox(children=(IntProgress(value=0, description='Epoch', max=105, style=ProgressStyle(description_width='initi…"
      ]
     },
     "metadata": {},
     "output_type": "display_data"
    },
    {
     "name": "stdout",
     "output_type": "stream",
     "text": [
      "epoch      trn_loss   val_loss   accuracy                   \n",
      "    0      0.504026   0.447197   0.432561  \n",
      "    1      0.44449    0.404675   0.529397                  \n",
      "    2      0.406503   0.386851   0.54861                   \n",
      "    3      0.375336   0.381556   0.564878                  \n",
      "    4      0.344116   0.370899   0.586397                  \n",
      "    5      0.310273   0.369328   0.602792                  \n",
      "    6      0.282573   0.361243   0.623671                  \n",
      "    7      0.252843   0.375061   0.61906                   \n",
      "    8      0.229754   0.370397   0.639554                  \n",
      "    9      0.20852    0.369099   0.655822                  \n",
      "    10     0.188098   0.374926   0.658768                  \n",
      "    11     0.175973   0.373572   0.660049                  \n",
      "    12     0.166294   0.380286   0.660817                  \n",
      "    13     0.161107   0.37994    0.662354                  \n",
      "    14     0.155151   0.379998   0.663123                  \n",
      "    15     0.234024   0.42781    0.596132                  \n",
      "    16     0.296442   0.433113   0.568592                  \n",
      "    17     0.32071    0.423286   0.578071                  \n",
      "    18     0.322287   0.453015   0.581657                  \n",
      "    19     0.324203   0.465517   0.587934                  \n",
      "    20     0.317773   0.451388   0.597284                  \n",
      "    21     0.297965   0.463067   0.598181                  \n",
      "    22     0.279557   0.453142   0.612527                  \n",
      "    23     0.265988   0.454236   0.624952                  \n",
      "    24     0.247771   0.454554   0.62508                   \n",
      "    25     0.23569    0.466486   0.625208                  \n",
      "    26     0.228006   0.473566   0.637505                   \n",
      "    27     0.215495   0.481226   0.634046                   \n",
      "    28     0.201884   0.479173   0.638145                   \n",
      "    29     0.193564   0.480442   0.64993                    \n",
      "    30     0.182353   0.499298   0.650058                   \n",
      "    31     0.17436    0.505974   0.650954                   \n",
      "    32     0.168821   0.50435    0.654797                  \n",
      "    33     0.160768   0.520864   0.653644                  \n",
      "    34     0.15834    0.530108   0.657231                  \n",
      "    35     0.154269   0.529315   0.656206                  \n",
      "    36     0.147121   0.540612   0.656462                  \n",
      "    37     0.144266   0.540356   0.657231                  \n",
      "    38     0.14482    0.54487    0.658127                  \n",
      "    39     0.139326   0.549994   0.660817                  \n",
      "    40     0.137232   0.554723   0.661201                  \n",
      "    41     0.137035   0.555611   0.657999                  \n",
      "    42     0.135348   0.55657    0.659152                  \n",
      "    43     0.133955   0.556817   0.658512                  \n",
      "    44     0.132605   0.556939   0.658768                  \n",
      "    45     0.182783   0.538452   0.615858                  \n",
      "    46     0.23563    0.511967   0.600871                  \n",
      "    47     0.25709    0.508194   0.619188                   \n",
      "    48     0.26714    0.512077   0.594467                   \n",
      "    49     0.27112    0.51408    0.61099                    \n",
      "    50     0.261104   0.513593   0.620981                   \n",
      "    51     0.259814   0.503787   0.622006                   \n",
      "    52     0.258896   0.560831   0.596004                   \n",
      "    53     0.25983    0.529114   0.622646                   \n",
      "    54     0.242138   0.568603   0.620981                  \n",
      "    55     0.232866   0.535238   0.629563                  \n",
      "    56     0.234178   0.543917   0.62239                   \n",
      "    57     0.224508   0.547668   0.633022                  \n",
      "    58     0.223632   0.549964   0.631485                   \n",
      "    59     0.211898   0.55989    0.635968                  \n",
      "    60     0.207066   0.553869   0.62777                   \n",
      "    61     0.207865   0.559911   0.635455                  \n",
      "    62     0.19833    0.601448   0.635968                  \n",
      "    63     0.194884   0.591042   0.63853                   \n",
      "    64     0.193103   0.58389    0.63853                   \n",
      "    65     0.189533   0.577501   0.646343                  \n",
      "    66     0.184714   0.593562   0.64788                   \n",
      "    67     0.181482   0.586598   0.649289                  \n",
      "    68     0.176972   0.627691   0.646471                  \n",
      "    69     0.175699   0.618026   0.636864                  \n",
      "    70     0.175647   0.632212   0.642116                  \n",
      "    71     0.166359   0.627651   0.650186                  \n",
      "    72     0.163816   0.639853   0.645831                  \n",
      "    73     0.157184   0.656455   0.643013                   \n",
      "    74     0.152251   0.665903   0.644678                   \n",
      "    75     0.150951   0.661914   0.646599                   \n",
      "    76     0.147912   0.68127    0.649673                   \n",
      "    77     0.144745   0.698306   0.646471                  \n",
      "    78     0.146642   0.680161   0.651595                   \n",
      "    79     0.146277   0.687253   0.647496                   \n",
      "    80     0.145648   0.690713   0.648649                   \n",
      "    81     0.140226   0.700548   0.651979                  \n",
      "    82     0.139432   0.716394   0.655694                   \n",
      "    83     0.137922   0.717261   0.650826                   \n",
      "    84     0.135963   0.73018    0.647752                   \n",
      "    85     0.134376   0.740704   0.650954                   \n",
      "    86     0.135078   0.736839   0.652235                   \n",
      "    87     0.13378    0.750411   0.651082                   \n",
      "    88     0.134048   0.756196   0.653132                   \n",
      "    89     0.129636   0.75808    0.652876                   \n",
      "    90     0.128947   0.762457   0.650314                   \n",
      "    91     0.12876    0.767767   0.651723                   \n",
      "    92     0.126837   0.777356   0.652619                   \n",
      "    93     0.126751   0.786107   0.650826                   \n",
      "    94     0.127489   0.78659    0.651723                   \n",
      "    95     0.125501   0.785408   0.650954                   \n",
      "    96     0.122391   0.788229   0.652107                   \n",
      "    97     0.125604   0.79362    0.65057                    \n",
      "    98     0.123391   0.797482   0.650698                   \n",
      "    99     0.123602   0.798355   0.650698                   \n",
      "   100     0.124276   0.798328   0.651851                   \n",
      "   101     0.124731   0.798103   0.65057                    \n",
      "   102     0.125511   0.798149   0.650698                   \n",
      "   103     0.123208   0.798189   0.65057                    \n",
      "   104     0.121533   0.798217   0.650698                   \n",
      "\n"
     ]
    },
    {
     "data": {
      "text/plain": [
       "[array([0.79822]), 0.6506980914563852]"
      ]
     },
     "execution_count": 32,
     "metadata": {},
     "output_type": "execute_result"
    }
   ],
   "source": [
    "learn.fit(0.1, n_cycle=3, cycle_len=15, cycle_mult=2, metrics=[accuracy])"
   ]
  },
  {
   "cell_type": "code",
   "execution_count": null,
   "metadata": {},
   "outputs": [],
   "source": []
  },
  {
   "cell_type": "code",
   "execution_count": null,
   "metadata": {},
   "outputs": [],
   "source": []
  },
  {
   "cell_type": "markdown",
   "metadata": {},
   "source": [
    "### Predict and enrich validation dataset for analysis"
   ]
  },
  {
   "cell_type": "code",
   "execution_count": 33,
   "metadata": {},
   "outputs": [],
   "source": [
    "df_val = df.iloc[val_idxs].reset_index(drop=True)"
   ]
  },
  {
   "cell_type": "code",
   "execution_count": 34,
   "metadata": {},
   "outputs": [],
   "source": [
    "labels = np.argmax(y_dummy.iloc[val_idxs].values, axis=1)\n",
    "df_val['language_id'] = labels"
   ]
  },
  {
   "cell_type": "code",
   "execution_count": 35,
   "metadata": {},
   "outputs": [],
   "source": [
    "preds_dummy = learn.predict_array(x_cat=[0], x_cont=feats_dummy.iloc[val_idxs])\n",
    "preds = np.argmax(preds_dummy, axis=1)\n",
    "probas = np.max(preds_dummy, axis=1)\n",
    "df_val['pred_id'] = preds\n",
    "df_val['probas'] = probas"
   ]
  },
  {
   "cell_type": "code",
   "execution_count": 36,
   "metadata": {},
   "outputs": [],
   "source": [
    "df_val['pred'] = df_val['pred_id'].map(dict(enumerate(languages)))"
   ]
  },
  {
   "cell_type": "code",
   "execution_count": null,
   "metadata": {},
   "outputs": [],
   "source": []
  },
  {
   "cell_type": "code",
   "execution_count": null,
   "metadata": {},
   "outputs": [],
   "source": []
  },
  {
   "cell_type": "markdown",
   "metadata": {},
   "source": [
    "### Results analysis"
   ]
  },
  {
   "cell_type": "code",
   "execution_count": 37,
   "metadata": {},
   "outputs": [
    {
     "data": {
      "text/html": [
       "<div>\n",
       "<style scoped>\n",
       "    .dataframe tbody tr th:only-of-type {\n",
       "        vertical-align: middle;\n",
       "    }\n",
       "\n",
       "    .dataframe tbody tr th {\n",
       "        vertical-align: top;\n",
       "    }\n",
       "\n",
       "    .dataframe thead th {\n",
       "        text-align: right;\n",
       "    }\n",
       "</style>\n",
       "<table border=\"1\" class=\"dataframe\">\n",
       "  <thead>\n",
       "    <tr style=\"text-align: right;\">\n",
       "      <th></th>\n",
       "      <th>word</th>\n",
       "      <th>freq</th>\n",
       "      <th>language</th>\n",
       "      <th>language_id</th>\n",
       "      <th>pred_id</th>\n",
       "      <th>probas</th>\n",
       "      <th>pred</th>\n",
       "    </tr>\n",
       "  </thead>\n",
       "  <tbody>\n",
       "    <tr>\n",
       "      <th>0</th>\n",
       "      <td>preparazione</td>\n",
       "      <td>14</td>\n",
       "      <td>it</td>\n",
       "      <td>3</td>\n",
       "      <td>3</td>\n",
       "      <td>1.0</td>\n",
       "      <td>it</td>\n",
       "    </tr>\n",
       "    <tr>\n",
       "      <th>6393</th>\n",
       "      <td>einfuhrung</td>\n",
       "      <td>19</td>\n",
       "      <td>de</td>\n",
       "      <td>0</td>\n",
       "      <td>0</td>\n",
       "      <td>1.0</td>\n",
       "      <td>de</td>\n",
       "    </tr>\n",
       "    <tr>\n",
       "      <th>1341</th>\n",
       "      <td>speaks</td>\n",
       "      <td>5</td>\n",
       "      <td>en</td>\n",
       "      <td>1</td>\n",
       "      <td>1</td>\n",
       "      <td>1.0</td>\n",
       "      <td>en</td>\n",
       "    </tr>\n",
       "    <tr>\n",
       "      <th>3253</th>\n",
       "      <td>satisfy</td>\n",
       "      <td>7</td>\n",
       "      <td>en</td>\n",
       "      <td>1</td>\n",
       "      <td>1</td>\n",
       "      <td>1.0</td>\n",
       "      <td>en</td>\n",
       "    </tr>\n",
       "    <tr>\n",
       "      <th>3254</th>\n",
       "      <td>jahrhunderts</td>\n",
       "      <td>71</td>\n",
       "      <td>de</td>\n",
       "      <td>0</td>\n",
       "      <td>0</td>\n",
       "      <td>1.0</td>\n",
       "      <td>de</td>\n",
       "    </tr>\n",
       "    <tr>\n",
       "      <th>3257</th>\n",
       "      <td>testimonio</td>\n",
       "      <td>6</td>\n",
       "      <td>sp</td>\n",
       "      <td>4</td>\n",
       "      <td>3</td>\n",
       "      <td>1.0</td>\n",
       "      <td>it</td>\n",
       "    </tr>\n",
       "    <tr>\n",
       "      <th>6404</th>\n",
       "      <td>concerning</td>\n",
       "      <td>8</td>\n",
       "      <td>en</td>\n",
       "      <td>1</td>\n",
       "      <td>0</td>\n",
       "      <td>1.0</td>\n",
       "      <td>de</td>\n",
       "    </tr>\n",
       "    <tr>\n",
       "      <th>1335</th>\n",
       "      <td>arrivato</td>\n",
       "      <td>10</td>\n",
       "      <td>it</td>\n",
       "      <td>3</td>\n",
       "      <td>3</td>\n",
       "      <td>1.0</td>\n",
       "      <td>it</td>\n",
       "    </tr>\n",
       "    <tr>\n",
       "      <th>3260</th>\n",
       "      <td>provoque</td>\n",
       "      <td>6</td>\n",
       "      <td>fr</td>\n",
       "      <td>2</td>\n",
       "      <td>2</td>\n",
       "      <td>1.0</td>\n",
       "      <td>fr</td>\n",
       "    </tr>\n",
       "    <tr>\n",
       "      <th>3261</th>\n",
       "      <td>frazione</td>\n",
       "      <td>11</td>\n",
       "      <td>it</td>\n",
       "      <td>3</td>\n",
       "      <td>3</td>\n",
       "      <td>1.0</td>\n",
       "      <td>it</td>\n",
       "    </tr>\n",
       "  </tbody>\n",
       "</table>\n",
       "</div>"
      ],
      "text/plain": [
       "              word  freq language  language_id  pred_id  probas pred\n",
       "0     preparazione    14       it            3        3     1.0   it\n",
       "6393    einfuhrung    19       de            0        0     1.0   de\n",
       "1341        speaks     5       en            1        1     1.0   en\n",
       "3253       satisfy     7       en            1        1     1.0   en\n",
       "3254  jahrhunderts    71       de            0        0     1.0   de\n",
       "3257    testimonio     6       sp            4        3     1.0   it\n",
       "6404    concerning     8       en            1        0     1.0   de\n",
       "1335      arrivato    10       it            3        3     1.0   it\n",
       "3260      provoque     6       fr            2        2     1.0   fr\n",
       "3261      frazione    11       it            3        3     1.0   it"
      ]
     },
     "execution_count": 37,
     "metadata": {},
     "output_type": "execute_result"
    }
   ],
   "source": [
    "# Most confident predictions\n",
    "df_val.sort_values('probas', ascending=False).head(10)"
   ]
  },
  {
   "cell_type": "code",
   "execution_count": 38,
   "metadata": {
    "scrolled": true
   },
   "outputs": [
    {
     "data": {
      "text/html": [
       "<div>\n",
       "<style scoped>\n",
       "    .dataframe tbody tr th:only-of-type {\n",
       "        vertical-align: middle;\n",
       "    }\n",
       "\n",
       "    .dataframe tbody tr th {\n",
       "        vertical-align: top;\n",
       "    }\n",
       "\n",
       "    .dataframe thead th {\n",
       "        text-align: right;\n",
       "    }\n",
       "</style>\n",
       "<table border=\"1\" class=\"dataframe\">\n",
       "  <thead>\n",
       "    <tr style=\"text-align: right;\">\n",
       "      <th></th>\n",
       "      <th>word</th>\n",
       "      <th>freq</th>\n",
       "      <th>language</th>\n",
       "      <th>language_id</th>\n",
       "      <th>pred_id</th>\n",
       "      <th>probas</th>\n",
       "      <th>pred</th>\n",
       "    </tr>\n",
       "  </thead>\n",
       "  <tbody>\n",
       "    <tr>\n",
       "      <th>3416</th>\n",
       "      <td>zusammenarbeit</td>\n",
       "      <td>6</td>\n",
       "      <td>de</td>\n",
       "      <td>0</td>\n",
       "      <td>4</td>\n",
       "      <td>3.462990e-11</td>\n",
       "      <td>sp</td>\n",
       "    </tr>\n",
       "    <tr>\n",
       "      <th>743</th>\n",
       "      <td>riconoscimento</td>\n",
       "      <td>8</td>\n",
       "      <td>it</td>\n",
       "      <td>3</td>\n",
       "      <td>4</td>\n",
       "      <td>6.833682e-11</td>\n",
       "      <td>sp</td>\n",
       "    </tr>\n",
       "    <tr>\n",
       "      <th>298</th>\n",
       "      <td>esclusivamente</td>\n",
       "      <td>13</td>\n",
       "      <td>it</td>\n",
       "      <td>3</td>\n",
       "      <td>4</td>\n",
       "      <td>8.461777e-11</td>\n",
       "      <td>sp</td>\n",
       "    </tr>\n",
       "    <tr>\n",
       "      <th>3162</th>\n",
       "      <td>transformacion</td>\n",
       "      <td>6</td>\n",
       "      <td>sp</td>\n",
       "      <td>4</td>\n",
       "      <td>2</td>\n",
       "      <td>2.441605e-09</td>\n",
       "      <td>fr</td>\n",
       "    </tr>\n",
       "    <tr>\n",
       "      <th>7501</th>\n",
       "      <td>traditionnelles</td>\n",
       "      <td>6</td>\n",
       "      <td>fr</td>\n",
       "      <td>2</td>\n",
       "      <td>4</td>\n",
       "      <td>5.535431e-09</td>\n",
       "      <td>sp</td>\n",
       "    </tr>\n",
       "    <tr>\n",
       "      <th>6445</th>\n",
       "      <td>probabilmente</td>\n",
       "      <td>34</td>\n",
       "      <td>it</td>\n",
       "      <td>3</td>\n",
       "      <td>3</td>\n",
       "      <td>6.697310e-09</td>\n",
       "      <td>it</td>\n",
       "    </tr>\n",
       "    <tr>\n",
       "      <th>737</th>\n",
       "      <td>dreiigjahrigen</td>\n",
       "      <td>5</td>\n",
       "      <td>de</td>\n",
       "      <td>0</td>\n",
       "      <td>4</td>\n",
       "      <td>5.128665e-08</td>\n",
       "      <td>sp</td>\n",
       "    </tr>\n",
       "    <tr>\n",
       "      <th>5432</th>\n",
       "      <td>fonctionnement</td>\n",
       "      <td>13</td>\n",
       "      <td>fr</td>\n",
       "      <td>2</td>\n",
       "      <td>2</td>\n",
       "      <td>1.815283e-05</td>\n",
       "      <td>fr</td>\n",
       "    </tr>\n",
       "    <tr>\n",
       "      <th>2839</th>\n",
       "      <td>sperimentazione</td>\n",
       "      <td>5</td>\n",
       "      <td>it</td>\n",
       "      <td>3</td>\n",
       "      <td>3</td>\n",
       "      <td>2.487817e-05</td>\n",
       "      <td>it</td>\n",
       "    </tr>\n",
       "    <tr>\n",
       "      <th>1231</th>\n",
       "      <td>traditionellen</td>\n",
       "      <td>7</td>\n",
       "      <td>de</td>\n",
       "      <td>0</td>\n",
       "      <td>0</td>\n",
       "      <td>6.021503e-05</td>\n",
       "      <td>de</td>\n",
       "    </tr>\n",
       "  </tbody>\n",
       "</table>\n",
       "</div>"
      ],
      "text/plain": [
       "                 word  freq language  language_id  pred_id        probas pred\n",
       "3416   zusammenarbeit     6       de            0        4  3.462990e-11   sp\n",
       "743    riconoscimento     8       it            3        4  6.833682e-11   sp\n",
       "298    esclusivamente    13       it            3        4  8.461777e-11   sp\n",
       "3162   transformacion     6       sp            4        2  2.441605e-09   fr\n",
       "7501  traditionnelles     6       fr            2        4  5.535431e-09   sp\n",
       "6445    probabilmente    34       it            3        3  6.697310e-09   it\n",
       "737    dreiigjahrigen     5       de            0        4  5.128665e-08   sp\n",
       "5432   fonctionnement    13       fr            2        2  1.815283e-05   fr\n",
       "2839  sperimentazione     5       it            3        3  2.487817e-05   it\n",
       "1231   traditionellen     7       de            0        0  6.021503e-05   de"
      ]
     },
     "execution_count": 38,
     "metadata": {},
     "output_type": "execute_result"
    }
   ],
   "source": [
    "# Least confident predictions\n",
    "df_val.sort_values('probas').head(10)"
   ]
  },
  {
   "cell_type": "code",
   "execution_count": null,
   "metadata": {},
   "outputs": [],
   "source": []
  },
  {
   "cell_type": "code",
   "execution_count": null,
   "metadata": {},
   "outputs": [],
   "source": []
  },
  {
   "cell_type": "code",
   "execution_count": 39,
   "metadata": {},
   "outputs": [],
   "source": [
    "def plot_confusion_matrix(cm, classes,\n",
    "                          normalize=False,\n",
    "                          title='Confusion matrix',\n",
    "                          cmap=plt.cm.Blues):\n",
    "    \"\"\"\n",
    "    This function prints and plots the confusion matrix.\n",
    "    Normalization can be applied by setting `normalize=True`.\n",
    "    \"\"\"\n",
    "    if normalize:\n",
    "        cm = cm.astype('float') / cm.sum(axis=1)[:, np.newaxis]\n",
    "        print(\"Normalized confusion matrix\")\n",
    "    else:\n",
    "        print('Confusion matrix, without normalization')\n",
    "\n",
    "    print(cm)\n",
    "\n",
    "    plt.imshow(cm, interpolation='nearest', cmap=cmap)\n",
    "    plt.title(title)\n",
    "    plt.colorbar()\n",
    "    tick_marks = np.arange(len(classes))\n",
    "    plt.xticks(tick_marks, classes, rotation=45)\n",
    "    plt.yticks(tick_marks, classes)\n",
    "\n",
    "    fmt = '.2f' if normalize else 'd'\n",
    "    thresh = cm.max() / 2.\n",
    "    for i, j in itertools.product(range(cm.shape[0]), range(cm.shape[1])):\n",
    "        plt.text(j, i, format(cm[i, j], fmt),\n",
    "                 horizontalalignment=\"center\",\n",
    "                 color=\"white\" if cm[i, j] > thresh else \"black\")\n",
    "\n",
    "    plt.ylabel('True label')\n",
    "    plt.xlabel('Predicted label')\n",
    "    plt.tight_layout()"
   ]
  },
  {
   "cell_type": "code",
   "execution_count": 40,
   "metadata": {},
   "outputs": [],
   "source": [
    "cm = confusion_matrix(df_val['language'], df_val['pred'])"
   ]
  },
  {
   "cell_type": "code",
   "execution_count": 41,
   "metadata": {},
   "outputs": [
    {
     "name": "stdout",
     "output_type": "stream",
     "text": [
      "Confusion matrix, without normalization\n",
      "[[ 972  160  106   59   40]\n",
      " [ 177 1056  255  105  129]\n",
      " [ 120  231  854  153  110]\n",
      " [  47   63  188 1156  273]\n",
      " [  52  102  153  204 1042]]\n"
     ]
    },
    {
     "data": {
      "image/png": "[encoded data removed]",
      "text/plain": [
       "<Figure size 432x288 with 2 Axes>"
      ]
     },
     "metadata": {
      "needs_background": "light"
     },
     "output_type": "display_data"
    }
   ],
   "source": [
    "plot_confusion_matrix(cm, languages)"
   ]
  },
  {
   "cell_type": "code",
   "execution_count": 42,
   "metadata": {},
   "outputs": [
    {
     "name": "stdout",
     "output_type": "stream",
     "text": [
      "Normalized confusion matrix\n",
      "[[0.727   0.11967 0.07928 0.04413 0.02992]\n",
      " [0.10279 0.61324 0.14808 0.06098 0.07491]\n",
      " [0.08174 0.15736 0.58174 0.10422 0.07493]\n",
      " [0.02721 0.03648 0.10886 0.66937 0.15808]\n",
      " [0.03348 0.06568 0.09852 0.13136 0.67096]]\n"
     ]
    },
    {
     "data": {
      "image/png": "[encoded data removed]",
      "text/plain": [
       "<Figure size 432x288 with 2 Axes>"
      ]
     },
     "metadata": {
      "needs_background": "light"
     },
     "output_type": "display_data"
    }
   ],
   "source": [
    "plot_confusion_matrix(cm, languages, normalize=True)"
   ]
  },
  {
   "cell_type": "code",
   "execution_count": null,
   "metadata": {},
   "outputs": [],
   "source": []
  },
  {
   "cell_type": "code",
   "execution_count": null,
   "metadata": {},
   "outputs": [],
   "source": []
  },
  {
   "cell_type": "code",
   "execution_count": null,
   "metadata": {},
   "outputs": [],
   "source": []
  },
  {
   "cell_type": "code",
   "execution_count": null,
   "metadata": {},
   "outputs": [],
   "source": []
  },
  {
   "cell_type": "markdown",
   "metadata": {},
   "source": [
    "# Embedded features model"
   ]
  },
  {
   "cell_type": "code",
   "execution_count": 43,
   "metadata": {},
   "outputs": [],
   "source": [
    "data, y_idxs, _ = proc_df(feats, 'language')"
   ]
  },
  {
   "cell_type": "code",
   "execution_count": 44,
   "metadata": {},
   "outputs": [
    {
     "data": {
      "text/html": [
       "<div>\n",
       "<style scoped>\n",
       "    .dataframe tbody tr th:only-of-type {\n",
       "        vertical-align: middle;\n",
       "    }\n",
       "\n",
       "    .dataframe tbody tr th {\n",
       "        vertical-align: top;\n",
       "    }\n",
       "\n",
       "    .dataframe thead th {\n",
       "        text-align: right;\n",
       "    }\n",
       "</style>\n",
       "<table border=\"1\" class=\"dataframe\">\n",
       "  <thead>\n",
       "    <tr style=\"text-align: right;\">\n",
       "      <th></th>\n",
       "      <th>0</th>\n",
       "      <th>1</th>\n",
       "      <th>2</th>\n",
       "      <th>3</th>\n",
       "      <th>4</th>\n",
       "      <th>5</th>\n",
       "      <th>6</th>\n",
       "      <th>7</th>\n",
       "      <th>8</th>\n",
       "      <th>9</th>\n",
       "      <th>10</th>\n",
       "      <th>11</th>\n",
       "      <th>12</th>\n",
       "      <th>13</th>\n",
       "      <th>14</th>\n",
       "    </tr>\n",
       "  </thead>\n",
       "  <tbody>\n",
       "    <tr>\n",
       "      <th>0</th>\n",
       "      <td>23</td>\n",
       "      <td>21</td>\n",
       "      <td>18</td>\n",
       "      <td>4</td>\n",
       "      <td>5</td>\n",
       "      <td>0</td>\n",
       "      <td>0</td>\n",
       "      <td>0</td>\n",
       "      <td>0</td>\n",
       "      <td>0</td>\n",
       "      <td>0</td>\n",
       "      <td>0</td>\n",
       "      <td>0</td>\n",
       "      <td>0</td>\n",
       "      <td>0</td>\n",
       "    </tr>\n",
       "    <tr>\n",
       "      <th>1</th>\n",
       "      <td>19</td>\n",
       "      <td>9</td>\n",
       "      <td>3</td>\n",
       "      <td>8</td>\n",
       "      <td>0</td>\n",
       "      <td>0</td>\n",
       "      <td>0</td>\n",
       "      <td>0</td>\n",
       "      <td>0</td>\n",
       "      <td>0</td>\n",
       "      <td>0</td>\n",
       "      <td>0</td>\n",
       "      <td>0</td>\n",
       "      <td>0</td>\n",
       "      <td>0</td>\n",
       "    </tr>\n",
       "    <tr>\n",
       "      <th>2</th>\n",
       "      <td>5</td>\n",
       "      <td>9</td>\n",
       "      <td>14</td>\n",
       "      <td>5</td>\n",
       "      <td>0</td>\n",
       "      <td>0</td>\n",
       "      <td>0</td>\n",
       "      <td>0</td>\n",
       "      <td>0</td>\n",
       "      <td>0</td>\n",
       "      <td>0</td>\n",
       "      <td>0</td>\n",
       "      <td>0</td>\n",
       "      <td>0</td>\n",
       "      <td>0</td>\n",
       "    </tr>\n",
       "    <tr>\n",
       "      <th>3</th>\n",
       "      <td>1</td>\n",
       "      <td>21</td>\n",
       "      <td>3</td>\n",
       "      <td>8</td>\n",
       "      <td>0</td>\n",
       "      <td>0</td>\n",
       "      <td>0</td>\n",
       "      <td>0</td>\n",
       "      <td>0</td>\n",
       "      <td>0</td>\n",
       "      <td>0</td>\n",
       "      <td>0</td>\n",
       "      <td>0</td>\n",
       "      <td>0</td>\n",
       "      <td>0</td>\n",
       "    </tr>\n",
       "    <tr>\n",
       "      <th>4</th>\n",
       "      <td>14</td>\n",
       "      <td>1</td>\n",
       "      <td>3</td>\n",
       "      <td>8</td>\n",
       "      <td>0</td>\n",
       "      <td>0</td>\n",
       "      <td>0</td>\n",
       "      <td>0</td>\n",
       "      <td>0</td>\n",
       "      <td>0</td>\n",
       "      <td>0</td>\n",
       "      <td>0</td>\n",
       "      <td>0</td>\n",
       "      <td>0</td>\n",
       "      <td>0</td>\n",
       "    </tr>\n",
       "  </tbody>\n",
       "</table>\n",
       "</div>"
      ],
      "text/plain": [
       "   0   1   2   3   4   5   6   7   8   9   10  11  12  13  14\n",
       "0  23  21  18   4   5   0   0   0   0   0   0   0   0   0   0\n",
       "1  19   9   3   8   0   0   0   0   0   0   0   0   0   0   0\n",
       "2   5   9  14   5   0   0   0   0   0   0   0   0   0   0   0\n",
       "3   1  21   3   8   0   0   0   0   0   0   0   0   0   0   0\n",
       "4  14   1   3   8   0   0   0   0   0   0   0   0   0   0   0"
      ]
     },
     "execution_count": 44,
     "metadata": {},
     "output_type": "execute_result"
    }
   ],
   "source": [
    "data.head()"
   ]
  },
  {
   "cell_type": "code",
   "execution_count": 45,
   "metadata": {},
   "outputs": [
    {
     "data": {
      "text/plain": [
       "array([0, 0, 0, ..., 3, 3, 3], dtype=int8)"
      ]
     },
     "execution_count": 45,
     "metadata": {},
     "output_type": "execute_result"
    }
   ],
   "source": [
    "y_idxs"
   ]
  },
  {
   "cell_type": "code",
   "execution_count": 46,
   "metadata": {},
   "outputs": [],
   "source": [
    "y_dummy = np.zeros((len(y_idxs), len(languages)))\n",
    "y_dummy[np.arange(len(y_idxs)), y_idxs] = 1"
   ]
  },
  {
   "cell_type": "code",
   "execution_count": 47,
   "metadata": {},
   "outputs": [
    {
     "data": {
      "text/plain": [
       "array([[1., 0., 0., 0., 0.],\n",
       "       [1., 0., 0., 0., 0.],\n",
       "       [1., 0., 0., 0., 0.],\n",
       "       ...,\n",
       "       [0., 0., 0., 1., 0.],\n",
       "       [0., 0., 0., 1., 0.],\n",
       "       [0., 0., 0., 1., 0.]])"
      ]
     },
     "execution_count": 47,
     "metadata": {},
     "output_type": "execute_result"
    }
   ],
   "source": [
    "y_dummy"
   ]
  },
  {
   "cell_type": "code",
   "execution_count": null,
   "metadata": {},
   "outputs": [],
   "source": []
  },
  {
   "cell_type": "code",
   "execution_count": null,
   "metadata": {},
   "outputs": [],
   "source": []
  },
  {
   "cell_type": "markdown",
   "metadata": {},
   "source": [
    "### Model"
   ]
  },
  {
   "cell_type": "code",
   "execution_count": 48,
   "metadata": {},
   "outputs": [],
   "source": [
    "PATH = 'data/words/'\n",
    "md = ColumnarModelData.from_data_frame(PATH, val_idxs, df=data, y=y_dummy, cat_flds=list(range(MAX_LEN)), bs=128,\n",
    "                                       is_reg=False, is_multi=True)"
   ]
  },
  {
   "cell_type": "code",
   "execution_count": 49,
   "metadata": {},
   "outputs": [],
   "source": [
    "cat_sz = [(c, len(feats[c].cat.categories)+1) for c in list(range(MAX_LEN))]"
   ]
  },
  {
   "cell_type": "code",
   "execution_count": 50,
   "metadata": {},
   "outputs": [
    {
     "data": {
      "text/plain": [
       "[(0, 27),\n",
       " (1, 27),\n",
       " (2, 27),\n",
       " (3, 27),\n",
       " (4, 27),\n",
       " (5, 27),\n",
       " (6, 27),\n",
       " (7, 27),\n",
       " (8, 27),\n",
       " (9, 27),\n",
       " (10, 27),\n",
       " (11, 22),\n",
       " (12, 20),\n",
       " (13, 18),\n",
       " (14, 12)]"
      ]
     },
     "execution_count": 50,
     "metadata": {},
     "output_type": "execute_result"
    }
   ],
   "source": [
    "cat_sz"
   ]
  },
  {
   "cell_type": "code",
   "execution_count": 51,
   "metadata": {},
   "outputs": [],
   "source": [
    "emb_szs = [(c, 13) for _, c in cat_sz]"
   ]
  },
  {
   "cell_type": "code",
   "execution_count": 52,
   "metadata": {},
   "outputs": [],
   "source": [
    "learn = md.get_learner(emb_szs, n_cont=0, emb_drop=0.4, out_sz=len(languages), szs=[500], drops=[0.3])"
   ]
  },
  {
   "cell_type": "code",
   "execution_count": 53,
   "metadata": {},
   "outputs": [
    {
     "data": {
      "application/vnd.jupyter.widget-view+json": {
       "model_id": "0cfc9b2697064c319a6189787a72f509",
       "version_major": 2,
       "version_minor": 0
      },
      "text/plain": [
       "HBox(children=(IntProgress(value=0, description='Epoch', max=1, style=ProgressStyle(description_width='initial…"
      ]
     },
     "metadata": {},
     "output_type": "display_data"
    },
    {
     "name": "stdout",
     "output_type": "stream",
     "text": [
      "epoch      trn_loss   val_loss                              \n",
      "    0      2.285173   5.526195  \n",
      "\n"
     ]
    }
   ],
   "source": [
    "learn.lr_find()"
   ]
  },
  {
   "cell_type": "code",
   "execution_count": 54,
   "metadata": {},
   "outputs": [
    {
     "data": {
      "image/png": "[encoded data removed]",
      "text/plain": [
       "<Figure size 432x288 with 1 Axes>"
      ]
     },
     "metadata": {
      "needs_background": "light"
     },
     "output_type": "display_data"
    }
   ],
   "source": [
    "learn.sched.plot()"
   ]
  },
  {
   "cell_type": "code",
   "execution_count": 55,
   "metadata": {},
   "outputs": [],
   "source": [
    "def accuracy(preds, targs):\n",
    "    _, preds = torch.max(preds, dim=1)\n",
    "    _, targs = torch.max(targs, dim=1)\n",
    "    return (preds==targs).float().mean()"
   ]
  },
  {
   "cell_type": "code",
   "execution_count": 56,
   "metadata": {
    "scrolled": false
   },
   "outputs": [
    {
     "data": {
      "application/vnd.jupyter.widget-view+json": {
       "model_id": "329bf2d821414d9c8708d8c242f25e72",
       "version_major": 2,
       "version_minor": 0
      },
      "text/plain": [
       "HBox(children=(IntProgress(value=0, description='Epoch', max=105, style=ProgressStyle(description_width='initi…"
      ]
     },
     "metadata": {},
     "output_type": "display_data"
    },
    {
     "name": "stdout",
     "output_type": "stream",
     "text": [
      "epoch      trn_loss   val_loss   accuracy                   \n",
      "    0      0.614939   0.514464   0.31318   \n",
      "    1      0.477648   0.395012   0.511592                   \n",
      "    2      0.414844   0.361492   0.567568                   \n",
      "    3      0.382383   0.341148   0.603817                   \n",
      "    4      0.366052   0.335981   0.61637                    \n",
      "    5      0.348165   0.323477   0.639939                   \n",
      "    6      0.335591   0.315637   0.646215                   \n",
      "    7      0.323492   0.308819   0.656334                   \n",
      "    8      0.313709   0.300381   0.674395                   \n",
      "    9      0.305449   0.296055   0.678622                   \n",
      "    10     0.299236   0.295624   0.67875                    \n",
      "    11     0.292844   0.292552   0.682464                   \n",
      "    12     0.288487   0.29102    0.684514                   \n",
      "    13     0.285206   0.290212   0.685667                   \n",
      "    14     0.28393    0.290226   0.685667                   \n",
      "    15     0.306571   0.303691   0.659921                   \n",
      "    16     0.317812   0.307673   0.666966                   \n",
      "    17     0.318153   0.309316   0.671064                   \n",
      "    18     0.314621   0.304666   0.666197                   \n",
      "    19     0.312261   0.302101   0.668375                   \n",
      "    20     0.308272   0.303025   0.672858                   \n",
      "    21     0.300867   0.296607   0.683361                   \n",
      "    22     0.297537   0.300767   0.682464                   \n",
      "    23     0.293619   0.296941   0.691303                   \n",
      "    24     0.290704   0.291885   0.697451                   \n",
      "    25     0.283028   0.289976   0.696939                   \n",
      "    26     0.277054   0.293838   0.689638                   \n",
      "    27     0.277003   0.288968   0.698988                   \n",
      "    28     0.270297   0.285362   0.696426                   \n",
      "    29     0.266638   0.281019   0.708979                   \n",
      "    30     0.263802   0.284901   0.700781                   \n",
      "    31     0.255014   0.280012   0.705905                   \n",
      "    32     0.254323   0.279411   0.710516                   \n",
      "    33     0.248628   0.276856   0.713334                   \n",
      "    34     0.246509   0.278341   0.71564                    \n",
      "    35     0.241984   0.28048    0.711285                   \n",
      "    36     0.243247   0.277227   0.715384                   \n",
      "    37     0.238493   0.275421   0.717433                   \n",
      "    38     0.238304   0.275981   0.718074                   \n",
      "    39     0.232447   0.274945   0.718202                   \n",
      "    40     0.230712   0.274212   0.719483                   \n",
      "    41     0.230436   0.274958   0.720635                   \n",
      "    42     0.23222    0.274931   0.719739                  \n",
      "    43     0.232351   0.274871   0.720123                   \n",
      "    44     0.230891   0.274854   0.720251                   \n",
      "    45     0.256775   0.299301   0.686179                   \n",
      "    46     0.272754   0.294288   0.693864                   \n",
      "    47     0.276397   0.295524   0.682336                   \n",
      "    48     0.277235   0.298797   0.688997                   \n",
      "    49     0.279904   0.297095   0.688741                   \n",
      "    50     0.275621   0.292172   0.698604                   \n",
      "    51     0.274875   0.29945    0.693224                   \n",
      "    52     0.274616   0.294125   0.699885                   \n",
      "    53     0.26754    0.29449    0.694377                   \n",
      "    54     0.266285   0.295194   0.696682                   \n",
      "    55     0.267017   0.289798   0.697579                   \n",
      "    56     0.265932   0.287955   0.699629                   \n",
      "    57     0.262567   0.292353   0.698732                   \n",
      "    58     0.259719   0.286206   0.711029                   \n",
      "    59     0.259825   0.287845   0.709491                   \n",
      "    60     0.25725    0.293878   0.703471                   \n",
      "    61     0.254252   0.29404    0.698348                   \n",
      "    62     0.25428    0.293795   0.699629                   \n",
      "    63     0.252984   0.289147   0.706802                   \n",
      "    64     0.250847   0.288159   0.706161                   \n",
      "    65     0.247008   0.282065   0.711669                   \n",
      "    66     0.247146   0.296272   0.699629                   \n",
      "    67     0.245699   0.282986   0.714871                   \n",
      "    68     0.242436   0.284869   0.714487                   \n",
      "    69     0.242324   0.285333   0.7109                     \n",
      "    70     0.240219   0.289731   0.709748                   \n",
      "    71     0.236384   0.287591   0.7109                     \n",
      "    72     0.233179   0.288644   0.711925                   \n",
      "    73     0.232332   0.287555   0.71026                    \n",
      "    74     0.230127   0.280696   0.720379                   \n",
      "    75     0.226046   0.280254   0.723453                   \n",
      "    76     0.22318    0.280644   0.725118                   \n",
      "    77     0.221562   0.279534   0.723966                   \n",
      "    78     0.221684   0.2804     0.720251                   \n",
      "    79     0.220792   0.284503   0.71628                    \n",
      "    80     0.216288   0.28335    0.719354                   \n",
      "    81     0.216305   0.281083   0.721276                   \n",
      "    82     0.215527   0.27926    0.723197                   \n",
      "    83     0.214342   0.281284   0.723838                   \n",
      "    84     0.209911   0.281597   0.721532                   \n",
      "    85     0.209705   0.281505   0.724606                   \n",
      "    86     0.210577   0.2807     0.720892                   \n",
      "    87     0.209686   0.28143    0.720635                   \n",
      "    88     0.206304   0.278957   0.721916                   \n",
      "    89     0.203183   0.277808   0.726784                   \n",
      "    90     0.20194    0.278408   0.727168                   \n",
      "    91     0.203613   0.277652   0.729474                   \n",
      "    92     0.202696   0.278883   0.728577                   \n",
      "    93     0.202085   0.278358   0.730626                   \n",
      "    94     0.200428   0.278557   0.728833                   \n",
      "    95     0.200313   0.278369   0.729986                   \n",
      "    96     0.200045   0.277717   0.729858                   \n",
      "    97     0.196841   0.278174   0.730754                   \n",
      "    98     0.195615   0.277198   0.731011                   \n",
      "    99     0.198858   0.277505   0.73037                    \n",
      "   100     0.197239   0.277346   0.731011                   \n",
      "   101     0.199833   0.277422   0.730626                   \n",
      "   102     0.198531   0.277464   0.730754                   \n",
      "   103     0.196522   0.277507   0.730883                   \n",
      "   104     0.194813   0.277499   0.731011                   \n",
      "\n"
     ]
    },
    {
     "data": {
      "text/plain": [
       "[array([0.2775]), 0.7310106314845651]"
      ]
     },
     "execution_count": 56,
     "metadata": {},
     "output_type": "execute_result"
    }
   ],
   "source": [
    "learn.fit(0.01, n_cycle=3, cycle_len=15, cycle_mult=2, metrics=[accuracy])"
   ]
  },
  {
   "cell_type": "code",
   "execution_count": null,
   "metadata": {},
   "outputs": [],
   "source": []
  },
  {
   "cell_type": "code",
   "execution_count": null,
   "metadata": {},
   "outputs": [],
   "source": []
  },
  {
   "cell_type": "markdown",
   "metadata": {},
   "source": [
    "### Predict and enrich validation dataset for analysis"
   ]
  },
  {
   "cell_type": "code",
   "execution_count": 57,
   "metadata": {},
   "outputs": [],
   "source": [
    "df_val = df.iloc[val_idxs].reset_index(drop=True)"
   ]
  },
  {
   "cell_type": "code",
   "execution_count": 58,
   "metadata": {},
   "outputs": [],
   "source": [
    "labels = np.argmax(y_dummy[val_idxs], axis=1)\n",
    "df_val['language_id'] = labels"
   ]
  },
  {
   "cell_type": "code",
   "execution_count": 59,
   "metadata": {},
   "outputs": [],
   "source": [
    "preds_dummy = learn.predict_array(x_cat=data.iloc[val_idxs], x_cont=[0])\n",
    "preds = np.argmax(preds_dummy, axis=1)\n",
    "probas = np.max(preds_dummy, axis=1)\n",
    "df_val['pred_id'] = preds\n",
    "df_val['probas'] = probas"
   ]
  },
  {
   "cell_type": "code",
   "execution_count": 60,
   "metadata": {},
   "outputs": [],
   "source": [
    "df_val['pred'] = df_val['pred_id'].map(dict(enumerate(languages)))"
   ]
  },
  {
   "cell_type": "code",
   "execution_count": null,
   "metadata": {},
   "outputs": [],
   "source": []
  },
  {
   "cell_type": "code",
   "execution_count": null,
   "metadata": {},
   "outputs": [],
   "source": []
  },
  {
   "cell_type": "markdown",
   "metadata": {},
   "source": [
    "### Results analysis"
   ]
  },
  {
   "cell_type": "code",
   "execution_count": 61,
   "metadata": {},
   "outputs": [
    {
     "data": {
      "text/html": [
       "<div>\n",
       "<style scoped>\n",
       "    .dataframe tbody tr th:only-of-type {\n",
       "        vertical-align: middle;\n",
       "    }\n",
       "\n",
       "    .dataframe tbody tr th {\n",
       "        vertical-align: top;\n",
       "    }\n",
       "\n",
       "    .dataframe thead th {\n",
       "        text-align: right;\n",
       "    }\n",
       "</style>\n",
       "<table border=\"1\" class=\"dataframe\">\n",
       "  <thead>\n",
       "    <tr style=\"text-align: right;\">\n",
       "      <th></th>\n",
       "      <th>word</th>\n",
       "      <th>freq</th>\n",
       "      <th>language</th>\n",
       "      <th>language_id</th>\n",
       "      <th>pred_id</th>\n",
       "      <th>probas</th>\n",
       "      <th>pred</th>\n",
       "    </tr>\n",
       "  </thead>\n",
       "  <tbody>\n",
       "    <tr>\n",
       "      <th>5612</th>\n",
       "      <td>untersuchungen</td>\n",
       "      <td>11</td>\n",
       "      <td>de</td>\n",
       "      <td>0</td>\n",
       "      <td>0</td>\n",
       "      <td>1.0</td>\n",
       "      <td>de</td>\n",
       "    </tr>\n",
       "    <tr>\n",
       "      <th>5800</th>\n",
       "      <td>authority</td>\n",
       "      <td>30</td>\n",
       "      <td>en</td>\n",
       "      <td>1</td>\n",
       "      <td>1</td>\n",
       "      <td>1.0</td>\n",
       "      <td>en</td>\n",
       "    </tr>\n",
       "    <tr>\n",
       "      <th>2425</th>\n",
       "      <td>zusatzliche</td>\n",
       "      <td>8</td>\n",
       "      <td>de</td>\n",
       "      <td>0</td>\n",
       "      <td>0</td>\n",
       "      <td>1.0</td>\n",
       "      <td>de</td>\n",
       "    </tr>\n",
       "    <tr>\n",
       "      <th>2922</th>\n",
       "      <td>historiques</td>\n",
       "      <td>15</td>\n",
       "      <td>fr</td>\n",
       "      <td>2</td>\n",
       "      <td>2</td>\n",
       "      <td>1.0</td>\n",
       "      <td>fr</td>\n",
       "    </tr>\n",
       "    <tr>\n",
       "      <th>7611</th>\n",
       "      <td>artillery</td>\n",
       "      <td>12</td>\n",
       "      <td>en</td>\n",
       "      <td>1</td>\n",
       "      <td>1</td>\n",
       "      <td>1.0</td>\n",
       "      <td>en</td>\n",
       "    </tr>\n",
       "    <tr>\n",
       "      <th>5132</th>\n",
       "      <td>continuously</td>\n",
       "      <td>5</td>\n",
       "      <td>en</td>\n",
       "      <td>1</td>\n",
       "      <td>1</td>\n",
       "      <td>1.0</td>\n",
       "      <td>en</td>\n",
       "    </tr>\n",
       "    <tr>\n",
       "      <th>3361</th>\n",
       "      <td>mythology</td>\n",
       "      <td>5</td>\n",
       "      <td>en</td>\n",
       "      <td>1</td>\n",
       "      <td>1</td>\n",
       "      <td>1.0</td>\n",
       "      <td>en</td>\n",
       "    </tr>\n",
       "    <tr>\n",
       "      <th>2927</th>\n",
       "      <td>secretary</td>\n",
       "      <td>9</td>\n",
       "      <td>en</td>\n",
       "      <td>1</td>\n",
       "      <td>1</td>\n",
       "      <td>1.0</td>\n",
       "      <td>en</td>\n",
       "    </tr>\n",
       "    <tr>\n",
       "      <th>1777</th>\n",
       "      <td>constituyo</td>\n",
       "      <td>7</td>\n",
       "      <td>sp</td>\n",
       "      <td>4</td>\n",
       "      <td>1</td>\n",
       "      <td>1.0</td>\n",
       "      <td>en</td>\n",
       "    </tr>\n",
       "    <tr>\n",
       "      <th>975</th>\n",
       "      <td>fertigstellung</td>\n",
       "      <td>11</td>\n",
       "      <td>de</td>\n",
       "      <td>0</td>\n",
       "      <td>0</td>\n",
       "      <td>1.0</td>\n",
       "      <td>de</td>\n",
       "    </tr>\n",
       "  </tbody>\n",
       "</table>\n",
       "</div>"
      ],
      "text/plain": [
       "                word  freq language  language_id  pred_id  probas pred\n",
       "5612  untersuchungen    11       de            0        0     1.0   de\n",
       "5800       authority    30       en            1        1     1.0   en\n",
       "2425     zusatzliche     8       de            0        0     1.0   de\n",
       "2922     historiques    15       fr            2        2     1.0   fr\n",
       "7611       artillery    12       en            1        1     1.0   en\n",
       "5132    continuously     5       en            1        1     1.0   en\n",
       "3361       mythology     5       en            1        1     1.0   en\n",
       "2927       secretary     9       en            1        1     1.0   en\n",
       "1777      constituyo     7       sp            4        1     1.0   en\n",
       "975   fertigstellung    11       de            0        0     1.0   de"
      ]
     },
     "execution_count": 61,
     "metadata": {},
     "output_type": "execute_result"
    }
   ],
   "source": [
    "# Most confident predictions\n",
    "df_val.sort_values('probas', ascending=False).head(10)"
   ]
  },
  {
   "cell_type": "code",
   "execution_count": 62,
   "metadata": {
    "scrolled": true
   },
   "outputs": [
    {
     "data": {
      "text/html": [
       "<div>\n",
       "<style scoped>\n",
       "    .dataframe tbody tr th:only-of-type {\n",
       "        vertical-align: middle;\n",
       "    }\n",
       "\n",
       "    .dataframe tbody tr th {\n",
       "        vertical-align: top;\n",
       "    }\n",
       "\n",
       "    .dataframe thead th {\n",
       "        text-align: right;\n",
       "    }\n",
       "</style>\n",
       "<table border=\"1\" class=\"dataframe\">\n",
       "  <thead>\n",
       "    <tr style=\"text-align: right;\">\n",
       "      <th></th>\n",
       "      <th>word</th>\n",
       "      <th>freq</th>\n",
       "      <th>language</th>\n",
       "      <th>language_id</th>\n",
       "      <th>pred_id</th>\n",
       "      <th>probas</th>\n",
       "      <th>pred</th>\n",
       "    </tr>\n",
       "  </thead>\n",
       "  <tbody>\n",
       "    <tr>\n",
       "      <th>4989</th>\n",
       "      <td>likelihood</td>\n",
       "      <td>5</td>\n",
       "      <td>en</td>\n",
       "      <td>1</td>\n",
       "      <td>4</td>\n",
       "      <td>0.068734</td>\n",
       "      <td>sp</td>\n",
       "    </tr>\n",
       "    <tr>\n",
       "      <th>7781</th>\n",
       "      <td>citizenship</td>\n",
       "      <td>7</td>\n",
       "      <td>en</td>\n",
       "      <td>1</td>\n",
       "      <td>4</td>\n",
       "      <td>0.085547</td>\n",
       "      <td>sp</td>\n",
       "    </tr>\n",
       "    <tr>\n",
       "      <th>6974</th>\n",
       "      <td>malaysia</td>\n",
       "      <td>13</td>\n",
       "      <td>en</td>\n",
       "      <td>1</td>\n",
       "      <td>4</td>\n",
       "      <td>0.097062</td>\n",
       "      <td>sp</td>\n",
       "    </tr>\n",
       "    <tr>\n",
       "      <th>368</th>\n",
       "      <td>construyen</td>\n",
       "      <td>5</td>\n",
       "      <td>sp</td>\n",
       "      <td>4</td>\n",
       "      <td>4</td>\n",
       "      <td>0.109706</td>\n",
       "      <td>sp</td>\n",
       "    </tr>\n",
       "    <tr>\n",
       "      <th>5145</th>\n",
       "      <td>apprentissage</td>\n",
       "      <td>6</td>\n",
       "      <td>fr</td>\n",
       "      <td>2</td>\n",
       "      <td>4</td>\n",
       "      <td>0.121741</td>\n",
       "      <td>sp</td>\n",
       "    </tr>\n",
       "    <tr>\n",
       "      <th>689</th>\n",
       "      <td>angebot</td>\n",
       "      <td>10</td>\n",
       "      <td>de</td>\n",
       "      <td>0</td>\n",
       "      <td>0</td>\n",
       "      <td>0.148520</td>\n",
       "      <td>de</td>\n",
       "    </tr>\n",
       "    <tr>\n",
       "      <th>7557</th>\n",
       "      <td>catawba</td>\n",
       "      <td>5</td>\n",
       "      <td>fr</td>\n",
       "      <td>2</td>\n",
       "      <td>1</td>\n",
       "      <td>0.151246</td>\n",
       "      <td>en</td>\n",
       "    </tr>\n",
       "    <tr>\n",
       "      <th>1633</th>\n",
       "      <td>visualizzazione</td>\n",
       "      <td>12</td>\n",
       "      <td>it</td>\n",
       "      <td>3</td>\n",
       "      <td>3</td>\n",
       "      <td>0.159789</td>\n",
       "      <td>it</td>\n",
       "    </tr>\n",
       "    <tr>\n",
       "      <th>5059</th>\n",
       "      <td>automobile</td>\n",
       "      <td>5</td>\n",
       "      <td>fr</td>\n",
       "      <td>2</td>\n",
       "      <td>2</td>\n",
       "      <td>0.160266</td>\n",
       "      <td>fr</td>\n",
       "    </tr>\n",
       "    <tr>\n",
       "      <th>1125</th>\n",
       "      <td>mythologie</td>\n",
       "      <td>6</td>\n",
       "      <td>fr</td>\n",
       "      <td>2</td>\n",
       "      <td>4</td>\n",
       "      <td>0.163228</td>\n",
       "      <td>sp</td>\n",
       "    </tr>\n",
       "  </tbody>\n",
       "</table>\n",
       "</div>"
      ],
      "text/plain": [
       "                 word  freq language  language_id  pred_id    probas pred\n",
       "4989       likelihood     5       en            1        4  0.068734   sp\n",
       "7781      citizenship     7       en            1        4  0.085547   sp\n",
       "6974         malaysia    13       en            1        4  0.097062   sp\n",
       "368        construyen     5       sp            4        4  0.109706   sp\n",
       "5145    apprentissage     6       fr            2        4  0.121741   sp\n",
       "689           angebot    10       de            0        0  0.148520   de\n",
       "7557          catawba     5       fr            2        1  0.151246   en\n",
       "1633  visualizzazione    12       it            3        3  0.159789   it\n",
       "5059       automobile     5       fr            2        2  0.160266   fr\n",
       "1125       mythologie     6       fr            2        4  0.163228   sp"
      ]
     },
     "execution_count": 62,
     "metadata": {},
     "output_type": "execute_result"
    }
   ],
   "source": [
    "# Least confident predictions\n",
    "df_val.sort_values('probas').head(10)"
   ]
  },
  {
   "cell_type": "code",
   "execution_count": null,
   "metadata": {},
   "outputs": [],
   "source": []
  },
  {
   "cell_type": "code",
   "execution_count": null,
   "metadata": {},
   "outputs": [],
   "source": []
  },
  {
   "cell_type": "code",
   "execution_count": 63,
   "metadata": {},
   "outputs": [],
   "source": [
    "def plot_confusion_matrix(cm, classes,\n",
    "                          normalize=False,\n",
    "                          title='Confusion matrix',\n",
    "                          cmap=plt.cm.Blues):\n",
    "    \"\"\"\n",
    "    This function prints and plots the confusion matrix.\n",
    "    Normalization can be applied by setting `normalize=True`.\n",
    "    \"\"\"\n",
    "    if normalize:\n",
    "        cm = cm.astype('float') / cm.sum(axis=1)[:, np.newaxis]\n",
    "        print(\"Normalized confusion matrix\")\n",
    "    else:\n",
    "        print('Confusion matrix, without normalization')\n",
    "\n",
    "    print(cm)\n",
    "\n",
    "    plt.imshow(cm, interpolation='nearest', cmap=cmap)\n",
    "    plt.title(title)\n",
    "    plt.colorbar()\n",
    "    tick_marks = np.arange(len(classes))\n",
    "    plt.xticks(tick_marks, classes, rotation=45)\n",
    "    plt.yticks(tick_marks, classes)\n",
    "\n",
    "    fmt = '.2f' if normalize else 'd'\n",
    "    thresh = cm.max() / 2.\n",
    "    for i, j in itertools.product(range(cm.shape[0]), range(cm.shape[1])):\n",
    "        plt.text(j, i, format(cm[i, j], fmt),\n",
    "                 horizontalalignment=\"center\",\n",
    "                 color=\"white\" if cm[i, j] > thresh else \"black\")\n",
    "\n",
    "    plt.ylabel('True label')\n",
    "    plt.xlabel('Predicted label')\n",
    "    plt.tight_layout()"
   ]
  },
  {
   "cell_type": "code",
   "execution_count": 64,
   "metadata": {},
   "outputs": [],
   "source": [
    "cm = confusion_matrix(df_val['language'], df_val['pred'])"
   ]
  },
  {
   "cell_type": "code",
   "execution_count": 65,
   "metadata": {},
   "outputs": [
    {
     "name": "stdout",
     "output_type": "stream",
     "text": [
      "Confusion matrix, without normalization\n",
      "[[1034  110  105   51   37]\n",
      " [ 111 1123  286   93  109]\n",
      " [  54  165 1003  169   77]\n",
      " [  20   24   92 1417  174]\n",
      " [  21   67   99  236 1130]]\n"
     ]
    },
    {
     "data": {
      "image/png": "[encoded data removed]",
      "text/plain": [
       "<Figure size 432x288 with 2 Axes>"
      ]
     },
     "metadata": {
      "needs_background": "light"
     },
     "output_type": "display_data"
    }
   ],
   "source": [
    "plot_confusion_matrix(cm, languages)"
   ]
  },
  {
   "cell_type": "code",
   "execution_count": 66,
   "metadata": {},
   "outputs": [
    {
     "name": "stdout",
     "output_type": "stream",
     "text": [
      "Normalized confusion matrix\n",
      "[[0.77337 0.08227 0.07853 0.03815 0.02767]\n",
      " [0.06446 0.65215 0.16609 0.05401 0.0633 ]\n",
      " [0.03678 0.1124  0.68324 0.11512 0.05245]\n",
      " [0.01158 0.0139  0.05327 0.8205  0.10075]\n",
      " [0.01352 0.04314 0.06375 0.15196 0.72762]]\n"
     ]
    },
    {
     "data": {
      "image/png": "[encoded data removed]",
      "text/plain": [
       "<Figure size 432x288 with 2 Axes>"
      ]
     },
     "metadata": {
      "needs_background": "light"
     },
     "output_type": "display_data"
    }
   ],
   "source": [
    "plot_confusion_matrix(cm, languages, normalize=True)"
   ]
  },
  {
   "cell_type": "code",
   "execution_count": null,
   "metadata": {},
   "outputs": [],
   "source": []
  },
  {
   "cell_type": "code",
   "execution_count": null,
   "metadata": {},
   "outputs": [],
   "source": []
  },
  {
   "cell_type": "code",
   "execution_count": null,
   "metadata": {},
   "outputs": [],
   "source": []
  }
 ],
 "metadata": {
  "kernelspec": {
   "display_name": "fastai",
   "language": "python",
   "name": "fastai"
  },
  "language_info": {
   "codemirror_mode": {
    "name": "ipython",
    "version": 3
   },
   "file_extension": ".py",
   "mimetype": "text/x-python",
   "name": "python",
   "nbconvert_exporter": "python",
   "pygments_lexer": "ipython3",
   "version": "3.6.8"
  }
 },
 "nbformat": 4,
 "nbformat_minor": 2
}
