{
 "cells": [
  {
   "cell_type": "code",
   "execution_count": 1,
   "metadata": {},
   "outputs": [],
   "source": [
    "%matplotlib inline\n",
    "%reload_ext autoreload\n",
    "%autoreload 2"
   ]
  },
  {
   "cell_type": "code",
   "execution_count": 2,
   "metadata": {},
   "outputs": [],
   "source": [
    "from sklearn.model_selection import train_test_split\n",
    "from sklearn.metrics import confusion_matrix"
   ]
  },
  {
   "cell_type": "code",
   "execution_count": 3,
   "metadata": {},
   "outputs": [],
   "source": [
    "from words import *"
   ]
  },
  {
   "cell_type": "code",
   "execution_count": null,
   "metadata": {},
   "outputs": [],
   "source": []
  },
  {
   "cell_type": "code",
   "execution_count": null,
   "metadata": {},
   "outputs": [],
   "source": []
  },
  {
   "cell_type": "markdown",
   "metadata": {},
   "source": [
    "# Get data"
   ]
  },
  {
   "cell_type": "code",
   "execution_count": 4,
   "metadata": {},
   "outputs": [],
   "source": [
    "MAX_LEN = 15"
   ]
  },
  {
   "cell_type": "code",
   "execution_count": 5,
   "metadata": {},
   "outputs": [
    {
     "data": {
      "text/plain": [
       "['de', 'en', 'fr', 'it', 'sp']"
      ]
     },
     "execution_count": 5,
     "metadata": {},
     "output_type": "execute_result"
    }
   ],
   "source": [
    "languages = sorted(['en', 'de', 'fr', 'it', 'sp'])\n",
    "languages"
   ]
  },
  {
   "cell_type": "code",
   "execution_count": 6,
   "metadata": {},
   "outputs": [],
   "source": [
    "filepaths = get_filepaths(*languages)\n",
    "df = read_data(filepaths)\n",
    "df = filter_data(df, min_len=4, max_len=MAX_LEN, min_freq=5)\n",
    "df.language = df.language.str.slice(0, 2)"
   ]
  },
  {
   "cell_type": "code",
   "execution_count": 7,
   "metadata": {},
   "outputs": [
    {
     "data": {
      "text/html": [
       "<div>\n",
       "<style scoped>\n",
       "    .dataframe tbody tr th:only-of-type {\n",
       "        vertical-align: middle;\n",
       "    }\n",
       "\n",
       "    .dataframe tbody tr th {\n",
       "        vertical-align: top;\n",
       "    }\n",
       "\n",
       "    .dataframe thead th {\n",
       "        text-align: right;\n",
       "    }\n",
       "</style>\n",
       "<table border=\"1\" class=\"dataframe\">\n",
       "  <thead>\n",
       "    <tr style=\"text-align: right;\">\n",
       "      <th></th>\n",
       "      <th>word</th>\n",
       "      <th>freq</th>\n",
       "      <th>language</th>\n",
       "    </tr>\n",
       "  </thead>\n",
       "  <tbody>\n",
       "    <tr>\n",
       "      <th>37</th>\n",
       "      <td>wurde</td>\n",
       "      <td>1463</td>\n",
       "      <td>de</td>\n",
       "    </tr>\n",
       "    <tr>\n",
       "      <th>46</th>\n",
       "      <td>sich</td>\n",
       "      <td>1066</td>\n",
       "      <td>de</td>\n",
       "    </tr>\n",
       "    <tr>\n",
       "      <th>47</th>\n",
       "      <td>eine</td>\n",
       "      <td>1049</td>\n",
       "      <td>de</td>\n",
       "    </tr>\n",
       "    <tr>\n",
       "      <th>53</th>\n",
       "      <td>auch</td>\n",
       "      <td>662</td>\n",
       "      <td>de</td>\n",
       "    </tr>\n",
       "    <tr>\n",
       "      <th>55</th>\n",
       "      <td>nach</td>\n",
       "      <td>653</td>\n",
       "      <td>de</td>\n",
       "    </tr>\n",
       "  </tbody>\n",
       "</table>\n",
       "</div>"
      ],
      "text/plain": [
       "     word  freq language\n",
       "37  wurde  1463       de\n",
       "46   sich  1066       de\n",
       "47   eine  1049       de\n",
       "53   auch   662       de\n",
       "55   nach   653       de"
      ]
     },
     "execution_count": 7,
     "metadata": {},
     "output_type": "execute_result"
    }
   ],
   "source": [
    "df.head()"
   ]
  },
  {
   "cell_type": "code",
   "execution_count": 8,
   "metadata": {},
   "outputs": [
    {
     "data": {
      "text/plain": [
       "language\n",
       "de    3104\n",
       "en    4613\n",
       "fr    4079\n",
       "it    4480\n",
       "sp    4312\n",
       "dtype: int64"
      ]
     },
     "execution_count": 8,
     "metadata": {},
     "output_type": "execute_result"
    }
   ],
   "source": [
    "df.groupby('language').size()"
   ]
  },
  {
   "cell_type": "code",
   "execution_count": null,
   "metadata": {},
   "outputs": [],
   "source": []
  },
  {
   "cell_type": "code",
   "execution_count": null,
   "metadata": {},
   "outputs": [],
   "source": []
  },
  {
   "cell_type": "markdown",
   "metadata": {},
   "source": [
    "### Remove duplicate words across languages"
   ]
  },
  {
   "cell_type": "code",
   "execution_count": 9,
   "metadata": {},
   "outputs": [
    {
     "name": "stdout",
     "output_type": "stream",
     "text": [
      "['periodico', 'separation', 'tecnico', 'fallen', 'musicales', 'cancer', 'europa', 'situation', 'stadium', 'america', 'rare', 'winter', 'explosion', 'jimmy', 'orange', 'solamente', 'gran', 'xvii', 'frase', 'mediante', 'north', 'artistica', 'sola', 'citation', 'cambia', 'sciences', 'jersey', 'consiste', 'samuel', 'video', 'india', 'provoca', 'edificio', 'maria', 'tunnel', 'records', 'mille', 'totale', 'desire', 'total', 'convento', 'fisica', 'geografica', 'manuel', 'temple', 'coach', 'symbol', 'intento', 'forme', 'permanente', 'figure', 'representation', 'young', 'alliance', 'error', 'miller', 'peso', 'stephen', 'centrale', 'kong', 'soldat', 'dirige', 'guide', 'conserva', 'williams', 'basse', 'martin', 'section', 'natural', 'vide', 'observation', 'theme', 'factor', 'capitale', 'biblioteca', 'solution', 'will', 'discussion', 'organo', 'port', 'lieutenant', 'state', 'homer', 'part', 'prove', 'series', 'california', 'christian', 'films', 'enorme', 'fondo', 'navy', 'relief', 'bombe', 'steve', 'observe', 'trio', 'continent', 'futuro', 'music', 'suit', 'intelligence', 'zero', 'centro', 'chance', 'gigante', 'luna', 'ambiente', 'idea', 'variable', 'interno', 'links', 'champions', 'table', 'occidentale', 'minute', 'adams', 'materia', 'portugal', 'fiction', 'description', 'dentro', 'cast', 'anderson', 'tests', 'revolution', 'schema', 'santo', 'continente', 'tema', 'themes', 'types', 'interview', 'federal', 'adoption', 'nation', 'cargo', 'special', 'presence', 'copies', 'prime', 'ultimo', 'application', 'attitude', 'multiples', 'consequence', 'pena', 'different', 'vive', 'generation', 'dominant', 'plus', 'agriculture', 'albums', 'realmente', 'gare', 'scenario', 'industrie', 'point', 'thomas', 'population', 'awards', 'institutions', 'sala', 'continue', 'manual', 'charges', 'rival', 'johnson', 'scene', 'episodes', 'superior', 'match', 'decisions', 'minimum', 'kurt', 'elemento', 'suicidio', 'participation', 'portrait', 'film', 'long', 'passa', 'reste', 'mantiene', 'original', 'metres', 'status', 'sistema', 'reduction', 'peter', 'cover', 'bande', 'cinematografica', 'graves', 'minima', 'italia', 'miami', 'area', 'liste', 'house', 'diverse', 'cinema', 'sank', 'motor', 'instruments', 'conception', 'presents', 'colonne', 'production', 'nucleo', 'director', 'london', 'camera', 'arte', 'central', 'mission', 'style', 'stockholm', 'tecnologia', 'alte', 'direction', 'plante', 'form', 'proposito', 'vino', 'minor', 'generalmente', 'rotation', 'argentina', 'difference', 'base', 'start', 'originale', 'cambio', 'costo', 'prison', 'fall', 'transaction', 'district', 'partner', 'giro', 'theatre', 'divide', 'missions', 'medicina', 'grosse', 'origine', 'medio', 'actions', 'clan', 'romans', 'xviii', 'bruno', 'george', 'xiii', 'autonomia', 'private', 'ambito', 'categoria', 'civil', 'manager', 'adam', 'facilmente', 'zona', 'brown', 'anna', 'dominante', 'charles', 'jean', 'tradition', 'office', 'simbolo', 'turismo', 'carta', 'taiwan', 'mode', 'construction', 'instrument', 'publication', 'august', 'night', 'extra', 'concert', 'padre', 'superficie', 'sculpture', 'management', 'performance', 'mental', 'conditions', 'creando', 'land', 'service', 'services', 'minister', 'lord', 'concept', 'single', 'economica', 'code', 'altitude', 'medico', 'locales', 'laboratorio', 'register', 'europeo', 'elenco', 'evidence', 'television', 'evento', 'preparation', 'talent', 'high', 'hall', 'italien', 'unico', 'these', 'jesus', 'rose', 'scott', 'dispone', 'public', 'mondiale', 'lion', 'interesse', 'documents', 'distance', 'certain', 'administration', 'commerciale', 'dominio', 'double', 'editor', 'epoca', 'hockey', 'place', 'brian', 'famosa', 'hollywood', 'bases', 'jose', 'presente', 'principale', 'resto', 'september', 'circuito', 'boys', 'diametro', 'matrimonio', 'face', 'agent', 'forces', 'regions', 'strict', 'victoria', 'harry', 'marine', 'suicide', 'contrario', 'relative', 'pero', 'references', 'missile', 'torre', 'warner', 'normal', 'dice', 'sociales', 'places', 'phase', 'normalmente', 'visto', 'cerca', 'index', 'clients', 'demonstration', 'precise', 'benjamin', 'meeting', 'reserves', 'artista', 'maestro', 'influence', 'camp', 'name', 'quelle', 'orientation', 'alex', 'fans', 'museum', 'course', 'episodio', 'motivo', 'basa', 'institut', 'mention', 'servir', 'convention', 'donald', 'compose', 'procedures', 'sacerdote', 'indica', 'anime', 'definitivamente', 'love', 'molecule', 'africa', 'henry', 'page', 'pacifico', 'reputation', 'tiene', 'train', 'candidato', 'william', 'constitution', 'males', 'principio', 'centre', 'journal', 'inspiration', 'poste', 'geographie', 'rapidamente', 'control', 'sole', 'ideas', 'cultural', 'questions', 'blues', 'plan', 'termine', 'columbia', 'frank', 'variantes', 'come', 'succession', 'torneo', 'vite', 'best', 'moderne', 'parole', 'morale', 'sector', 'virginia', 'programme', 'passage', 'canon', 'impression', 'standard', 'causa', 'parents', 'favor', 'fine', 'social', 'comite', 'economia', 'circuit', 'importante', 'cane', 'dato', 'productions', 'finale', 'interne', 'doctrine', 'villa', 'canada', 'type', 'conversation', 'muro', 'metodo', 'bill', 'tres', 'zone', 'union', 'nota', 'temperature', 'colonies', 'rang', 'sang', 'describe', 'sport', 'tecnica', 'patrick', 'mise', 'case', 'critica', 'dedica', 'verde', 'important', 'front', 'avere', 'system', 'education', 'legislation', 'catalogo', 'virus', 'avion', 'oliver', 'head', 'recente', 'politico', 'polonia', 'leader', 'attend', 'future', 'economico', 'novembre', 'firmo', 'nazi', 'completa', 'religions', 'option', 'campo', 'particular', 'formato', 'game', 'moderno', 'doctor', 'aspect', 'combat', 'reunion', 'dies', 'euros', 'stelle', 'color', 'circulation', 'decide', 'howard', 'positions', 'washington', 'disco', 'significa', 'causo', 'tipico', 'duro', 'apple', 'lage', 'magazine', 'cree', 'animal', 'commercial', 'usual', 'naval', 'traditions', 'also', 'fell', 'laura', 'ford', 'operations', 'logo', 'provinces', 'representations', 'regular', 'danger', 'pages', 'vivo', 'text', 'temperatures', 'casa', 'zelanda', 'patrimonio', 'ventre', 'probleme', 'francisco', 'association', 'sale', 'inversion', 'romano', 'madrid', 'elena', 'colonial', 'palais', 'regiment', 'agosto', 'episode', 'momento', 'facto', 'grace', 'salvo', 'liga', 'reactions', 'monumento', 'reich', 'quinto', 'power', 'religion', 'participa', 'valley', 'define', 'ultime', 'change', 'corto', 'imperial', 'clinica', 'performances', 'time', 'agente', 'club', 'teoria', 'hospital', 'poca', 'walter', 'simple', 'supera', 'offensive', 'distances', 'cultura', 'rest', 'imperiale', 'stations', 'hotel', 'friedrich', 'fotografia', 'contribution', 'patron', 'satellite', 'famoso', 'colonel', 'successive', 'black', 'universal', 'costa', 'londres', 'russia', 'alexander', 'varie', 'capita', 'orden', 'alta', 'victor', 'principales', 'routes', 'university', 'versions', 'descriptions', 'armee', 'river', 'selection', 'libres', 'roles', 'confusion', 'integration', 'metropolitana', 'unica', 'karl', 'energia', 'competition', 'politica', 'matthew', 'grand', 'james', 'americano', 'team', 'observer', 'linea', 'distribution', 'band', 'edition', 'manner', 'correspond', 'absence', 'firma', 'editions', 'lies', 'aspects', 'clubs', 'second', 'notable', 'precedente', 'bond', 'nombre', 'federale', 'theories', 'cafe', 'cantante', 'proteger', 'technologies', 'compare', 'corte', 'medical', 'limite', 'prince', 'united', 'completamente', 'professor', 'assistant', 'deja', 'show', 'parties', 'antonio', 'ferrari', 'impact', 'effort', 'stable', 'world', 'signal', 'automatica', 'mario', 'locale', 'arrive', 'patients', 'version', 'condition', 'principalmente', 'festival', 'machines', 'quel', 'nature', 'organisations', 'musica', 'arabes', 'chose', 'destino', 'rural', 'ball', 'gris', 'conclude', 'celebre', 'plans', 'signature', 'publications', 'applications', 'charge', 'cause', 'aereo', 'history', 'former', 'accede', 'bomba', 'donna', 'data', 'campus', 'november', 'hugo', 'billy', 'army', 'complete', 'terreno', 'canal', 'serve', 'coro', 'notes', 'school', 'australia', 'angel', 'court', 'mary', 'paris', 'grandes', 'comandante', 'incendio', 'analyse', 'date', 'interprete', 'metal', 'franz', 'tube', 'college', 'brand', 'quinta', 'elements', 'componente', 'regionales', 'extinction', 'island', 'entra', 'differences', 'presentes', 'manga', 'arts', 'fast', 'idee', 'numero', 'lady', 'primavera', 'variations', 'message', 'national', 'sein', 'jane', 'operation', 'piano', 'president', 'profit', 'grande', 'francis', 'fusion', 'japan', 'montagne', 'sede', 'richard', 'nations', 'lyon', 'produce', 'empire', 'monte', 'golden', 'euro', 'disponible', 'aumenta', 'police', 'probable', 'sydney', 'systems', 'definir', 'trama', 'prototipo', 'cable', 'person', 'assistance', 'regional', 'sera', 'opinion', 'statue', 'universitario', 'division', 'life', 'sites', 'creation', 'respect', 'reduce', 'radio', 'record', 'concerts', 'franchise', 'numeros', 'canto', 'terre', 'american', 'issue', 'artistico', 'museo', 'biografia', 'concentration', 'emission', 'vista', 'parlamento', 'haut', 'coste', 'legale', 'coalition', 'ministro', 'incidente', 'districts', 'tipo', 'john', 'format', 'prima', 'amsterdam', 'moderna', 'county', 'introduce', 'election', 'sebastian', 'modo', 'collection', 'aerea', 'normale', 'presenta', 'individuo', 'apertura', 'france', 'facile', 'aller', 'roma', 'computer', 'flotte', 'musicale', 'jack', 'resta', 'seconde', 'liberal', 'server', 'pagina', 'jackson', 'chicago', 'civile', 'australian', 'viene', 'colonia', 'capable', 'torture', 'declare', 'peru', 'marco', 'consequences', 'brain', 'technique', 'campagne', 'sources', 'england', 'millions', 'offre', 'expression', 'communications', 'bowl', 'village', 'franco', 'trono', 'interna', 'tale', 'theorie', 'morfologia', 'test', 'digital', 'carne', 'line', 'dose', 'populations', 'variante', 'fonte', 'generations', 'solo', 'active', 'post', 'siege', 'expansion', 'persona', 'genre', 'papa', 'banda', 'parallel', 'auto', 'caso', 'communication', 'divise', 'nuclear', 'villages', 'traits', 'reserve', 'gente', 'problema', 'actor', 'viii', 'fama', 'dura', 'continuo', 'judicial', 'responsables', 'tribunal', 'saint', 'talento', 'street', 'missiles', 'design', 'emissions', 'piece', 'capital', 'autor', 'transmission', 'norme', 'nord', 'protagonista', 'piste', 'efforts', 'europea', 'conquista', 'subi', 'source', 'massive', 'apollo', 'systeme', 'individual', 'sociale', 'company', 'formation', 'integral', 'madre', 'auge', 'incluso', 'dimension', 'definitiva', 'bibliografia', 'industrial', 'mexico', 'termino', 'berlin', 'principal', 'stuttgart', 'park', 'casi', 'alle', 'force', 'marzo', 'fini', 'jardin', 'clima', 'porte', 'nave', 'usando', 'copia', 'pierre', 'kind', 'action', 'ritmo', 'breve', 'block', 'jury', 'ella', 'austin', 'superman', 'nicolas', 'hans', 'sorpresa', 'unique', 'rock', 'prepare', 'girls', 'windows', 'fase', 'paul', 'honor', 'existence', 'federico', 'volante', 'municipal', 'royal', 'stress', 'limites', 'importantes', 'marina', 'classes', 'familiar', 'debate', 'arco', 'tension', 'provincia', 'accidents', 'cristo', 'philadelphia', 'santa', 'hand', 'gestion', 'elizabeth', 'participants', 'client', 'salon', 'culto', 'indice', 'fisico', 'constante', 'mike', 'direct', 'culture', 'death', 'visibles', 'roberto', 'experience', 'disponibles', 'presento', 'valle', 'role', 'mayor', 'couple', 'nick', 'articles', 'florida', 'platino', 'natale', 'song', 'louis', 'poco', 'periodo', 'information', 'mobile', 'genes', 'jones', 'poeta', 'albert', 'usage', 'album', 'possible', 'depend', 'structure', 'parte', 'figura', 'open', 'module', 'composition', 'joseph', 'otto', 'edward', 'round', 'desert', 'definition', 'michael', 'marie', 'similar', 'alfred', 'temporal', 'large', 'interior', 'maximum', 'grave', 'software', 'material', 'utile', 'contact', 'saints', 'machine', 'present', 'jeff', 'relations', 'points', 'defense', 'sentir', 'intervention', 'race', 'volume', 'israel', 'visible', 'tournee', 'demografia', 'conto', 'regina', 'avance', 'juan', 'afghanistan', 'precisamente', 'studio', 'sports', 'parti', 'zones', 'alto', 'considerable', 'courts', 'forma', 'lucas', 'examen', 'structures', 'danza', 'pure', 'areas', 'saison', 'colonie', 'resistance', 'support', 'guerra', 'little', 'pace', 'latin', 'cycle', 'proteine', 'religiosa', 'disney', 'popular', 'avenue', 'christ', 'cercano', 'existe', 'architecture', 'generale', 'emerge', 'experimental', 'tony', 'dick', 'expedition', 'award', 'sino', 'organisation', 'execution', 'attraction', 'roger', 'compagnie', 'road', 'violence', 'mito', 'china', 'mostro', 'daniel', 'robert', 'charts', 'file', 'gold', 'york', 'diego', 'philosophie', 'decreto', 'city', 'international', 'completo', 'relativa', 'bord', 'songs', 'secret', 'morte', 'region', 'moment', 'propose', 'science', 'isbn', 'associations', 'regime', 'poesie', 'bruce', 'commission', 'intense', 'justice', 'europe', 'passes', 'arme', 'angeles', 'note', 'mente', 'deriva', 'lake', 'angle', 'wilson', 'trouble', 'luis', 'cellule', 'phrase', 'cultures', 'jordan', 'tropical', 'route', 'comic', 'seine', 'quasi', 'formula', 'indien', 'internet', 'courses', 'interpretation', 'clark', 'general', 'cielo', 'question', 'images', 'geografia', 'mandato', 'pone', 'elite', 'pieces', 'circuits', 'techniques', 'jazz', 'tales', 'drama', 'johnny', 'tabelle', 'cifra', 'vote', 'partir', 'arabe', 'magico', 'basis', 'scenes', 'categorie', 'institute', 'actual', 'totalmente', 'lista', 'distinction', 'acceder', 'party', 'final', 'terminal', 'mark', 'genres', 'musical', 'personnel', 'madonna', 'david', 'creo', 'libre', 'super', 'station', 'position', 'accident', 'surface', 'image', 'teatro', 'presentation', 'league', 'crea', 'elections', 'impossible', 'difficile', 'cooper', 'territorio', 'italiano', 'local', 'contiene', 'center', 'real', 'solutions', 'ohio', 'camps', 'alla', 'coin', 'lago', 'fort', 'extreme', 'extension', 'carter', 'site', 'king', 'marcus', 'tour', 'programmes', 'previsto', 'engage', 'fortuna', 'british', 'reference', 'francia', 'capture', 'vision', 'entre', 'napoleon', 'carl', 'sexual', 'recupero', 'hitler', 'attention', 'bien', 'visita', 'roman', 'cosa', 'ideal', 'label', 'carlos', 'libro', 'methode', 'medieval', 'differente', 'termina', 'habitat', 'presidente', 'continua', 'sorte', 'legal', 'matt', 'bible', 'crisis', 'tanto', 'japon', 'artificial', 'yards', 'alfredo', 'davis', 'regionale', 'tolerance', 'smith', 'pista', 'rome', 'ultima', 'dire', 'categories', 'poesia', 'mines', 'finalmente', 'entro', 'romana', 'dando', 'absolute', 'torno', 'grado', 'exception', 'destruction', 'solista', 'guerre', 'sections', 'senat', 'once', 'audience', 'football', 'premio', 'relativamente', 'april', 'felix', 'online', 'gouverneur', 'foto', 'onda', 'corea', 'importance', 'global', 'mano', 'efficace', 'consumo', 'relation', 'conference', 'filme', 'allen', 'generales', 'guardia', 'possession', 'punta', 'ciclo', 'sort', 'evolution', 'durante', 'corporation', 'times', 'equation', 'minutes', 'dark', 'recent', 'protection', 'hill', 'principe', 'classe', 'dimensions', 'element', 'west', 'experiences', 'volumes', 'scale', 'miles', 'serie', 'equivalent', 'punto', 'temperatura', 'east', 'debut', 'personal', 'plane', 'star', 'compatible', 'stand', 'vital', 'academy', 'contemporanea', 'mountain', 'decision', 'pronto', 'press', 'main', 'voto', 'forte', 'taylor', 'opera', 'article', 'largo', 'staff', 'permanent', 'capitan', 'media', 'masse', 'vice', 'trait', 'responsable', 'formal', 'memoria', 'wilhelm', 'teams', 'revela', 'resolution', 'lire', 'carte', 'with', 'estate', 'arthur', 'pesca', 'industries', 'giovanni', 'sonora', 'transport', 'dedico', 'include', 'opposition', 'document', 'male', 'invasion', 'cristiana', 'donne']\n"
     ]
    }
   ],
   "source": [
    "joined = df.merge(df, on=['word'])\n",
    "joined = joined[joined.language_x != joined.language_y]\n",
    "duplicate_words = list(set(joined.word))\n",
    "print(duplicate_words)"
   ]
  },
  {
   "cell_type": "code",
   "execution_count": 10,
   "metadata": {},
   "outputs": [],
   "source": [
    "df = df[~df.word.isin(duplicate_words)]"
   ]
  },
  {
   "cell_type": "code",
   "execution_count": 11,
   "metadata": {},
   "outputs": [
    {
     "data": {
      "text/plain": [
       "language\n",
       "de    2795\n",
       "en    3606\n",
       "fr    3159\n",
       "it    3694\n",
       "sp    3482\n",
       "dtype: int64"
      ]
     },
     "execution_count": 11,
     "metadata": {},
     "output_type": "execute_result"
    }
   ],
   "source": [
    "df.groupby('language').size()"
   ]
  },
  {
   "cell_type": "code",
   "execution_count": null,
   "metadata": {},
   "outputs": [],
   "source": []
  },
  {
   "cell_type": "markdown",
   "metadata": {},
   "source": [
    "### Remove duplicate words within languages"
   ]
  },
  {
   "cell_type": "code",
   "execution_count": 12,
   "metadata": {},
   "outputs": [],
   "source": [
    "df = df.drop_duplicates('word')"
   ]
  },
  {
   "cell_type": "code",
   "execution_count": 13,
   "metadata": {},
   "outputs": [],
   "source": [
    "assert len(df.word) == len(set(df.word))"
   ]
  },
  {
   "cell_type": "code",
   "execution_count": 14,
   "metadata": {},
   "outputs": [
    {
     "data": {
      "text/plain": [
       "language\n",
       "de    2623\n",
       "en    3387\n",
       "fr    2922\n",
       "it    3483\n",
       "sp    3199\n",
       "dtype: int64"
      ]
     },
     "execution_count": 14,
     "metadata": {},
     "output_type": "execute_result"
    }
   ],
   "source": [
    "df.groupby('language').size()"
   ]
  },
  {
   "cell_type": "code",
   "execution_count": null,
   "metadata": {},
   "outputs": [],
   "source": []
  },
  {
   "cell_type": "code",
   "execution_count": null,
   "metadata": {},
   "outputs": [],
   "source": []
  },
  {
   "cell_type": "markdown",
   "metadata": {},
   "source": [
    "### Get validation indices"
   ]
  },
  {
   "cell_type": "code",
   "execution_count": 15,
   "metadata": {},
   "outputs": [],
   "source": [
    "df = df.reset_index(drop=True)"
   ]
  },
  {
   "cell_type": "code",
   "execution_count": 16,
   "metadata": {},
   "outputs": [
    {
     "name": "stderr",
     "output_type": "stream",
     "text": [
      "/home/quentin/anaconda3/envs/fastai-cpu/lib/python3.6/site-packages/sklearn/model_selection/_split.py:2179: FutureWarning: From version 0.21, test_size will always complement train_size unless both are specified.\n",
      "  FutureWarning)\n"
     ]
    }
   ],
   "source": [
    "train_idxs, val_idxs = train_test_split(df.index.tolist(), train_size=0.5, random_state=1)"
   ]
  },
  {
   "cell_type": "code",
   "execution_count": null,
   "metadata": {},
   "outputs": [],
   "source": []
  },
  {
   "cell_type": "code",
   "execution_count": null,
   "metadata": {},
   "outputs": [],
   "source": []
  },
  {
   "cell_type": "markdown",
   "metadata": {},
   "source": [
    "### Get letters as features"
   ]
  },
  {
   "cell_type": "code",
   "execution_count": 17,
   "metadata": {},
   "outputs": [],
   "source": [
    "feats = extract_features(df)"
   ]
  },
  {
   "cell_type": "code",
   "execution_count": 18,
   "metadata": {},
   "outputs": [
    {
     "data": {
      "text/html": [
       "<div>\n",
       "<style scoped>\n",
       "    .dataframe tbody tr th:only-of-type {\n",
       "        vertical-align: middle;\n",
       "    }\n",
       "\n",
       "    .dataframe tbody tr th {\n",
       "        vertical-align: top;\n",
       "    }\n",
       "\n",
       "    .dataframe thead th {\n",
       "        text-align: right;\n",
       "    }\n",
       "</style>\n",
       "<table border=\"1\" class=\"dataframe\">\n",
       "  <thead>\n",
       "    <tr style=\"text-align: right;\">\n",
       "      <th></th>\n",
       "      <th>0</th>\n",
       "      <th>1</th>\n",
       "      <th>2</th>\n",
       "      <th>3</th>\n",
       "      <th>4</th>\n",
       "      <th>5</th>\n",
       "      <th>6</th>\n",
       "      <th>7</th>\n",
       "      <th>8</th>\n",
       "      <th>9</th>\n",
       "      <th>10</th>\n",
       "      <th>11</th>\n",
       "      <th>12</th>\n",
       "      <th>13</th>\n",
       "      <th>14</th>\n",
       "      <th>language</th>\n",
       "    </tr>\n",
       "  </thead>\n",
       "  <tbody>\n",
       "    <tr>\n",
       "      <th>0</th>\n",
       "      <td>w</td>\n",
       "      <td>u</td>\n",
       "      <td>r</td>\n",
       "      <td>d</td>\n",
       "      <td>e</td>\n",
       "      <td>NaN</td>\n",
       "      <td>NaN</td>\n",
       "      <td>NaN</td>\n",
       "      <td>NaN</td>\n",
       "      <td>NaN</td>\n",
       "      <td>NaN</td>\n",
       "      <td>NaN</td>\n",
       "      <td>NaN</td>\n",
       "      <td>NaN</td>\n",
       "      <td>NaN</td>\n",
       "      <td>de</td>\n",
       "    </tr>\n",
       "    <tr>\n",
       "      <th>1</th>\n",
       "      <td>s</td>\n",
       "      <td>i</td>\n",
       "      <td>c</td>\n",
       "      <td>h</td>\n",
       "      <td>NaN</td>\n",
       "      <td>NaN</td>\n",
       "      <td>NaN</td>\n",
       "      <td>NaN</td>\n",
       "      <td>NaN</td>\n",
       "      <td>NaN</td>\n",
       "      <td>NaN</td>\n",
       "      <td>NaN</td>\n",
       "      <td>NaN</td>\n",
       "      <td>NaN</td>\n",
       "      <td>NaN</td>\n",
       "      <td>de</td>\n",
       "    </tr>\n",
       "    <tr>\n",
       "      <th>2</th>\n",
       "      <td>e</td>\n",
       "      <td>i</td>\n",
       "      <td>n</td>\n",
       "      <td>e</td>\n",
       "      <td>NaN</td>\n",
       "      <td>NaN</td>\n",
       "      <td>NaN</td>\n",
       "      <td>NaN</td>\n",
       "      <td>NaN</td>\n",
       "      <td>NaN</td>\n",
       "      <td>NaN</td>\n",
       "      <td>NaN</td>\n",
       "      <td>NaN</td>\n",
       "      <td>NaN</td>\n",
       "      <td>NaN</td>\n",
       "      <td>de</td>\n",
       "    </tr>\n",
       "    <tr>\n",
       "      <th>3</th>\n",
       "      <td>a</td>\n",
       "      <td>u</td>\n",
       "      <td>c</td>\n",
       "      <td>h</td>\n",
       "      <td>NaN</td>\n",
       "      <td>NaN</td>\n",
       "      <td>NaN</td>\n",
       "      <td>NaN</td>\n",
       "      <td>NaN</td>\n",
       "      <td>NaN</td>\n",
       "      <td>NaN</td>\n",
       "      <td>NaN</td>\n",
       "      <td>NaN</td>\n",
       "      <td>NaN</td>\n",
       "      <td>NaN</td>\n",
       "      <td>de</td>\n",
       "    </tr>\n",
       "    <tr>\n",
       "      <th>4</th>\n",
       "      <td>n</td>\n",
       "      <td>a</td>\n",
       "      <td>c</td>\n",
       "      <td>h</td>\n",
       "      <td>NaN</td>\n",
       "      <td>NaN</td>\n",
       "      <td>NaN</td>\n",
       "      <td>NaN</td>\n",
       "      <td>NaN</td>\n",
       "      <td>NaN</td>\n",
       "      <td>NaN</td>\n",
       "      <td>NaN</td>\n",
       "      <td>NaN</td>\n",
       "      <td>NaN</td>\n",
       "      <td>NaN</td>\n",
       "      <td>de</td>\n",
       "    </tr>\n",
       "  </tbody>\n",
       "</table>\n",
       "</div>"
      ],
      "text/plain": [
       "   0  1  2  3    4    5    6    7    8    9   10   11   12   13   14 language\n",
       "0  w  u  r  d    e  NaN  NaN  NaN  NaN  NaN  NaN  NaN  NaN  NaN  NaN       de\n",
       "1  s  i  c  h  NaN  NaN  NaN  NaN  NaN  NaN  NaN  NaN  NaN  NaN  NaN       de\n",
       "2  e  i  n  e  NaN  NaN  NaN  NaN  NaN  NaN  NaN  NaN  NaN  NaN  NaN       de\n",
       "3  a  u  c  h  NaN  NaN  NaN  NaN  NaN  NaN  NaN  NaN  NaN  NaN  NaN       de\n",
       "4  n  a  c  h  NaN  NaN  NaN  NaN  NaN  NaN  NaN  NaN  NaN  NaN  NaN       de"
      ]
     },
     "execution_count": 18,
     "metadata": {},
     "output_type": "execute_result"
    }
   ],
   "source": [
    "feats.head()"
   ]
  },
  {
   "cell_type": "code",
   "execution_count": null,
   "metadata": {},
   "outputs": [],
   "source": []
  },
  {
   "cell_type": "code",
   "execution_count": null,
   "metadata": {},
   "outputs": [],
   "source": []
  },
  {
   "cell_type": "code",
   "execution_count": null,
   "metadata": {},
   "outputs": [],
   "source": []
  },
  {
   "cell_type": "code",
   "execution_count": null,
   "metadata": {},
   "outputs": [],
   "source": []
  },
  {
   "cell_type": "markdown",
   "metadata": {},
   "source": [
    "# One-encoded features model"
   ]
  },
  {
   "cell_type": "code",
   "execution_count": 19,
   "metadata": {},
   "outputs": [],
   "source": [
    "from fastai.structured import *\n",
    "from fastai.column_data import *"
   ]
  },
  {
   "cell_type": "code",
   "execution_count": null,
   "metadata": {},
   "outputs": [],
   "source": []
  },
  {
   "cell_type": "code",
   "execution_count": null,
   "metadata": {},
   "outputs": [],
   "source": []
  },
  {
   "cell_type": "markdown",
   "metadata": {},
   "source": [
    "### Dumify variables"
   ]
  },
  {
   "cell_type": "code",
   "execution_count": 20,
   "metadata": {},
   "outputs": [],
   "source": [
    "def gen_dummy_cols():\n",
    "    for i in range(MAX_LEN):\n",
    "        for c_i in range(ord('a'), ord('z') + 1):\n",
    "            c = chr(c_i)\n",
    "            yield f'{i}_{c}'\n",
    "        yield f'{i}_nan'\n",
    "\n",
    "dummy_cols = list(gen_dummy_cols())"
   ]
  },
  {
   "cell_type": "code",
   "execution_count": 21,
   "metadata": {},
   "outputs": [
    {
     "name": "stdout",
     "output_type": "stream",
     "text": [
      "['0_a', '0_b', '0_c', '0_d', '0_e', '0_f', '0_g', '0_h', '0_i', '0_j', '0_k', '0_l', '0_m', '0_n', '0_o', '0_p', '0_q', '0_r', '0_s', '0_t', '0_u', '0_v', '0_w', '0_x', '0_y', '0_z', '0_nan', '1_a', '1_b', '1_c']\n",
      "['13_y', '13_z', '13_nan', '14_a', '14_b', '14_c', '14_d', '14_e', '14_f', '14_g', '14_h', '14_i', '14_j', '14_k', '14_l', '14_m', '14_n', '14_o', '14_p', '14_q', '14_r', '14_s', '14_t', '14_u', '14_v', '14_w', '14_x', '14_y', '14_z', '14_nan']\n"
     ]
    }
   ],
   "source": [
    "print(dummy_cols[:30])\n",
    "print(dummy_cols[-30:])"
   ]
  },
  {
   "cell_type": "code",
   "execution_count": 22,
   "metadata": {},
   "outputs": [],
   "source": [
    "y = feats['language']\n",
    "y_dummy = pd.get_dummies(y)\n",
    "y_dummy = y_dummy.astype(np.float32).reset_index(drop=True)"
   ]
  },
  {
   "cell_type": "code",
   "execution_count": 23,
   "metadata": {},
   "outputs": [],
   "source": [
    "feats_no_label = feats.drop('language', axis=1)"
   ]
  },
  {
   "cell_type": "code",
   "execution_count": 24,
   "metadata": {},
   "outputs": [],
   "source": [
    "feats_dummy = pd.get_dummies(feats, dummy_na=True)\n",
    "feats_dummy = feats_dummy.T.reindex(dummy_cols).T.fillna(0)\n",
    "feats_dummy = feats_dummy.astype(np.float32).reset_index(drop=True)"
   ]
  },
  {
   "cell_type": "code",
   "execution_count": 25,
   "metadata": {},
   "outputs": [
    {
     "data": {
      "text/html": [
       "<div>\n",
       "<style scoped>\n",
       "    .dataframe tbody tr th:only-of-type {\n",
       "        vertical-align: middle;\n",
       "    }\n",
       "\n",
       "    .dataframe tbody tr th {\n",
       "        vertical-align: top;\n",
       "    }\n",
       "\n",
       "    .dataframe thead th {\n",
       "        text-align: right;\n",
       "    }\n",
       "</style>\n",
       "<table border=\"1\" class=\"dataframe\">\n",
       "  <thead>\n",
       "    <tr style=\"text-align: right;\">\n",
       "      <th></th>\n",
       "      <th>0_a</th>\n",
       "      <th>0_b</th>\n",
       "      <th>0_c</th>\n",
       "      <th>0_d</th>\n",
       "      <th>0_e</th>\n",
       "      <th>0_f</th>\n",
       "      <th>0_g</th>\n",
       "      <th>0_h</th>\n",
       "      <th>0_i</th>\n",
       "      <th>0_j</th>\n",
       "      <th>...</th>\n",
       "      <th>14_r</th>\n",
       "      <th>14_s</th>\n",
       "      <th>14_t</th>\n",
       "      <th>14_u</th>\n",
       "      <th>14_v</th>\n",
       "      <th>14_w</th>\n",
       "      <th>14_x</th>\n",
       "      <th>14_y</th>\n",
       "      <th>14_z</th>\n",
       "      <th>14_nan</th>\n",
       "    </tr>\n",
       "  </thead>\n",
       "  <tbody>\n",
       "    <tr>\n",
       "      <th>0</th>\n",
       "      <td>0.0</td>\n",
       "      <td>0.0</td>\n",
       "      <td>0.0</td>\n",
       "      <td>0.0</td>\n",
       "      <td>0.0</td>\n",
       "      <td>0.0</td>\n",
       "      <td>0.0</td>\n",
       "      <td>0.0</td>\n",
       "      <td>0.0</td>\n",
       "      <td>0.0</td>\n",
       "      <td>...</td>\n",
       "      <td>0.0</td>\n",
       "      <td>0.0</td>\n",
       "      <td>0.0</td>\n",
       "      <td>0.0</td>\n",
       "      <td>0.0</td>\n",
       "      <td>0.0</td>\n",
       "      <td>0.0</td>\n",
       "      <td>0.0</td>\n",
       "      <td>0.0</td>\n",
       "      <td>1.0</td>\n",
       "    </tr>\n",
       "    <tr>\n",
       "      <th>1</th>\n",
       "      <td>0.0</td>\n",
       "      <td>0.0</td>\n",
       "      <td>0.0</td>\n",
       "      <td>0.0</td>\n",
       "      <td>0.0</td>\n",
       "      <td>0.0</td>\n",
       "      <td>0.0</td>\n",
       "      <td>0.0</td>\n",
       "      <td>0.0</td>\n",
       "      <td>0.0</td>\n",
       "      <td>...</td>\n",
       "      <td>0.0</td>\n",
       "      <td>0.0</td>\n",
       "      <td>0.0</td>\n",
       "      <td>0.0</td>\n",
       "      <td>0.0</td>\n",
       "      <td>0.0</td>\n",
       "      <td>0.0</td>\n",
       "      <td>0.0</td>\n",
       "      <td>0.0</td>\n",
       "      <td>1.0</td>\n",
       "    </tr>\n",
       "    <tr>\n",
       "      <th>2</th>\n",
       "      <td>0.0</td>\n",
       "      <td>0.0</td>\n",
       "      <td>0.0</td>\n",
       "      <td>0.0</td>\n",
       "      <td>1.0</td>\n",
       "      <td>0.0</td>\n",
       "      <td>0.0</td>\n",
       "      <td>0.0</td>\n",
       "      <td>0.0</td>\n",
       "      <td>0.0</td>\n",
       "      <td>...</td>\n",
       "      <td>0.0</td>\n",
       "      <td>0.0</td>\n",
       "      <td>0.0</td>\n",
       "      <td>0.0</td>\n",
       "      <td>0.0</td>\n",
       "      <td>0.0</td>\n",
       "      <td>0.0</td>\n",
       "      <td>0.0</td>\n",
       "      <td>0.0</td>\n",
       "      <td>1.0</td>\n",
       "    </tr>\n",
       "    <tr>\n",
       "      <th>3</th>\n",
       "      <td>1.0</td>\n",
       "      <td>0.0</td>\n",
       "      <td>0.0</td>\n",
       "      <td>0.0</td>\n",
       "      <td>0.0</td>\n",
       "      <td>0.0</td>\n",
       "      <td>0.0</td>\n",
       "      <td>0.0</td>\n",
       "      <td>0.0</td>\n",
       "      <td>0.0</td>\n",
       "      <td>...</td>\n",
       "      <td>0.0</td>\n",
       "      <td>0.0</td>\n",
       "      <td>0.0</td>\n",
       "      <td>0.0</td>\n",
       "      <td>0.0</td>\n",
       "      <td>0.0</td>\n",
       "      <td>0.0</td>\n",
       "      <td>0.0</td>\n",
       "      <td>0.0</td>\n",
       "      <td>1.0</td>\n",
       "    </tr>\n",
       "    <tr>\n",
       "      <th>4</th>\n",
       "      <td>0.0</td>\n",
       "      <td>0.0</td>\n",
       "      <td>0.0</td>\n",
       "      <td>0.0</td>\n",
       "      <td>0.0</td>\n",
       "      <td>0.0</td>\n",
       "      <td>0.0</td>\n",
       "      <td>0.0</td>\n",
       "      <td>0.0</td>\n",
       "      <td>0.0</td>\n",
       "      <td>...</td>\n",
       "      <td>0.0</td>\n",
       "      <td>0.0</td>\n",
       "      <td>0.0</td>\n",
       "      <td>0.0</td>\n",
       "      <td>0.0</td>\n",
       "      <td>0.0</td>\n",
       "      <td>0.0</td>\n",
       "      <td>0.0</td>\n",
       "      <td>0.0</td>\n",
       "      <td>1.0</td>\n",
       "    </tr>\n",
       "  </tbody>\n",
       "</table>\n",
       "<p>5 rows × 405 columns</p>\n",
       "</div>"
      ],
      "text/plain": [
       "   0_a  0_b  0_c  0_d  0_e  0_f  0_g  0_h  0_i  0_j   ...    14_r  14_s  14_t  \\\n",
       "0  0.0  0.0  0.0  0.0  0.0  0.0  0.0  0.0  0.0  0.0   ...     0.0   0.0   0.0   \n",
       "1  0.0  0.0  0.0  0.0  0.0  0.0  0.0  0.0  0.0  0.0   ...     0.0   0.0   0.0   \n",
       "2  0.0  0.0  0.0  0.0  1.0  0.0  0.0  0.0  0.0  0.0   ...     0.0   0.0   0.0   \n",
       "3  1.0  0.0  0.0  0.0  0.0  0.0  0.0  0.0  0.0  0.0   ...     0.0   0.0   0.0   \n",
       "4  0.0  0.0  0.0  0.0  0.0  0.0  0.0  0.0  0.0  0.0   ...     0.0   0.0   0.0   \n",
       "\n",
       "   14_u  14_v  14_w  14_x  14_y  14_z  14_nan  \n",
       "0   0.0   0.0   0.0   0.0   0.0   0.0     1.0  \n",
       "1   0.0   0.0   0.0   0.0   0.0   0.0     1.0  \n",
       "2   0.0   0.0   0.0   0.0   0.0   0.0     1.0  \n",
       "3   0.0   0.0   0.0   0.0   0.0   0.0     1.0  \n",
       "4   0.0   0.0   0.0   0.0   0.0   0.0     1.0  \n",
       "\n",
       "[5 rows x 405 columns]"
      ]
     },
     "execution_count": 25,
     "metadata": {},
     "output_type": "execute_result"
    }
   ],
   "source": [
    "feats_dummy.head()"
   ]
  },
  {
   "cell_type": "code",
   "execution_count": 26,
   "metadata": {},
   "outputs": [
    {
     "data": {
      "text/html": [
       "<div>\n",
       "<style scoped>\n",
       "    .dataframe tbody tr th:only-of-type {\n",
       "        vertical-align: middle;\n",
       "    }\n",
       "\n",
       "    .dataframe tbody tr th {\n",
       "        vertical-align: top;\n",
       "    }\n",
       "\n",
       "    .dataframe thead th {\n",
       "        text-align: right;\n",
       "    }\n",
       "</style>\n",
       "<table border=\"1\" class=\"dataframe\">\n",
       "  <thead>\n",
       "    <tr style=\"text-align: right;\">\n",
       "      <th></th>\n",
       "      <th>de</th>\n",
       "      <th>en</th>\n",
       "      <th>fr</th>\n",
       "      <th>it</th>\n",
       "      <th>sp</th>\n",
       "    </tr>\n",
       "  </thead>\n",
       "  <tbody>\n",
       "    <tr>\n",
       "      <th>0</th>\n",
       "      <td>1.0</td>\n",
       "      <td>0.0</td>\n",
       "      <td>0.0</td>\n",
       "      <td>0.0</td>\n",
       "      <td>0.0</td>\n",
       "    </tr>\n",
       "    <tr>\n",
       "      <th>1</th>\n",
       "      <td>1.0</td>\n",
       "      <td>0.0</td>\n",
       "      <td>0.0</td>\n",
       "      <td>0.0</td>\n",
       "      <td>0.0</td>\n",
       "    </tr>\n",
       "    <tr>\n",
       "      <th>2</th>\n",
       "      <td>1.0</td>\n",
       "      <td>0.0</td>\n",
       "      <td>0.0</td>\n",
       "      <td>0.0</td>\n",
       "      <td>0.0</td>\n",
       "    </tr>\n",
       "    <tr>\n",
       "      <th>3</th>\n",
       "      <td>1.0</td>\n",
       "      <td>0.0</td>\n",
       "      <td>0.0</td>\n",
       "      <td>0.0</td>\n",
       "      <td>0.0</td>\n",
       "    </tr>\n",
       "    <tr>\n",
       "      <th>4</th>\n",
       "      <td>1.0</td>\n",
       "      <td>0.0</td>\n",
       "      <td>0.0</td>\n",
       "      <td>0.0</td>\n",
       "      <td>0.0</td>\n",
       "    </tr>\n",
       "  </tbody>\n",
       "</table>\n",
       "</div>"
      ],
      "text/plain": [
       "    de   en   fr   it   sp\n",
       "0  1.0  0.0  0.0  0.0  0.0\n",
       "1  1.0  0.0  0.0  0.0  0.0\n",
       "2  1.0  0.0  0.0  0.0  0.0\n",
       "3  1.0  0.0  0.0  0.0  0.0\n",
       "4  1.0  0.0  0.0  0.0  0.0"
      ]
     },
     "execution_count": 26,
     "metadata": {},
     "output_type": "execute_result"
    }
   ],
   "source": [
    "y_dummy.head()"
   ]
  },
  {
   "cell_type": "code",
   "execution_count": null,
   "metadata": {},
   "outputs": [],
   "source": []
  },
  {
   "cell_type": "code",
   "execution_count": null,
   "metadata": {},
   "outputs": [],
   "source": []
  },
  {
   "cell_type": "markdown",
   "metadata": {},
   "source": [
    "### Model"
   ]
  },
  {
   "cell_type": "code",
   "execution_count": 27,
   "metadata": {},
   "outputs": [],
   "source": [
    "PATH = 'data/words/'\n",
    "md = ColumnarModelData.from_data_frame(PATH, val_idxs, df=feats_dummy, y=y_dummy.values, cat_flds=[], bs=128,\n",
    "                                       is_reg=False, is_multi=True)"
   ]
  },
  {
   "cell_type": "code",
   "execution_count": 28,
   "metadata": {},
   "outputs": [],
   "source": [
    "learn = md.get_learner(emb_szs=[], n_cont=feats_dummy.shape[1], emb_drop=0, out_sz=len(languages),\n",
    "                       szs=[500], drops=[0.3])"
   ]
  },
  {
   "cell_type": "code",
   "execution_count": 29,
   "metadata": {},
   "outputs": [
    {
     "data": {
      "application/vnd.jupyter.widget-view+json": {
       "model_id": "99df541f16f94b69b0e7de6383d07a7a",
       "version_major": 2,
       "version_minor": 0
      },
      "text/plain": [
       "HBox(children=(IntProgress(value=0, description='Epoch', max=1, style=ProgressStyle(description_width='initial…"
      ]
     },
     "metadata": {},
     "output_type": "display_data"
    },
    {
     "name": "stdout",
     "output_type": "stream",
     "text": [
      "epoch      trn_loss   val_loss                              \n",
      "    0      1.092242   9.152957  \n",
      "\n"
     ]
    }
   ],
   "source": [
    "learn.lr_find()"
   ]
  },
  {
   "cell_type": "code",
   "execution_count": 30,
   "metadata": {},
   "outputs": [
    {
     "data": {
      "image/png": "[encoded data removed]",
      "text/plain": [
       "<Figure size 432x288 with 1 Axes>"
      ]
     },
     "metadata": {
      "needs_background": "light"
     },
     "output_type": "display_data"
    }
   ],
   "source": [
    "learn.sched.plot()"
   ]
  },
  {
   "cell_type": "code",
   "execution_count": 31,
   "metadata": {},
   "outputs": [],
   "source": [
    "def accuracy(preds, targs):\n",
    "    _, preds = torch.max(preds, dim=1)\n",
    "    _, targs = torch.max(targs, dim=1)\n",
    "    return (preds==targs).float().mean()"
   ]
  },
  {
   "cell_type": "code",
   "execution_count": 32,
   "metadata": {
    "scrolled": false
   },
   "outputs": [
    {
     "data": {
      "application/vnd.jupyter.widget-view+json": {
       "model_id": "6b8f5aa572f846dc91d080ec22ec32bf",
       "version_major": 2,
       "version_minor": 0
      },
      "text/plain": [
       "HBox(children=(IntProgress(value=0, description='Epoch', max=105, style=ProgressStyle(description_width='initi…"
      ]
     },
     "metadata": {},
     "output_type": "display_data"
    },
    {
     "name": "stdout",
     "output_type": "stream",
     "text": [
      "epoch      trn_loss   val_loss   accuracy                   \n",
      "    0      0.50443    0.424034   0.465864  \n",
      "    1      0.444395   0.41479    0.497118                   \n",
      "    2      0.41043    0.402364   0.524273                   \n",
      "    3      0.375714   0.386784   0.557064                   \n",
      "    4      0.343742   0.375625   0.580505                   \n",
      "    5      0.309832   0.368679   0.601896                   \n",
      "    6      0.286947   0.362645   0.61304                    \n",
      "    7      0.260903   0.35981    0.626617                   \n",
      "    8      0.235565   0.364983   0.637889                   \n",
      "    9      0.214311   0.373052   0.638145                   \n",
      "    10     0.196142   0.375251   0.648649                   \n",
      "    11     0.18362    0.376613   0.648777                   \n",
      "    12     0.174032   0.37705    0.64788                    \n",
      "    13     0.168709   0.378373   0.650954                   \n",
      "    14     0.164554   0.378486   0.650698                   \n",
      "    15     0.237851   0.413599   0.585884                   \n",
      "    16     0.302531   0.419647   0.588702                   \n",
      "    17     0.324811   0.424488   0.570257                   \n",
      "    18     0.323216   0.410825   0.597284                   \n",
      "    19     0.308049   0.437768   0.580761                   \n",
      "    20     0.302556   0.442816   0.605098                   \n",
      "    21     0.289189   0.451977   0.590496                   \n",
      "    22     0.271559   0.45456    0.609325                   \n",
      "    23     0.261966   0.458295   0.611374                   \n",
      "    24     0.250168   0.459566   0.616882                   \n",
      "    25     0.23367    0.465209   0.626233                   \n",
      "    26     0.221718   0.462279   0.632637                   \n",
      "    27     0.213967   0.469939   0.634046                   \n",
      "    28     0.201779   0.481963   0.633534                   \n",
      "    29     0.197143   0.471088   0.63648                    \n",
      "    30     0.185166   0.497123   0.630204                   \n",
      "    31     0.178625   0.497385   0.639298                   \n",
      "    32     0.172956   0.503466   0.640323                   \n",
      "    33     0.170336   0.504774   0.640835                   \n",
      "    34     0.16214    0.51179    0.641219                   \n",
      "    35     0.15988    0.511579   0.643781                   \n",
      "    36     0.153882   0.529343   0.646343                   \n",
      "    37     0.151461   0.524174   0.643653                   \n",
      "    38     0.148395   0.529963   0.64724                    \n",
      "    39     0.146783   0.5338     0.646343                   \n",
      "    40     0.143396   0.537392   0.647112                   \n",
      "    41     0.142803   0.53859    0.648649                   \n",
      "    42     0.140473   0.541049   0.648649                   \n",
      "    43     0.142584   0.541266   0.649289                   \n",
      "    44     0.141653   0.541302   0.649289                   \n",
      "    45     0.191712   0.515553   0.616626                   \n",
      "    46     0.240439   0.530457   0.594467                   \n",
      "    47     0.269128   0.512812   0.593186                   \n",
      "    48     0.27438    0.500687   0.598309                   \n",
      "    49     0.275738   0.489816   0.608556                   \n",
      "    50     0.272447   0.484518   0.610478                   \n",
      "    51     0.259664   0.553944   0.600359                   \n",
      "    52     0.262106   0.524429   0.603049                   \n",
      "    53     0.252721   0.529166   0.599974                   \n",
      "    54     0.244906   0.518054   0.615858                   \n",
      "    55     0.235863   0.54611    0.612399                   \n",
      "    56     0.229014   0.518611   0.622134                   \n",
      "    57     0.227411   0.525864   0.618932                   \n",
      "    58     0.223753   0.549616   0.615473                   \n",
      "    59     0.216493   0.577066   0.625336                   \n",
      "    60     0.212941   0.571482   0.624312                   \n",
      "    61     0.205841   0.567717   0.621878                   \n",
      "    62     0.196806   0.581885   0.623159                   \n",
      "    63     0.19197    0.572006   0.619828                   \n",
      "    64     0.19178    0.58403    0.628282                   \n",
      "    65     0.187092   0.586241   0.627386                   \n",
      "    66     0.183488   0.611988   0.628795                   \n",
      "    67     0.179653   0.618804   0.638273                   \n",
      "    68     0.17662    0.616398   0.63584                    \n",
      "    69     0.174309   0.625946   0.633662                   \n",
      "    70     0.172428   0.617328   0.636608                   \n",
      "    71     0.168765   0.626932   0.635071                   \n",
      "    72     0.168287   0.641472   0.635071                   \n",
      "    73     0.162363   0.64393    0.63853                    \n",
      "    74     0.160119   0.65309    0.632509                   \n",
      "    75     0.156235   0.651617   0.625721                   \n",
      "    76     0.15134    0.670344   0.641988                   \n",
      "    77     0.152181   0.665801   0.634303                   \n",
      "    78     0.149872   0.678465   0.640067                   \n",
      "    79     0.147021   0.695139   0.640579                   \n",
      "    80     0.147109   0.683942   0.643525                   \n",
      "    81     0.144329   0.695256   0.642757                   \n",
      "    82     0.142945   0.700693   0.642885                   \n",
      "    83     0.139855   0.710819   0.642116                   \n",
      "    84     0.13926    0.715127   0.640835                   \n",
      "    85     0.138872   0.710424   0.64186                    \n",
      "    86     0.134417   0.717054   0.641091                  \n",
      "    87     0.134417   0.72397    0.642116                   \n",
      "    88     0.131749   0.730609   0.640963                   \n",
      "    89     0.132293   0.731493   0.64519                    \n",
      "    90     0.130685   0.740306   0.645959                   \n",
      "    91     0.129992   0.73926    0.642757                   \n",
      "    92     0.125787   0.752168   0.643141                   \n",
      "    93     0.126567   0.752275   0.644934                   \n",
      "    94     0.125323   0.754287   0.645062                   \n",
      "    95     0.128241   0.751614   0.642885                   \n",
      "    96     0.126578   0.75776    0.643013                   \n",
      "    97     0.126183   0.756179   0.643781                   \n",
      "    98     0.126293   0.759411   0.643781                   \n",
      "    99     0.126426   0.760267   0.644422                   \n",
      "   100     0.124158   0.762597   0.64455                    \n",
      "   101     0.126637   0.762924   0.644165                   \n",
      "   102     0.124147   0.763053   0.643909                   \n",
      "   103     0.125952   0.76317    0.644294                   \n",
      "   104     0.123421   0.763175   0.644294                   \n",
      "\n"
     ]
    },
    {
     "data": {
      "text/plain": [
       "[array([0.76317]), 0.6442935826822083]"
      ]
     },
     "execution_count": 32,
     "metadata": {},
     "output_type": "execute_result"
    }
   ],
   "source": [
    "learn.fit(0.1, n_cycle=3, cycle_len=15, cycle_mult=2, metrics=[accuracy])"
   ]
  },
  {
   "cell_type": "code",
   "execution_count": null,
   "metadata": {},
   "outputs": [],
   "source": []
  },
  {
   "cell_type": "code",
   "execution_count": null,
   "metadata": {},
   "outputs": [],
   "source": []
  },
  {
   "cell_type": "markdown",
   "metadata": {},
   "source": [
    "### Predict and enrich validation dataset for analysis"
   ]
  },
  {
   "cell_type": "code",
   "execution_count": 33,
   "metadata": {},
   "outputs": [],
   "source": [
    "df_val = df.iloc[val_idxs]"
   ]
  },
  {
   "cell_type": "code",
   "execution_count": 34,
   "metadata": {},
   "outputs": [
    {
     "name": "stderr",
     "output_type": "stream",
     "text": [
      "/home/quentin/anaconda3/envs/fastai-cpu/lib/python3.6/site-packages/ipykernel_launcher.py:2: SettingWithCopyWarning: \n",
      "A value is trying to be set on a copy of a slice from a DataFrame.\n",
      "Try using .loc[row_indexer,col_indexer] = value instead\n",
      "\n",
      "See the caveats in the documentation: http://pandas.pydata.org/pandas-docs/stable/indexing.html#indexing-view-versus-copy\n",
      "  \n"
     ]
    }
   ],
   "source": [
    "labels = np.argmax(y_dummy.iloc[val_idxs].values, axis=1)\n",
    "df_val['language_id'] = labels"
   ]
  },
  {
   "cell_type": "code",
   "execution_count": 35,
   "metadata": {},
   "outputs": [
    {
     "name": "stderr",
     "output_type": "stream",
     "text": [
      "/home/quentin/anaconda3/envs/fastai-cpu/lib/python3.6/site-packages/ipykernel_launcher.py:4: SettingWithCopyWarning: \n",
      "A value is trying to be set on a copy of a slice from a DataFrame.\n",
      "Try using .loc[row_indexer,col_indexer] = value instead\n",
      "\n",
      "See the caveats in the documentation: http://pandas.pydata.org/pandas-docs/stable/indexing.html#indexing-view-versus-copy\n",
      "  after removing the cwd from sys.path.\n",
      "/home/quentin/anaconda3/envs/fastai-cpu/lib/python3.6/site-packages/ipykernel_launcher.py:5: SettingWithCopyWarning: \n",
      "A value is trying to be set on a copy of a slice from a DataFrame.\n",
      "Try using .loc[row_indexer,col_indexer] = value instead\n",
      "\n",
      "See the caveats in the documentation: http://pandas.pydata.org/pandas-docs/stable/indexing.html#indexing-view-versus-copy\n",
      "  \"\"\"\n"
     ]
    }
   ],
   "source": [
    "preds_dummy = learn.predict_array(x_cat=[0], x_cont=feats_dummy.iloc[val_idxs])\n",
    "preds = np.argmax(preds_dummy, axis=1)\n",
    "probas = np.max(preds_dummy, axis=1)\n",
    "df_val['pred_id'] = preds\n",
    "df_val['probas'] = probas"
   ]
  },
  {
   "cell_type": "code",
   "execution_count": 36,
   "metadata": {},
   "outputs": [
    {
     "name": "stderr",
     "output_type": "stream",
     "text": [
      "/home/quentin/anaconda3/envs/fastai-cpu/lib/python3.6/site-packages/ipykernel_launcher.py:1: SettingWithCopyWarning: \n",
      "A value is trying to be set on a copy of a slice from a DataFrame.\n",
      "Try using .loc[row_indexer,col_indexer] = value instead\n",
      "\n",
      "See the caveats in the documentation: http://pandas.pydata.org/pandas-docs/stable/indexing.html#indexing-view-versus-copy\n",
      "  \"\"\"Entry point for launching an IPython kernel.\n"
     ]
    }
   ],
   "source": [
    "df_val['pred'] = df_val['pred_id'].map(dict(enumerate(languages)))"
   ]
  },
  {
   "cell_type": "code",
   "execution_count": null,
   "metadata": {},
   "outputs": [],
   "source": []
  },
  {
   "cell_type": "code",
   "execution_count": null,
   "metadata": {},
   "outputs": [],
   "source": []
  },
  {
   "cell_type": "markdown",
   "metadata": {},
   "source": [
    "### Results analysis"
   ]
  },
  {
   "cell_type": "code",
   "execution_count": 37,
   "metadata": {},
   "outputs": [
    {
     "data": {
      "text/html": [
       "<div>\n",
       "<style scoped>\n",
       "    .dataframe tbody tr th:only-of-type {\n",
       "        vertical-align: middle;\n",
       "    }\n",
       "\n",
       "    .dataframe tbody tr th {\n",
       "        vertical-align: top;\n",
       "    }\n",
       "\n",
       "    .dataframe thead th {\n",
       "        text-align: right;\n",
       "    }\n",
       "</style>\n",
       "<table border=\"1\" class=\"dataframe\">\n",
       "  <thead>\n",
       "    <tr style=\"text-align: right;\">\n",
       "      <th></th>\n",
       "      <th>word</th>\n",
       "      <th>freq</th>\n",
       "      <th>language</th>\n",
       "      <th>language_id</th>\n",
       "      <th>pred_id</th>\n",
       "      <th>probas</th>\n",
       "      <th>pred</th>\n",
       "    </tr>\n",
       "  </thead>\n",
       "  <tbody>\n",
       "    <tr>\n",
       "      <th>259</th>\n",
       "      <td>kleinen</td>\n",
       "      <td>35</td>\n",
       "      <td>de</td>\n",
       "      <td>0</td>\n",
       "      <td>0</td>\n",
       "      <td>1.0</td>\n",
       "      <td>de</td>\n",
       "    </tr>\n",
       "    <tr>\n",
       "      <th>11154</th>\n",
       "      <td>adaptations</td>\n",
       "      <td>6</td>\n",
       "      <td>en</td>\n",
       "      <td>1</td>\n",
       "      <td>2</td>\n",
       "      <td>1.0</td>\n",
       "      <td>fr</td>\n",
       "    </tr>\n",
       "    <tr>\n",
       "      <th>12712</th>\n",
       "      <td>attorno</td>\n",
       "      <td>21</td>\n",
       "      <td>it</td>\n",
       "      <td>3</td>\n",
       "      <td>3</td>\n",
       "      <td>1.0</td>\n",
       "      <td>it</td>\n",
       "    </tr>\n",
       "    <tr>\n",
       "      <th>9283</th>\n",
       "      <td>hydrogen</td>\n",
       "      <td>25</td>\n",
       "      <td>en</td>\n",
       "      <td>1</td>\n",
       "      <td>0</td>\n",
       "      <td>1.0</td>\n",
       "      <td>de</td>\n",
       "    </tr>\n",
       "    <tr>\n",
       "      <th>10558</th>\n",
       "      <td>approaches</td>\n",
       "      <td>8</td>\n",
       "      <td>en</td>\n",
       "      <td>1</td>\n",
       "      <td>2</td>\n",
       "      <td>1.0</td>\n",
       "      <td>fr</td>\n",
       "    </tr>\n",
       "    <tr>\n",
       "      <th>9799</th>\n",
       "      <td>markets</td>\n",
       "      <td>14</td>\n",
       "      <td>en</td>\n",
       "      <td>1</td>\n",
       "      <td>1</td>\n",
       "      <td>1.0</td>\n",
       "      <td>en</td>\n",
       "    </tr>\n",
       "    <tr>\n",
       "      <th>12130</th>\n",
       "      <td>yields</td>\n",
       "      <td>5</td>\n",
       "      <td>en</td>\n",
       "      <td>1</td>\n",
       "      <td>1</td>\n",
       "      <td>1.0</td>\n",
       "      <td>en</td>\n",
       "    </tr>\n",
       "    <tr>\n",
       "      <th>3787</th>\n",
       "      <td>mexique</td>\n",
       "      <td>10</td>\n",
       "      <td>fr</td>\n",
       "      <td>2</td>\n",
       "      <td>2</td>\n",
       "      <td>1.0</td>\n",
       "      <td>fr</td>\n",
       "    </tr>\n",
       "    <tr>\n",
       "      <th>1831</th>\n",
       "      <td>entlassung</td>\n",
       "      <td>6</td>\n",
       "      <td>de</td>\n",
       "      <td>0</td>\n",
       "      <td>0</td>\n",
       "      <td>1.0</td>\n",
       "      <td>de</td>\n",
       "    </tr>\n",
       "    <tr>\n",
       "      <th>12739</th>\n",
       "      <td>secoli</td>\n",
       "      <td>21</td>\n",
       "      <td>it</td>\n",
       "      <td>3</td>\n",
       "      <td>3</td>\n",
       "      <td>1.0</td>\n",
       "      <td>it</td>\n",
       "    </tr>\n",
       "  </tbody>\n",
       "</table>\n",
       "</div>"
      ],
      "text/plain": [
       "              word  freq language  language_id  pred_id  probas pred\n",
       "259        kleinen    35       de            0        0     1.0   de\n",
       "11154  adaptations     6       en            1        2     1.0   fr\n",
       "12712      attorno    21       it            3        3     1.0   it\n",
       "9283      hydrogen    25       en            1        0     1.0   de\n",
       "10558   approaches     8       en            1        2     1.0   fr\n",
       "9799       markets    14       en            1        1     1.0   en\n",
       "12130       yields     5       en            1        1     1.0   en\n",
       "3787       mexique    10       fr            2        2     1.0   fr\n",
       "1831    entlassung     6       de            0        0     1.0   de\n",
       "12739       secoli    21       it            3        3     1.0   it"
      ]
     },
     "execution_count": 37,
     "metadata": {},
     "output_type": "execute_result"
    }
   ],
   "source": [
    "# Most confident predictions\n",
    "df_val.sort_values('probas', ascending=False).head(10)"
   ]
  },
  {
   "cell_type": "code",
   "execution_count": 38,
   "metadata": {
    "scrolled": true
   },
   "outputs": [
    {
     "data": {
      "text/html": [
       "<div>\n",
       "<style scoped>\n",
       "    .dataframe tbody tr th:only-of-type {\n",
       "        vertical-align: middle;\n",
       "    }\n",
       "\n",
       "    .dataframe tbody tr th {\n",
       "        vertical-align: top;\n",
       "    }\n",
       "\n",
       "    .dataframe thead th {\n",
       "        text-align: right;\n",
       "    }\n",
       "</style>\n",
       "<table border=\"1\" class=\"dataframe\">\n",
       "  <thead>\n",
       "    <tr style=\"text-align: right;\">\n",
       "      <th></th>\n",
       "      <th>word</th>\n",
       "      <th>freq</th>\n",
       "      <th>language</th>\n",
       "      <th>language_id</th>\n",
       "      <th>pred_id</th>\n",
       "      <th>probas</th>\n",
       "      <th>pred</th>\n",
       "    </tr>\n",
       "  </thead>\n",
       "  <tbody>\n",
       "    <tr>\n",
       "      <th>10295</th>\n",
       "      <td>relationships</td>\n",
       "      <td>10</td>\n",
       "      <td>en</td>\n",
       "      <td>1</td>\n",
       "      <td>0</td>\n",
       "      <td>7.103497e-10</td>\n",
       "      <td>de</td>\n",
       "    </tr>\n",
       "    <tr>\n",
       "      <th>12438</th>\n",
       "      <td>probabilmente</td>\n",
       "      <td>34</td>\n",
       "      <td>it</td>\n",
       "      <td>3</td>\n",
       "      <td>2</td>\n",
       "      <td>4.596022e-07</td>\n",
       "      <td>fr</td>\n",
       "    </tr>\n",
       "    <tr>\n",
       "      <th>13455</th>\n",
       "      <td>professionista</td>\n",
       "      <td>11</td>\n",
       "      <td>it</td>\n",
       "      <td>3</td>\n",
       "      <td>3</td>\n",
       "      <td>9.136772e-07</td>\n",
       "      <td>it</td>\n",
       "    </tr>\n",
       "    <tr>\n",
       "      <th>1995</th>\n",
       "      <td>beeinflusst</td>\n",
       "      <td>6</td>\n",
       "      <td>de</td>\n",
       "      <td>0</td>\n",
       "      <td>2</td>\n",
       "      <td>5.134277e-06</td>\n",
       "      <td>fr</td>\n",
       "    </tr>\n",
       "    <tr>\n",
       "      <th>1131</th>\n",
       "      <td>ausgeschlossen</td>\n",
       "      <td>10</td>\n",
       "      <td>de</td>\n",
       "      <td>0</td>\n",
       "      <td>4</td>\n",
       "      <td>1.422097e-05</td>\n",
       "      <td>sp</td>\n",
       "    </tr>\n",
       "    <tr>\n",
       "      <th>3144</th>\n",
       "      <td>allemande</td>\n",
       "      <td>20</td>\n",
       "      <td>fr</td>\n",
       "      <td>2</td>\n",
       "      <td>4</td>\n",
       "      <td>1.029879e-04</td>\n",
       "      <td>sp</td>\n",
       "    </tr>\n",
       "    <tr>\n",
       "      <th>11772</th>\n",
       "      <td>evaluation</td>\n",
       "      <td>5</td>\n",
       "      <td>en</td>\n",
       "      <td>1</td>\n",
       "      <td>4</td>\n",
       "      <td>2.869701e-04</td>\n",
       "      <td>sp</td>\n",
       "    </tr>\n",
       "    <tr>\n",
       "      <th>11136</th>\n",
       "      <td>pennsylvania</td>\n",
       "      <td>6</td>\n",
       "      <td>en</td>\n",
       "      <td>1</td>\n",
       "      <td>3</td>\n",
       "      <td>3.242664e-04</td>\n",
       "      <td>it</td>\n",
       "    </tr>\n",
       "    <tr>\n",
       "      <th>3792</th>\n",
       "      <td>allemandes</td>\n",
       "      <td>10</td>\n",
       "      <td>fr</td>\n",
       "      <td>2</td>\n",
       "      <td>4</td>\n",
       "      <td>3.260454e-04</td>\n",
       "      <td>sp</td>\n",
       "    </tr>\n",
       "    <tr>\n",
       "      <th>4779</th>\n",
       "      <td>intermediaire</td>\n",
       "      <td>6</td>\n",
       "      <td>fr</td>\n",
       "      <td>2</td>\n",
       "      <td>4</td>\n",
       "      <td>5.023709e-04</td>\n",
       "      <td>sp</td>\n",
       "    </tr>\n",
       "  </tbody>\n",
       "</table>\n",
       "</div>"
      ],
      "text/plain": [
       "                 word  freq language  language_id  pred_id        probas pred\n",
       "10295   relationships    10       en            1        0  7.103497e-10   de\n",
       "12438   probabilmente    34       it            3        2  4.596022e-07   fr\n",
       "13455  professionista    11       it            3        3  9.136772e-07   it\n",
       "1995      beeinflusst     6       de            0        2  5.134277e-06   fr\n",
       "1131   ausgeschlossen    10       de            0        4  1.422097e-05   sp\n",
       "3144        allemande    20       fr            2        4  1.029879e-04   sp\n",
       "11772      evaluation     5       en            1        4  2.869701e-04   sp\n",
       "11136    pennsylvania     6       en            1        3  3.242664e-04   it\n",
       "3792       allemandes    10       fr            2        4  3.260454e-04   sp\n",
       "4779    intermediaire     6       fr            2        4  5.023709e-04   sp"
      ]
     },
     "execution_count": 38,
     "metadata": {},
     "output_type": "execute_result"
    }
   ],
   "source": [
    "# Least confident predictions\n",
    "df_val.sort_values('probas').head(10)"
   ]
  },
  {
   "cell_type": "code",
   "execution_count": null,
   "metadata": {},
   "outputs": [],
   "source": []
  },
  {
   "cell_type": "code",
   "execution_count": null,
   "metadata": {},
   "outputs": [],
   "source": []
  },
  {
   "cell_type": "code",
   "execution_count": 39,
   "metadata": {},
   "outputs": [],
   "source": [
    "def plot_confusion_matrix(cm, classes,\n",
    "                          normalize=False,\n",
    "                          title='Confusion matrix',\n",
    "                          cmap=plt.cm.Blues):\n",
    "    \"\"\"\n",
    "    This function prints and plots the confusion matrix.\n",
    "    Normalization can be applied by setting `normalize=True`.\n",
    "    \"\"\"\n",
    "    if normalize:\n",
    "        cm = cm.astype('float') / cm.sum(axis=1)[:, np.newaxis]\n",
    "        print(\"Normalized confusion matrix\")\n",
    "    else:\n",
    "        print('Confusion matrix, without normalization')\n",
    "\n",
    "    print(cm)\n",
    "\n",
    "    plt.imshow(cm, interpolation='nearest', cmap=cmap)\n",
    "    plt.title(title)\n",
    "    plt.colorbar()\n",
    "    tick_marks = np.arange(len(classes))\n",
    "    plt.xticks(tick_marks, classes, rotation=45)\n",
    "    plt.yticks(tick_marks, classes)\n",
    "\n",
    "    fmt = '.2f' if normalize else 'd'\n",
    "    thresh = cm.max() / 2.\n",
    "    for i, j in itertools.product(range(cm.shape[0]), range(cm.shape[1])):\n",
    "        plt.text(j, i, format(cm[i, j], fmt),\n",
    "                 horizontalalignment=\"center\",\n",
    "                 color=\"white\" if cm[i, j] > thresh else \"black\")\n",
    "\n",
    "    plt.ylabel('True label')\n",
    "    plt.xlabel('Predicted label')\n",
    "    plt.tight_layout()"
   ]
  },
  {
   "cell_type": "code",
   "execution_count": 40,
   "metadata": {},
   "outputs": [],
   "source": [
    "cm = confusion_matrix(df_val['language'], df_val['pred'])"
   ]
  },
  {
   "cell_type": "code",
   "execution_count": 41,
   "metadata": {},
   "outputs": [
    {
     "name": "stdout",
     "output_type": "stream",
     "text": [
      "Confusion matrix, without normalization\n",
      "[[ 921  183  137   53   43]\n",
      " [ 141 1051  284  119  127]\n",
      " [  94  220  903  159   92]\n",
      " [  45   74  177 1175  256]\n",
      " [  41   98  180  254  980]]\n"
     ]
    },
    {
     "data": {
      "image/png": "[encoded data removed]",
      "text/plain": [
       "<Figure size 432x288 with 2 Axes>"
      ]
     },
     "metadata": {
      "needs_background": "light"
     },
     "output_type": "display_data"
    }
   ],
   "source": [
    "plot_confusion_matrix(cm, languages)"
   ]
  },
  {
   "cell_type": "code",
   "execution_count": 42,
   "metadata": {},
   "outputs": [
    {
     "name": "stdout",
     "output_type": "stream",
     "text": [
      "Normalized confusion matrix\n",
      "[[0.68886 0.13687 0.10247 0.03964 0.03216]\n",
      " [0.08188 0.61034 0.16492 0.06911 0.07375]\n",
      " [0.06403 0.14986 0.61512 0.10831 0.06267]\n",
      " [0.02606 0.04285 0.10249 0.68037 0.14823]\n",
      " [0.0264  0.0631  0.1159  0.16355 0.63104]]\n"
     ]
    },
    {
     "data": {
      "image/png": "[encoded data removed]",
      "text/plain": [
       "<Figure size 432x288 with 2 Axes>"
      ]
     },
     "metadata": {
      "needs_background": "light"
     },
     "output_type": "display_data"
    }
   ],
   "source": [
    "plot_confusion_matrix(cm, languages, normalize=True)"
   ]
  },
  {
   "cell_type": "code",
   "execution_count": null,
   "metadata": {},
   "outputs": [],
   "source": []
  },
  {
   "cell_type": "code",
   "execution_count": null,
   "metadata": {},
   "outputs": [],
   "source": []
  },
  {
   "cell_type": "code",
   "execution_count": null,
   "metadata": {},
   "outputs": [],
   "source": []
  },
  {
   "cell_type": "code",
   "execution_count": null,
   "metadata": {},
   "outputs": [],
   "source": []
  },
  {
   "cell_type": "markdown",
   "metadata": {},
   "source": [
    "# Embedded features model"
   ]
  },
  {
   "cell_type": "code",
   "execution_count": 43,
   "metadata": {},
   "outputs": [],
   "source": [
    "data, y_idxs, _ = proc_df(feats, 'language')"
   ]
  },
  {
   "cell_type": "code",
   "execution_count": 44,
   "metadata": {},
   "outputs": [
    {
     "data": {
      "text/html": [
       "<div>\n",
       "<style scoped>\n",
       "    .dataframe tbody tr th:only-of-type {\n",
       "        vertical-align: middle;\n",
       "    }\n",
       "\n",
       "    .dataframe tbody tr th {\n",
       "        vertical-align: top;\n",
       "    }\n",
       "\n",
       "    .dataframe thead th {\n",
       "        text-align: right;\n",
       "    }\n",
       "</style>\n",
       "<table border=\"1\" class=\"dataframe\">\n",
       "  <thead>\n",
       "    <tr style=\"text-align: right;\">\n",
       "      <th></th>\n",
       "      <th>0</th>\n",
       "      <th>1</th>\n",
       "      <th>2</th>\n",
       "      <th>3</th>\n",
       "      <th>4</th>\n",
       "      <th>5</th>\n",
       "      <th>6</th>\n",
       "      <th>7</th>\n",
       "      <th>8</th>\n",
       "      <th>9</th>\n",
       "      <th>10</th>\n",
       "      <th>11</th>\n",
       "      <th>12</th>\n",
       "      <th>13</th>\n",
       "      <th>14</th>\n",
       "    </tr>\n",
       "  </thead>\n",
       "  <tbody>\n",
       "    <tr>\n",
       "      <th>0</th>\n",
       "      <td>23</td>\n",
       "      <td>21</td>\n",
       "      <td>18</td>\n",
       "      <td>4</td>\n",
       "      <td>5</td>\n",
       "      <td>0</td>\n",
       "      <td>0</td>\n",
       "      <td>0</td>\n",
       "      <td>0</td>\n",
       "      <td>0</td>\n",
       "      <td>0</td>\n",
       "      <td>0</td>\n",
       "      <td>0</td>\n",
       "      <td>0</td>\n",
       "      <td>0</td>\n",
       "    </tr>\n",
       "    <tr>\n",
       "      <th>1</th>\n",
       "      <td>19</td>\n",
       "      <td>9</td>\n",
       "      <td>3</td>\n",
       "      <td>8</td>\n",
       "      <td>0</td>\n",
       "      <td>0</td>\n",
       "      <td>0</td>\n",
       "      <td>0</td>\n",
       "      <td>0</td>\n",
       "      <td>0</td>\n",
       "      <td>0</td>\n",
       "      <td>0</td>\n",
       "      <td>0</td>\n",
       "      <td>0</td>\n",
       "      <td>0</td>\n",
       "    </tr>\n",
       "    <tr>\n",
       "      <th>2</th>\n",
       "      <td>5</td>\n",
       "      <td>9</td>\n",
       "      <td>14</td>\n",
       "      <td>5</td>\n",
       "      <td>0</td>\n",
       "      <td>0</td>\n",
       "      <td>0</td>\n",
       "      <td>0</td>\n",
       "      <td>0</td>\n",
       "      <td>0</td>\n",
       "      <td>0</td>\n",
       "      <td>0</td>\n",
       "      <td>0</td>\n",
       "      <td>0</td>\n",
       "      <td>0</td>\n",
       "    </tr>\n",
       "    <tr>\n",
       "      <th>3</th>\n",
       "      <td>1</td>\n",
       "      <td>21</td>\n",
       "      <td>3</td>\n",
       "      <td>8</td>\n",
       "      <td>0</td>\n",
       "      <td>0</td>\n",
       "      <td>0</td>\n",
       "      <td>0</td>\n",
       "      <td>0</td>\n",
       "      <td>0</td>\n",
       "      <td>0</td>\n",
       "      <td>0</td>\n",
       "      <td>0</td>\n",
       "      <td>0</td>\n",
       "      <td>0</td>\n",
       "    </tr>\n",
       "    <tr>\n",
       "      <th>4</th>\n",
       "      <td>14</td>\n",
       "      <td>1</td>\n",
       "      <td>3</td>\n",
       "      <td>8</td>\n",
       "      <td>0</td>\n",
       "      <td>0</td>\n",
       "      <td>0</td>\n",
       "      <td>0</td>\n",
       "      <td>0</td>\n",
       "      <td>0</td>\n",
       "      <td>0</td>\n",
       "      <td>0</td>\n",
       "      <td>0</td>\n",
       "      <td>0</td>\n",
       "      <td>0</td>\n",
       "    </tr>\n",
       "  </tbody>\n",
       "</table>\n",
       "</div>"
      ],
      "text/plain": [
       "   0   1   2   3   4   5   6   7   8   9   10  11  12  13  14\n",
       "0  23  21  18   4   5   0   0   0   0   0   0   0   0   0   0\n",
       "1  19   9   3   8   0   0   0   0   0   0   0   0   0   0   0\n",
       "2   5   9  14   5   0   0   0   0   0   0   0   0   0   0   0\n",
       "3   1  21   3   8   0   0   0   0   0   0   0   0   0   0   0\n",
       "4  14   1   3   8   0   0   0   0   0   0   0   0   0   0   0"
      ]
     },
     "execution_count": 44,
     "metadata": {},
     "output_type": "execute_result"
    }
   ],
   "source": [
    "data.head()"
   ]
  },
  {
   "cell_type": "code",
   "execution_count": 45,
   "metadata": {},
   "outputs": [
    {
     "data": {
      "text/plain": [
       "array([0, 0, 0, ..., 3, 3, 3], dtype=int8)"
      ]
     },
     "execution_count": 45,
     "metadata": {},
     "output_type": "execute_result"
    }
   ],
   "source": [
    "y_idxs"
   ]
  },
  {
   "cell_type": "code",
   "execution_count": 46,
   "metadata": {},
   "outputs": [],
   "source": [
    "y_dummy = np.zeros((len(y_idxs), len(languages)))\n",
    "y_dummy[np.arange(len(y_idxs)), y_idxs] = 1"
   ]
  },
  {
   "cell_type": "code",
   "execution_count": 47,
   "metadata": {},
   "outputs": [
    {
     "data": {
      "text/plain": [
       "array([[1., 0., 0., 0., 0.],\n",
       "       [1., 0., 0., 0., 0.],\n",
       "       [1., 0., 0., 0., 0.],\n",
       "       ...,\n",
       "       [0., 0., 0., 1., 0.],\n",
       "       [0., 0., 0., 1., 0.],\n",
       "       [0., 0., 0., 1., 0.]])"
      ]
     },
     "execution_count": 47,
     "metadata": {},
     "output_type": "execute_result"
    }
   ],
   "source": [
    "y_dummy"
   ]
  },
  {
   "cell_type": "code",
   "execution_count": null,
   "metadata": {},
   "outputs": [],
   "source": []
  },
  {
   "cell_type": "code",
   "execution_count": null,
   "metadata": {},
   "outputs": [],
   "source": []
  },
  {
   "cell_type": "markdown",
   "metadata": {},
   "source": [
    "### Model"
   ]
  },
  {
   "cell_type": "code",
   "execution_count": 66,
   "metadata": {},
   "outputs": [],
   "source": [
    "PATH = 'data/words/'\n",
    "md = ColumnarModelData.from_data_frame(PATH, val_idxs, df=data, y=y_dummy, cat_flds=list(range(MAX_LEN)), bs=128,\n",
    "                                       is_reg=False, is_multi=True)"
   ]
  },
  {
   "cell_type": "code",
   "execution_count": 67,
   "metadata": {},
   "outputs": [],
   "source": [
    "cat_sz = [(c, len(feats[c].cat.categories)+1) for c in list(range(MAX_LEN))]"
   ]
  },
  {
   "cell_type": "code",
   "execution_count": 68,
   "metadata": {},
   "outputs": [
    {
     "data": {
      "text/plain": [
       "[(0, 27),\n",
       " (1, 27),\n",
       " (2, 27),\n",
       " (3, 27),\n",
       " (4, 27),\n",
       " (5, 27),\n",
       " (6, 27),\n",
       " (7, 27),\n",
       " (8, 27),\n",
       " (9, 27),\n",
       " (10, 27),\n",
       " (11, 22),\n",
       " (12, 20),\n",
       " (13, 18),\n",
       " (14, 12)]"
      ]
     },
     "execution_count": 68,
     "metadata": {},
     "output_type": "execute_result"
    }
   ],
   "source": [
    "cat_sz"
   ]
  },
  {
   "cell_type": "code",
   "execution_count": 69,
   "metadata": {},
   "outputs": [],
   "source": [
    "emb_szs = [(c, 13) for _, c in cat_sz]"
   ]
  },
  {
   "cell_type": "code",
   "execution_count": 70,
   "metadata": {},
   "outputs": [],
   "source": [
    "learn = md.get_learner(emb_szs, n_cont=0, emb_drop=0.4, out_sz=len(languages), szs=[500], drops=[0.3])"
   ]
  },
  {
   "cell_type": "code",
   "execution_count": 71,
   "metadata": {},
   "outputs": [
    {
     "data": {
      "application/vnd.jupyter.widget-view+json": {
       "model_id": "a004fb7e5db34291ae2b77fbe78da1a0",
       "version_major": 2,
       "version_minor": 0
      },
      "text/plain": [
       "HBox(children=(IntProgress(value=0, description='Epoch', max=1, style=ProgressStyle(description_width='initial…"
      ]
     },
     "metadata": {},
     "output_type": "display_data"
    },
    {
     "name": "stdout",
     "output_type": "stream",
     "text": [
      "epoch      trn_loss   val_loss                              \n",
      "    0      1.941549   5.526195  \n",
      "\n"
     ]
    }
   ],
   "source": [
    "learn.lr_find()"
   ]
  },
  {
   "cell_type": "code",
   "execution_count": 72,
   "metadata": {},
   "outputs": [
    {
     "data": {
      "image/png": "[encoded data removed]",
      "text/plain": [
       "<Figure size 432x288 with 1 Axes>"
      ]
     },
     "metadata": {
      "needs_background": "light"
     },
     "output_type": "display_data"
    }
   ],
   "source": [
    "learn.sched.plot()"
   ]
  },
  {
   "cell_type": "code",
   "execution_count": 73,
   "metadata": {},
   "outputs": [],
   "source": [
    "def accuracy(preds, targs):\n",
    "    _, preds = torch.max(preds, dim=1)\n",
    "    _, targs = torch.max(targs, dim=1)\n",
    "    return (preds==targs).float().mean()"
   ]
  },
  {
   "cell_type": "code",
   "execution_count": 74,
   "metadata": {
    "scrolled": false
   },
   "outputs": [
    {
     "data": {
      "application/vnd.jupyter.widget-view+json": {
       "model_id": "b831db0c97c946b6b7e318a34b7948a8",
       "version_major": 2,
       "version_minor": 0
      },
      "text/plain": [
       "HBox(children=(IntProgress(value=0, description='Epoch', max=105, style=ProgressStyle(description_width='initi…"
      ]
     },
     "metadata": {},
     "output_type": "display_data"
    },
    {
     "name": "stdout",
     "output_type": "stream",
     "text": [
      "epoch      trn_loss   val_loss   accuracy                   \n",
      "    0      0.630747   0.487675   0.312028  \n",
      "    1      0.477033   0.388459   0.518637                   \n",
      "    2      0.413439   0.367346   0.565006                   \n",
      "    3      0.379994   0.343867   0.608172                   \n",
      "    4      0.363009   0.334259   0.62508                    \n",
      "    5      0.347221   0.325059   0.639298                   \n",
      "    6      0.334123   0.320451   0.636992                   \n",
      "    7      0.325597   0.311241   0.663251                   \n",
      "    8      0.316402   0.306298   0.667094                   \n",
      "    9      0.304867   0.300592   0.671064                   \n",
      "    10     0.297553   0.300941   0.677725                   \n",
      "    11     0.29147    0.296426   0.680927                   \n",
      "    12     0.284726   0.294525   0.68208                    \n",
      "    13     0.283771   0.294464   0.682849                   \n",
      "    14     0.282333   0.294317   0.68208                    \n",
      "    15     0.307871   0.312501   0.655309                   \n",
      "    16     0.317142   0.317905   0.655822                   \n",
      "    17     0.318889   0.315329   0.660305                   \n",
      "    18     0.318995   0.312184   0.657103                   \n",
      "    19     0.312714   0.309049   0.663763                   \n",
      "    20     0.308221   0.29896    0.68208                    \n",
      "    21     0.307254   0.303725   0.676572                   \n",
      "    22     0.299024   0.297108   0.691943                   \n",
      "    23     0.29264    0.297459   0.686948                   \n",
      "    24     0.291748   0.298178   0.67939                    \n",
      "    25     0.288205   0.294223   0.692455                   \n",
      "    26     0.283671   0.295916   0.687972                   \n",
      "    27     0.276949   0.292972   0.696426                   \n",
      "    28     0.27372    0.290148   0.699885                   \n",
      "    29     0.270159   0.289733   0.703727                   \n",
      "    30     0.265135   0.288221   0.700013                   \n",
      "    31     0.260974   0.285962   0.702062                   \n",
      "    32     0.255749   0.285763   0.70424                    \n",
      "    33     0.250216   0.279082   0.711157                   \n",
      "    34     0.248739   0.281214   0.707954                   \n",
      "    35     0.247135   0.279928   0.711285                   \n",
      "    36     0.243812   0.276809   0.713718                   \n",
      "    37     0.239634   0.277074   0.711029                   \n",
      "    38     0.236217   0.276999   0.7109                     \n",
      "    39     0.236082   0.278328   0.711541                   \n",
      "    40     0.234594   0.276668   0.713718                   \n",
      "    41     0.234077   0.275969   0.715384                   \n",
      "    42     0.231446   0.276267   0.714359                   \n",
      "    43     0.232408   0.276045   0.714359                   \n",
      "    44     0.234367   0.276046   0.714359                   \n",
      "    45     0.25861    0.289665   0.691559                   \n",
      "    46     0.274561   0.293459   0.697579                   \n",
      "    47     0.278496   0.298153   0.682336                   \n",
      "    48     0.27982    0.302159   0.680415                   \n",
      "    49     0.28158    0.300566   0.681312                   \n",
      "    50     0.275731   0.293517   0.697323                   \n",
      "    51     0.279393   0.293654   0.693224                   \n",
      "    52     0.277573   0.293173   0.69553                    \n",
      "    53     0.278573   0.297437   0.688613                   \n",
      "    54     0.27359    0.297709   0.681824                   \n",
      "    55     0.269998   0.286792   0.699244                   \n",
      "    56     0.26892    0.294714   0.689638                   \n",
      "    57     0.264686   0.290014   0.695402                   \n",
      "    58     0.265324   0.295268   0.695273                   \n",
      "    59     0.264592   0.297367   0.694889                   \n",
      "    60     0.2606     0.294508   0.697067                   \n",
      "    61     0.261684   0.293517   0.695786                   \n",
      "    62     0.256954   0.291942   0.708723                   \n",
      "    63     0.256531   0.293914   0.696298                   \n",
      "    64     0.248884   0.293242   0.697067                   \n",
      "    65     0.249175   0.290243   0.705393                   \n",
      "    66     0.248024   0.286909   0.707314                   \n",
      "    67     0.247741   0.292055   0.707826                   \n",
      "    68     0.245063   0.290569   0.702703                   \n",
      "    69     0.243926   0.28908    0.70757                    \n",
      "    70     0.240731   0.288399   0.710516                   \n",
      "    71     0.240594   0.296022   0.698091                   \n",
      "    72     0.238369   0.28548    0.711413                   \n",
      "    73     0.235792   0.286902   0.706161                   \n",
      "    74     0.231499   0.287337   0.712438                   \n",
      "    75     0.225637   0.285555   0.709491                   \n",
      "    76     0.224222   0.281192   0.718586                   \n",
      "    77     0.226646   0.284198   0.711797                   \n",
      "    78     0.223814   0.282212   0.716408                   \n",
      "    79     0.222492   0.281388   0.718714                   \n",
      "    80     0.22254    0.281103   0.717305                   \n",
      "    81     0.21772    0.280206   0.71897                    \n",
      "    82     0.216676   0.279864   0.722044                   \n",
      "    83     0.212732   0.280991   0.717305                   \n",
      "    84     0.211594   0.280478   0.724606                   \n",
      "    85     0.212446   0.280377   0.722941                   \n",
      "    86     0.212539   0.280494   0.725118                   \n",
      "    87     0.205816   0.281351   0.725118                   \n",
      "    88     0.208516   0.281434   0.725759                   \n",
      "    89     0.206264   0.280075   0.723197                   \n",
      "    90     0.208335   0.281669   0.721532                   \n",
      "    91     0.203741   0.279668   0.724222                   \n",
      "    92     0.203303   0.279572   0.724734                   \n",
      "    93     0.205316   0.279682   0.726143                   \n",
      "    94     0.201863   0.27925    0.725887                   \n",
      "    95     0.202289   0.278723   0.726271                   \n",
      "    96     0.201576   0.279031   0.723966                   \n",
      "    97     0.201556   0.27876    0.724734                   \n",
      "    98     0.199199   0.27894    0.724606                   \n",
      "    99     0.201442   0.27875    0.726015                   \n",
      "   100     0.200285   0.278964   0.725759                   \n",
      "   101     0.20037    0.278879   0.725503                   \n",
      "   102     0.198965   0.278883   0.725503                   \n",
      "   103     0.198079   0.278875   0.725375                   \n",
      "   104     0.198269   0.278869   0.725375                   \n",
      "\n"
     ]
    },
    {
     "data": {
      "text/plain": [
       "[array([0.27887]), 0.7253746637632894]"
      ]
     },
     "execution_count": 74,
     "metadata": {},
     "output_type": "execute_result"
    }
   ],
   "source": [
    "learn.fit(0.01, n_cycle=3, cycle_len=15, cycle_mult=2, metrics=[accuracy])"
   ]
  },
  {
   "cell_type": "code",
   "execution_count": null,
   "metadata": {},
   "outputs": [],
   "source": []
  },
  {
   "cell_type": "code",
   "execution_count": null,
   "metadata": {},
   "outputs": [],
   "source": []
  },
  {
   "cell_type": "markdown",
   "metadata": {},
   "source": [
    "### Predict and enrich validation dataset for analysis"
   ]
  },
  {
   "cell_type": "code",
   "execution_count": 75,
   "metadata": {},
   "outputs": [],
   "source": [
    "df_val = df.iloc[val_idxs]"
   ]
  },
  {
   "cell_type": "code",
   "execution_count": 76,
   "metadata": {},
   "outputs": [
    {
     "name": "stderr",
     "output_type": "stream",
     "text": [
      "/home/quentin/anaconda3/envs/fastai-cpu/lib/python3.6/site-packages/ipykernel_launcher.py:2: SettingWithCopyWarning: \n",
      "A value is trying to be set on a copy of a slice from a DataFrame.\n",
      "Try using .loc[row_indexer,col_indexer] = value instead\n",
      "\n",
      "See the caveats in the documentation: http://pandas.pydata.org/pandas-docs/stable/indexing.html#indexing-view-versus-copy\n",
      "  \n"
     ]
    }
   ],
   "source": [
    "labels = np.argmax(y_dummy[val_idxs], axis=1)\n",
    "df_val['language_id'] = labels"
   ]
  },
  {
   "cell_type": "code",
   "execution_count": 77,
   "metadata": {},
   "outputs": [
    {
     "name": "stderr",
     "output_type": "stream",
     "text": [
      "/home/quentin/anaconda3/envs/fastai-cpu/lib/python3.6/site-packages/ipykernel_launcher.py:4: SettingWithCopyWarning: \n",
      "A value is trying to be set on a copy of a slice from a DataFrame.\n",
      "Try using .loc[row_indexer,col_indexer] = value instead\n",
      "\n",
      "See the caveats in the documentation: http://pandas.pydata.org/pandas-docs/stable/indexing.html#indexing-view-versus-copy\n",
      "  after removing the cwd from sys.path.\n",
      "/home/quentin/anaconda3/envs/fastai-cpu/lib/python3.6/site-packages/ipykernel_launcher.py:5: SettingWithCopyWarning: \n",
      "A value is trying to be set on a copy of a slice from a DataFrame.\n",
      "Try using .loc[row_indexer,col_indexer] = value instead\n",
      "\n",
      "See the caveats in the documentation: http://pandas.pydata.org/pandas-docs/stable/indexing.html#indexing-view-versus-copy\n",
      "  \"\"\"\n"
     ]
    }
   ],
   "source": [
    "preds_dummy = learn.predict_array(x_cat=data.iloc[val_idxs], x_cont=[0])\n",
    "preds = np.argmax(preds_dummy, axis=1)\n",
    "probas = np.max(preds_dummy, axis=1)\n",
    "df_val['pred_id'] = preds\n",
    "df_val['probas'] = probas"
   ]
  },
  {
   "cell_type": "code",
   "execution_count": 78,
   "metadata": {},
   "outputs": [
    {
     "name": "stderr",
     "output_type": "stream",
     "text": [
      "/home/quentin/anaconda3/envs/fastai-cpu/lib/python3.6/site-packages/ipykernel_launcher.py:1: SettingWithCopyWarning: \n",
      "A value is trying to be set on a copy of a slice from a DataFrame.\n",
      "Try using .loc[row_indexer,col_indexer] = value instead\n",
      "\n",
      "See the caveats in the documentation: http://pandas.pydata.org/pandas-docs/stable/indexing.html#indexing-view-versus-copy\n",
      "  \"\"\"Entry point for launching an IPython kernel.\n"
     ]
    }
   ],
   "source": [
    "df_val['pred'] = df_val['pred_id'].map(dict(enumerate(languages)))"
   ]
  },
  {
   "cell_type": "code",
   "execution_count": null,
   "metadata": {},
   "outputs": [],
   "source": []
  },
  {
   "cell_type": "code",
   "execution_count": null,
   "metadata": {},
   "outputs": [],
   "source": []
  },
  {
   "cell_type": "markdown",
   "metadata": {},
   "source": [
    "### Results analysis"
   ]
  },
  {
   "cell_type": "code",
   "execution_count": 79,
   "metadata": {},
   "outputs": [
    {
     "data": {
      "text/html": [
       "<div>\n",
       "<style scoped>\n",
       "    .dataframe tbody tr th:only-of-type {\n",
       "        vertical-align: middle;\n",
       "    }\n",
       "\n",
       "    .dataframe tbody tr th {\n",
       "        vertical-align: top;\n",
       "    }\n",
       "\n",
       "    .dataframe thead th {\n",
       "        text-align: right;\n",
       "    }\n",
       "</style>\n",
       "<table border=\"1\" class=\"dataframe\">\n",
       "  <thead>\n",
       "    <tr style=\"text-align: right;\">\n",
       "      <th></th>\n",
       "      <th>word</th>\n",
       "      <th>freq</th>\n",
       "      <th>language</th>\n",
       "      <th>language_id</th>\n",
       "      <th>pred_id</th>\n",
       "      <th>probas</th>\n",
       "      <th>pred</th>\n",
       "    </tr>\n",
       "  </thead>\n",
       "  <tbody>\n",
       "    <tr>\n",
       "      <th>2082</th>\n",
       "      <td>schwedischen</td>\n",
       "      <td>6</td>\n",
       "      <td>de</td>\n",
       "      <td>0</td>\n",
       "      <td>0</td>\n",
       "      <td>1.0</td>\n",
       "      <td>de</td>\n",
       "    </tr>\n",
       "    <tr>\n",
       "      <th>4841</th>\n",
       "      <td>olympique</td>\n",
       "      <td>6</td>\n",
       "      <td>fr</td>\n",
       "      <td>2</td>\n",
       "      <td>2</td>\n",
       "      <td>1.0</td>\n",
       "      <td>fr</td>\n",
       "    </tr>\n",
       "    <tr>\n",
       "      <th>2168</th>\n",
       "      <td>bestatigung</td>\n",
       "      <td>5</td>\n",
       "      <td>de</td>\n",
       "      <td>0</td>\n",
       "      <td>0</td>\n",
       "      <td>1.0</td>\n",
       "      <td>de</td>\n",
       "    </tr>\n",
       "    <tr>\n",
       "      <th>4139</th>\n",
       "      <td>cardiaque</td>\n",
       "      <td>8</td>\n",
       "      <td>fr</td>\n",
       "      <td>2</td>\n",
       "      <td>2</td>\n",
       "      <td>1.0</td>\n",
       "      <td>fr</td>\n",
       "    </tr>\n",
       "    <tr>\n",
       "      <th>5310</th>\n",
       "      <td>mecanique</td>\n",
       "      <td>5</td>\n",
       "      <td>fr</td>\n",
       "      <td>2</td>\n",
       "      <td>2</td>\n",
       "      <td>1.0</td>\n",
       "      <td>fr</td>\n",
       "    </tr>\n",
       "    <tr>\n",
       "      <th>10700</th>\n",
       "      <td>partially</td>\n",
       "      <td>8</td>\n",
       "      <td>en</td>\n",
       "      <td>1</td>\n",
       "      <td>1</td>\n",
       "      <td>1.0</td>\n",
       "      <td>en</td>\n",
       "    </tr>\n",
       "    <tr>\n",
       "      <th>558</th>\n",
       "      <td>erfolgreich</td>\n",
       "      <td>18</td>\n",
       "      <td>de</td>\n",
       "      <td>0</td>\n",
       "      <td>0</td>\n",
       "      <td>1.0</td>\n",
       "      <td>de</td>\n",
       "    </tr>\n",
       "    <tr>\n",
       "      <th>11350</th>\n",
       "      <td>hierarchy</td>\n",
       "      <td>6</td>\n",
       "      <td>en</td>\n",
       "      <td>1</td>\n",
       "      <td>1</td>\n",
       "      <td>1.0</td>\n",
       "      <td>en</td>\n",
       "    </tr>\n",
       "    <tr>\n",
       "      <th>11783</th>\n",
       "      <td>extensively</td>\n",
       "      <td>5</td>\n",
       "      <td>en</td>\n",
       "      <td>1</td>\n",
       "      <td>1</td>\n",
       "      <td>1.0</td>\n",
       "      <td>en</td>\n",
       "    </tr>\n",
       "    <tr>\n",
       "      <th>973</th>\n",
       "      <td>fertigstellung</td>\n",
       "      <td>11</td>\n",
       "      <td>de</td>\n",
       "      <td>0</td>\n",
       "      <td>0</td>\n",
       "      <td>1.0</td>\n",
       "      <td>de</td>\n",
       "    </tr>\n",
       "  </tbody>\n",
       "</table>\n",
       "</div>"
      ],
      "text/plain": [
       "                 word  freq language  language_id  pred_id  probas pred\n",
       "2082     schwedischen     6       de            0        0     1.0   de\n",
       "4841        olympique     6       fr            2        2     1.0   fr\n",
       "2168      bestatigung     5       de            0        0     1.0   de\n",
       "4139        cardiaque     8       fr            2        2     1.0   fr\n",
       "5310        mecanique     5       fr            2        2     1.0   fr\n",
       "10700       partially     8       en            1        1     1.0   en\n",
       "558       erfolgreich    18       de            0        0     1.0   de\n",
       "11350       hierarchy     6       en            1        1     1.0   en\n",
       "11783     extensively     5       en            1        1     1.0   en\n",
       "973    fertigstellung    11       de            0        0     1.0   de"
      ]
     },
     "execution_count": 79,
     "metadata": {},
     "output_type": "execute_result"
    }
   ],
   "source": [
    "# Most confident predictions\n",
    "df_val.sort_values('probas', ascending=False).head(10)"
   ]
  },
  {
   "cell_type": "code",
   "execution_count": 80,
   "metadata": {
    "scrolled": true
   },
   "outputs": [
    {
     "data": {
      "text/html": [
       "<div>\n",
       "<style scoped>\n",
       "    .dataframe tbody tr th:only-of-type {\n",
       "        vertical-align: middle;\n",
       "    }\n",
       "\n",
       "    .dataframe tbody tr th {\n",
       "        vertical-align: top;\n",
       "    }\n",
       "\n",
       "    .dataframe thead th {\n",
       "        text-align: right;\n",
       "    }\n",
       "</style>\n",
       "<table border=\"1\" class=\"dataframe\">\n",
       "  <thead>\n",
       "    <tr style=\"text-align: right;\">\n",
       "      <th></th>\n",
       "      <th>word</th>\n",
       "      <th>freq</th>\n",
       "      <th>language</th>\n",
       "      <th>language_id</th>\n",
       "      <th>pred_id</th>\n",
       "      <th>probas</th>\n",
       "      <th>pred</th>\n",
       "    </tr>\n",
       "  </thead>\n",
       "  <tbody>\n",
       "    <tr>\n",
       "      <th>5122</th>\n",
       "      <td>combinaison</td>\n",
       "      <td>5</td>\n",
       "      <td>fr</td>\n",
       "      <td>2</td>\n",
       "      <td>2</td>\n",
       "      <td>0.104428</td>\n",
       "      <td>fr</td>\n",
       "    </tr>\n",
       "    <tr>\n",
       "      <th>11932</th>\n",
       "      <td>overhead</td>\n",
       "      <td>5</td>\n",
       "      <td>en</td>\n",
       "      <td>1</td>\n",
       "      <td>4</td>\n",
       "      <td>0.139182</td>\n",
       "      <td>sp</td>\n",
       "    </tr>\n",
       "    <tr>\n",
       "      <th>11935</th>\n",
       "      <td>participating</td>\n",
       "      <td>5</td>\n",
       "      <td>en</td>\n",
       "      <td>1</td>\n",
       "      <td>3</td>\n",
       "      <td>0.154769</td>\n",
       "      <td>it</td>\n",
       "    </tr>\n",
       "    <tr>\n",
       "      <th>4688</th>\n",
       "      <td>comparaison</td>\n",
       "      <td>6</td>\n",
       "      <td>fr</td>\n",
       "      <td>2</td>\n",
       "      <td>2</td>\n",
       "      <td>0.158430</td>\n",
       "      <td>fr</td>\n",
       "    </tr>\n",
       "    <tr>\n",
       "      <th>10801</th>\n",
       "      <td>achievement</td>\n",
       "      <td>7</td>\n",
       "      <td>en</td>\n",
       "      <td>1</td>\n",
       "      <td>2</td>\n",
       "      <td>0.160486</td>\n",
       "      <td>fr</td>\n",
       "    </tr>\n",
       "    <tr>\n",
       "      <th>8987</th>\n",
       "      <td>official</td>\n",
       "      <td>43</td>\n",
       "      <td>en</td>\n",
       "      <td>1</td>\n",
       "      <td>3</td>\n",
       "      <td>0.167275</td>\n",
       "      <td>it</td>\n",
       "    </tr>\n",
       "    <tr>\n",
       "      <th>9431</th>\n",
       "      <td>achieve</td>\n",
       "      <td>20</td>\n",
       "      <td>en</td>\n",
       "      <td>1</td>\n",
       "      <td>2</td>\n",
       "      <td>0.168321</td>\n",
       "      <td>fr</td>\n",
       "    </tr>\n",
       "    <tr>\n",
       "      <th>10116</th>\n",
       "      <td>greatest</td>\n",
       "      <td>11</td>\n",
       "      <td>en</td>\n",
       "      <td>1</td>\n",
       "      <td>1</td>\n",
       "      <td>0.168377</td>\n",
       "      <td>en</td>\n",
       "    </tr>\n",
       "    <tr>\n",
       "      <th>10833</th>\n",
       "      <td>civilian</td>\n",
       "      <td>7</td>\n",
       "      <td>en</td>\n",
       "      <td>1</td>\n",
       "      <td>4</td>\n",
       "      <td>0.170138</td>\n",
       "      <td>sp</td>\n",
       "    </tr>\n",
       "    <tr>\n",
       "      <th>9895</th>\n",
       "      <td>mixture</td>\n",
       "      <td>13</td>\n",
       "      <td>en</td>\n",
       "      <td>1</td>\n",
       "      <td>2</td>\n",
       "      <td>0.171346</td>\n",
       "      <td>fr</td>\n",
       "    </tr>\n",
       "  </tbody>\n",
       "</table>\n",
       "</div>"
      ],
      "text/plain": [
       "                word  freq language  language_id  pred_id    probas pred\n",
       "5122     combinaison     5       fr            2        2  0.104428   fr\n",
       "11932       overhead     5       en            1        4  0.139182   sp\n",
       "11935  participating     5       en            1        3  0.154769   it\n",
       "4688     comparaison     6       fr            2        2  0.158430   fr\n",
       "10801    achievement     7       en            1        2  0.160486   fr\n",
       "8987        official    43       en            1        3  0.167275   it\n",
       "9431         achieve    20       en            1        2  0.168321   fr\n",
       "10116       greatest    11       en            1        1  0.168377   en\n",
       "10833       civilian     7       en            1        4  0.170138   sp\n",
       "9895         mixture    13       en            1        2  0.171346   fr"
      ]
     },
     "execution_count": 80,
     "metadata": {},
     "output_type": "execute_result"
    }
   ],
   "source": [
    "# Least confident predictions\n",
    "df_val.sort_values('probas').head(10)"
   ]
  },
  {
   "cell_type": "code",
   "execution_count": null,
   "metadata": {},
   "outputs": [],
   "source": []
  },
  {
   "cell_type": "code",
   "execution_count": null,
   "metadata": {},
   "outputs": [],
   "source": []
  },
  {
   "cell_type": "code",
   "execution_count": 81,
   "metadata": {},
   "outputs": [],
   "source": [
    "cm = confusion_matrix(labels, preds)"
   ]
  },
  {
   "cell_type": "code",
   "execution_count": 82,
   "metadata": {},
   "outputs": [
    {
     "name": "stdout",
     "output_type": "stream",
     "text": [
      "Confusion matrix, without normalization\n",
      "[[1003  125  112   59   38]\n",
      " [  98 1096  322   94  112]\n",
      " [  61  160 1031  155   61]\n",
      " [  24   25   90 1397  191]\n",
      " [  16   58  104  239 1136]]\n"
     ]
    },
    {
     "data": {
      "image/png": "[encoded data removed]",
      "text/plain": [
       "<Figure size 432x288 with 2 Axes>"
      ]
     },
     "metadata": {
      "needs_background": "light"
     },
     "output_type": "display_data"
    }
   ],
   "source": [
    "plot_confusion_matrix(cm, languages)"
   ]
  },
  {
   "cell_type": "code",
   "execution_count": 83,
   "metadata": {},
   "outputs": [
    {
     "name": "stdout",
     "output_type": "stream",
     "text": [
      "Normalized confusion matrix\n",
      "[[0.75019 0.09349 0.08377 0.04413 0.02842]\n",
      " [0.05691 0.63647 0.18699 0.05459 0.06504]\n",
      " [0.04155 0.10899 0.70232 0.10559 0.04155]\n",
      " [0.0139  0.01448 0.05211 0.80892 0.1106 ]\n",
      " [0.0103  0.03735 0.06697 0.1539  0.73149]]\n"
     ]
    },
    {
     "data": {
      "image/png": "[encoded data removed]",
      "text/plain": [
       "<Figure size 432x288 with 2 Axes>"
      ]
     },
     "metadata": {
      "needs_background": "light"
     },
     "output_type": "display_data"
    }
   ],
   "source": [
    "plot_confusion_matrix(cm, languages, normalize=True)"
   ]
  },
  {
   "cell_type": "code",
   "execution_count": null,
   "metadata": {},
   "outputs": [],
   "source": []
  },
  {
   "cell_type": "code",
   "execution_count": null,
   "metadata": {},
   "outputs": [],
   "source": []
  },
  {
   "cell_type": "code",
   "execution_count": null,
   "metadata": {},
   "outputs": [],
   "source": []
  }
 ],
 "metadata": {
  "kernelspec": {
   "display_name": "fastai",
   "language": "python",
   "name": "fastai"
  },
  "language_info": {
   "codemirror_mode": {
    "name": "ipython",
    "version": 3
   },
   "file_extension": ".py",
   "mimetype": "text/x-python",
   "name": "python",
   "nbconvert_exporter": "python",
   "pygments_lexer": "ipython3",
   "version": "3.6.8"
  }
 },
 "nbformat": 4,
 "nbformat_minor": 2
}
